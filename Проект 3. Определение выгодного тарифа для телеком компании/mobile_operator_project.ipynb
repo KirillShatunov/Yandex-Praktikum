{
 "cells": [
  {
   "cell_type": "markdown",
   "metadata": {},
   "source": [
    "# Описание проекта:\n",
    "\n",
    "    \n",
    "   В ходе аналатического проекта необходимо проанализировать два тарифа \"Ультра\" и \"Смарт\" компании «Мегалайн» — федерального оператора сотовой связи. Предварительный анализ тарифов будем проводить на небольшой выборке клиентов (500 человек). Выборка включает в себя данные о пользователе (ФИО, тариф, интернет трафик, сколько звонков и сообщений каждый отправил за 2018 год. и тд.) \n",
    "\n",
    "# Цель:\n",
    "Определить лучший тарифный план оператора, приносящий больше денежных средств.\n",
    "\n",
    "# План проекта:\n",
    " 1. Описать поведение клиентов оператора, исходя из выборки. Определить сколько минут разговора, сколько сообщений и какой объём интернет-трафика требуется пользователям каждого тарифа в месяц. Посчитать среднее количество, дисперсию и стандартное отклонение для данных параметров. Построить гистограммы. Описать распределения.\n",
    " \n",
    " \n",
    " 2. Проверить гипотезы:\n",
    "   * средняя выручка пользователей тарифов «Ультра» и «Смарт» различается.\n",
    "   * средняя выручка пользователей из Москвы отличается от выручки пользователей из других регионов.\n",
    "   \n",
    "   \n",
    " 3. Написать общий вывод о проведённом анализе\n",
    " \n",
    "# Описание тарифов:\n",
    "**Тариф «Смарт»**\n",
    "1. Ежемесячная плата: 550 рублей\n",
    "2. Включено 500 минут разговора, 50 сообщений и 15 Гб интернет-трафика\n",
    "3. Стоимость услуг сверх тарифного пакета:\n",
    "   * минута разговора: 3 рубля\n",
    "   * сообщение: 3 рубля\n",
    "   * 1 Гб интернет-трафика: 200 рублей\n",
    "   \n",
    "   \n",
    "**Тариф «Ультра»**\n",
    "1. Ежемесячная плата: 1950 рублей\n",
    "2. Включено 3000 минут разговора, 1000 сообщений и 30 Гб интернет-трафика\n",
    "3. Стоимость услуг сверх тарифного пакета:\n",
    "   * минута разговора: 1 рубль\n",
    "   * сообщение: 1 рубль\n",
    "   * 1 Гб интернет-трафика: 150 рублей"
   ]
  },
  {
   "cell_type": "markdown",
   "metadata": {},
   "source": [
    "# Оглавление\n",
    "## [Открытие данных](#1) \n",
    "## [Предобработка данных](#2) \n",
    "## [Анализ данных](#3) \n",
    "## [Проверка гипотез](#4)\n",
    "## [Общий вывод](#5)"
   ]
  },
  {
   "cell_type": "markdown",
   "metadata": {},
   "source": [
    "### Шаг 1. Откроем файл с данными и изучим общую информацию.<a id=\"1\"></a>"
   ]
  },
  {
   "cell_type": "code",
   "execution_count": 1,
   "metadata": {},
   "outputs": [
    {
     "name": "stdout",
     "output_type": "stream",
     "text": [
      "<class 'pandas.core.frame.DataFrame'>\n",
      "RangeIndex: 202607 entries, 0 to 202606\n",
      "Data columns (total 4 columns):\n",
      "id           202607 non-null object\n",
      "call_date    202607 non-null object\n",
      "duration     202607 non-null float64\n",
      "user_id      202607 non-null int64\n",
      "dtypes: float64(1), int64(1), object(2)\n",
      "memory usage: 6.2+ MB\n",
      "\n",
      "<class 'pandas.core.frame.DataFrame'>\n",
      "RangeIndex: 149396 entries, 0 to 149395\n",
      "Data columns (total 5 columns):\n",
      "Unnamed: 0      149396 non-null int64\n",
      "id              149396 non-null object\n",
      "mb_used         149396 non-null float64\n",
      "session_date    149396 non-null object\n",
      "user_id         149396 non-null int64\n",
      "dtypes: float64(1), int64(2), object(2)\n",
      "memory usage: 5.7+ MB\n",
      "\n",
      "<class 'pandas.core.frame.DataFrame'>\n",
      "RangeIndex: 123036 entries, 0 to 123035\n",
      "Data columns (total 3 columns):\n",
      "id              123036 non-null object\n",
      "message_date    123036 non-null object\n",
      "user_id         123036 non-null int64\n",
      "dtypes: int64(1), object(2)\n",
      "memory usage: 2.8+ MB\n",
      "\n",
      "<class 'pandas.core.frame.DataFrame'>\n",
      "RangeIndex: 2 entries, 0 to 1\n",
      "Data columns (total 8 columns):\n",
      "messages_included        2 non-null int64\n",
      "mb_per_month_included    2 non-null int64\n",
      "minutes_included         2 non-null int64\n",
      "rub_monthly_fee          2 non-null int64\n",
      "rub_per_gb               2 non-null int64\n",
      "rub_per_message          2 non-null int64\n",
      "rub_per_minute           2 non-null int64\n",
      "tariff_name              2 non-null object\n",
      "dtypes: int64(7), object(1)\n",
      "memory usage: 256.0+ bytes\n",
      "\n",
      "<class 'pandas.core.frame.DataFrame'>\n",
      "RangeIndex: 500 entries, 0 to 499\n",
      "Data columns (total 8 columns):\n",
      "user_id       500 non-null int64\n",
      "age           500 non-null int64\n",
      "churn_date    38 non-null object\n",
      "city          500 non-null object\n",
      "first_name    500 non-null object\n",
      "last_name     500 non-null object\n",
      "reg_date      500 non-null object\n",
      "tariff        500 non-null object\n",
      "dtypes: int64(2), object(6)\n",
      "memory usage: 31.4+ KB\n"
     ]
    }
   ],
   "source": [
    "# загрузим наши файлы и посмотрим краткую информацию о типах данных, столбцах и их содеражнии:\n",
    "import pandas as pd\n",
    "import matplotlib.pyplot as plt\n",
    "import numpy as np\n",
    "from scipy import stats as st\n",
    "import seaborn as sns\n",
    "\n",
    "import warnings\n",
    "warnings.filterwarnings('ignore')\n",
    "\n",
    "data_calls = pd.read_csv('/datasets/calls.csv')\n",
    "data_internet = pd.read_csv('/datasets/internet.csv')\n",
    "data_messages = pd.read_csv('/datasets/messages.csv')\n",
    "data_tariffs = pd.read_csv('/datasets/tariffs.csv')\n",
    "data_users = pd.read_csv('/datasets/users.csv')\n",
    "\n",
    "data_calls.info()\n",
    "print()\n",
    "data_internet.info()\n",
    "print()\n",
    "data_messages.info()\n",
    "print()\n",
    "data_tariffs.info()\n",
    "print()\n",
    "data_users.info()"
   ]
  },
  {
   "cell_type": "code",
   "execution_count": 2,
   "metadata": {},
   "outputs": [
    {
     "data": {
      "text/html": [
       "<div>\n",
       "<style scoped>\n",
       "    .dataframe tbody tr th:only-of-type {\n",
       "        vertical-align: middle;\n",
       "    }\n",
       "\n",
       "    .dataframe tbody tr th {\n",
       "        vertical-align: top;\n",
       "    }\n",
       "\n",
       "    .dataframe thead th {\n",
       "        text-align: right;\n",
       "    }\n",
       "</style>\n",
       "<table border=\"1\" class=\"dataframe\">\n",
       "  <thead>\n",
       "    <tr style=\"text-align: right;\">\n",
       "      <th></th>\n",
       "      <th>id</th>\n",
       "      <th>call_date</th>\n",
       "      <th>duration</th>\n",
       "      <th>user_id</th>\n",
       "    </tr>\n",
       "  </thead>\n",
       "  <tbody>\n",
       "    <tr>\n",
       "      <td>0</td>\n",
       "      <td>1000_0</td>\n",
       "      <td>2018-07-25</td>\n",
       "      <td>0.00</td>\n",
       "      <td>1000</td>\n",
       "    </tr>\n",
       "    <tr>\n",
       "      <td>1</td>\n",
       "      <td>1000_1</td>\n",
       "      <td>2018-08-17</td>\n",
       "      <td>0.00</td>\n",
       "      <td>1000</td>\n",
       "    </tr>\n",
       "    <tr>\n",
       "      <td>2</td>\n",
       "      <td>1000_2</td>\n",
       "      <td>2018-06-11</td>\n",
       "      <td>2.85</td>\n",
       "      <td>1000</td>\n",
       "    </tr>\n",
       "    <tr>\n",
       "      <td>3</td>\n",
       "      <td>1000_3</td>\n",
       "      <td>2018-09-21</td>\n",
       "      <td>13.80</td>\n",
       "      <td>1000</td>\n",
       "    </tr>\n",
       "    <tr>\n",
       "      <td>4</td>\n",
       "      <td>1000_4</td>\n",
       "      <td>2018-12-15</td>\n",
       "      <td>5.18</td>\n",
       "      <td>1000</td>\n",
       "    </tr>\n",
       "  </tbody>\n",
       "</table>\n",
       "</div>"
      ],
      "text/plain": [
       "       id   call_date  duration  user_id\n",
       "0  1000_0  2018-07-25      0.00     1000\n",
       "1  1000_1  2018-08-17      0.00     1000\n",
       "2  1000_2  2018-06-11      2.85     1000\n",
       "3  1000_3  2018-09-21     13.80     1000\n",
       "4  1000_4  2018-12-15      5.18     1000"
      ]
     },
     "execution_count": 2,
     "metadata": {},
     "output_type": "execute_result"
    }
   ],
   "source": [
    "# визуально осмотрим первые пять строк из датафрейма:\n",
    "data_calls.head()"
   ]
  },
  {
   "cell_type": "code",
   "execution_count": 3,
   "metadata": {},
   "outputs": [
    {
     "data": {
      "text/html": [
       "<div>\n",
       "<style scoped>\n",
       "    .dataframe tbody tr th:only-of-type {\n",
       "        vertical-align: middle;\n",
       "    }\n",
       "\n",
       "    .dataframe tbody tr th {\n",
       "        vertical-align: top;\n",
       "    }\n",
       "\n",
       "    .dataframe thead th {\n",
       "        text-align: right;\n",
       "    }\n",
       "</style>\n",
       "<table border=\"1\" class=\"dataframe\">\n",
       "  <thead>\n",
       "    <tr style=\"text-align: right;\">\n",
       "      <th></th>\n",
       "      <th>Unnamed: 0</th>\n",
       "      <th>id</th>\n",
       "      <th>mb_used</th>\n",
       "      <th>session_date</th>\n",
       "      <th>user_id</th>\n",
       "    </tr>\n",
       "  </thead>\n",
       "  <tbody>\n",
       "    <tr>\n",
       "      <td>0</td>\n",
       "      <td>0</td>\n",
       "      <td>1000_0</td>\n",
       "      <td>112.95</td>\n",
       "      <td>2018-11-25</td>\n",
       "      <td>1000</td>\n",
       "    </tr>\n",
       "    <tr>\n",
       "      <td>1</td>\n",
       "      <td>1</td>\n",
       "      <td>1000_1</td>\n",
       "      <td>1052.81</td>\n",
       "      <td>2018-09-07</td>\n",
       "      <td>1000</td>\n",
       "    </tr>\n",
       "    <tr>\n",
       "      <td>2</td>\n",
       "      <td>2</td>\n",
       "      <td>1000_2</td>\n",
       "      <td>1197.26</td>\n",
       "      <td>2018-06-25</td>\n",
       "      <td>1000</td>\n",
       "    </tr>\n",
       "    <tr>\n",
       "      <td>3</td>\n",
       "      <td>3</td>\n",
       "      <td>1000_3</td>\n",
       "      <td>550.27</td>\n",
       "      <td>2018-08-22</td>\n",
       "      <td>1000</td>\n",
       "    </tr>\n",
       "    <tr>\n",
       "      <td>4</td>\n",
       "      <td>4</td>\n",
       "      <td>1000_4</td>\n",
       "      <td>302.56</td>\n",
       "      <td>2018-09-24</td>\n",
       "      <td>1000</td>\n",
       "    </tr>\n",
       "  </tbody>\n",
       "</table>\n",
       "</div>"
      ],
      "text/plain": [
       "   Unnamed: 0      id  mb_used session_date  user_id\n",
       "0           0  1000_0   112.95   2018-11-25     1000\n",
       "1           1  1000_1  1052.81   2018-09-07     1000\n",
       "2           2  1000_2  1197.26   2018-06-25     1000\n",
       "3           3  1000_3   550.27   2018-08-22     1000\n",
       "4           4  1000_4   302.56   2018-09-24     1000"
      ]
     },
     "execution_count": 3,
     "metadata": {},
     "output_type": "execute_result"
    }
   ],
   "source": [
    "# визуально осмотрим первые пять строк из датафрейма:\n",
    "data_internet.head()"
   ]
  },
  {
   "cell_type": "code",
   "execution_count": 4,
   "metadata": {},
   "outputs": [
    {
     "data": {
      "text/html": [
       "<div>\n",
       "<style scoped>\n",
       "    .dataframe tbody tr th:only-of-type {\n",
       "        vertical-align: middle;\n",
       "    }\n",
       "\n",
       "    .dataframe tbody tr th {\n",
       "        vertical-align: top;\n",
       "    }\n",
       "\n",
       "    .dataframe thead th {\n",
       "        text-align: right;\n",
       "    }\n",
       "</style>\n",
       "<table border=\"1\" class=\"dataframe\">\n",
       "  <thead>\n",
       "    <tr style=\"text-align: right;\">\n",
       "      <th></th>\n",
       "      <th>id</th>\n",
       "      <th>message_date</th>\n",
       "      <th>user_id</th>\n",
       "    </tr>\n",
       "  </thead>\n",
       "  <tbody>\n",
       "    <tr>\n",
       "      <td>0</td>\n",
       "      <td>1000_0</td>\n",
       "      <td>2018-06-27</td>\n",
       "      <td>1000</td>\n",
       "    </tr>\n",
       "    <tr>\n",
       "      <td>1</td>\n",
       "      <td>1000_1</td>\n",
       "      <td>2018-10-08</td>\n",
       "      <td>1000</td>\n",
       "    </tr>\n",
       "    <tr>\n",
       "      <td>2</td>\n",
       "      <td>1000_2</td>\n",
       "      <td>2018-08-04</td>\n",
       "      <td>1000</td>\n",
       "    </tr>\n",
       "    <tr>\n",
       "      <td>3</td>\n",
       "      <td>1000_3</td>\n",
       "      <td>2018-06-16</td>\n",
       "      <td>1000</td>\n",
       "    </tr>\n",
       "    <tr>\n",
       "      <td>4</td>\n",
       "      <td>1000_4</td>\n",
       "      <td>2018-12-05</td>\n",
       "      <td>1000</td>\n",
       "    </tr>\n",
       "  </tbody>\n",
       "</table>\n",
       "</div>"
      ],
      "text/plain": [
       "       id message_date  user_id\n",
       "0  1000_0   2018-06-27     1000\n",
       "1  1000_1   2018-10-08     1000\n",
       "2  1000_2   2018-08-04     1000\n",
       "3  1000_3   2018-06-16     1000\n",
       "4  1000_4   2018-12-05     1000"
      ]
     },
     "execution_count": 4,
     "metadata": {},
     "output_type": "execute_result"
    }
   ],
   "source": [
    "# визуально осмотрим первые пять строк из датафрейма:\n",
    "data_messages.head()"
   ]
  },
  {
   "cell_type": "code",
   "execution_count": 5,
   "metadata": {},
   "outputs": [
    {
     "data": {
      "text/html": [
       "<div>\n",
       "<style scoped>\n",
       "    .dataframe tbody tr th:only-of-type {\n",
       "        vertical-align: middle;\n",
       "    }\n",
       "\n",
       "    .dataframe tbody tr th {\n",
       "        vertical-align: top;\n",
       "    }\n",
       "\n",
       "    .dataframe thead th {\n",
       "        text-align: right;\n",
       "    }\n",
       "</style>\n",
       "<table border=\"1\" class=\"dataframe\">\n",
       "  <thead>\n",
       "    <tr style=\"text-align: right;\">\n",
       "      <th></th>\n",
       "      <th>messages_included</th>\n",
       "      <th>mb_per_month_included</th>\n",
       "      <th>minutes_included</th>\n",
       "      <th>rub_monthly_fee</th>\n",
       "      <th>rub_per_gb</th>\n",
       "      <th>rub_per_message</th>\n",
       "      <th>rub_per_minute</th>\n",
       "      <th>tariff_name</th>\n",
       "    </tr>\n",
       "  </thead>\n",
       "  <tbody>\n",
       "    <tr>\n",
       "      <td>0</td>\n",
       "      <td>50</td>\n",
       "      <td>15360</td>\n",
       "      <td>500</td>\n",
       "      <td>550</td>\n",
       "      <td>200</td>\n",
       "      <td>3</td>\n",
       "      <td>3</td>\n",
       "      <td>smart</td>\n",
       "    </tr>\n",
       "    <tr>\n",
       "      <td>1</td>\n",
       "      <td>1000</td>\n",
       "      <td>30720</td>\n",
       "      <td>3000</td>\n",
       "      <td>1950</td>\n",
       "      <td>150</td>\n",
       "      <td>1</td>\n",
       "      <td>1</td>\n",
       "      <td>ultra</td>\n",
       "    </tr>\n",
       "  </tbody>\n",
       "</table>\n",
       "</div>"
      ],
      "text/plain": [
       "   messages_included  mb_per_month_included  minutes_included  \\\n",
       "0                 50                  15360               500   \n",
       "1               1000                  30720              3000   \n",
       "\n",
       "   rub_monthly_fee  rub_per_gb  rub_per_message  rub_per_minute tariff_name  \n",
       "0              550         200                3               3       smart  \n",
       "1             1950         150                1               1       ultra  "
      ]
     },
     "execution_count": 5,
     "metadata": {},
     "output_type": "execute_result"
    }
   ],
   "source": [
    "# визуально осмотрим первые пять строк из датафрейма:\n",
    "data_tariffs.head()"
   ]
  },
  {
   "cell_type": "code",
   "execution_count": 6,
   "metadata": {},
   "outputs": [
    {
     "data": {
      "text/html": [
       "<div>\n",
       "<style scoped>\n",
       "    .dataframe tbody tr th:only-of-type {\n",
       "        vertical-align: middle;\n",
       "    }\n",
       "\n",
       "    .dataframe tbody tr th {\n",
       "        vertical-align: top;\n",
       "    }\n",
       "\n",
       "    .dataframe thead th {\n",
       "        text-align: right;\n",
       "    }\n",
       "</style>\n",
       "<table border=\"1\" class=\"dataframe\">\n",
       "  <thead>\n",
       "    <tr style=\"text-align: right;\">\n",
       "      <th></th>\n",
       "      <th>user_id</th>\n",
       "      <th>age</th>\n",
       "      <th>churn_date</th>\n",
       "      <th>city</th>\n",
       "      <th>first_name</th>\n",
       "      <th>last_name</th>\n",
       "      <th>reg_date</th>\n",
       "      <th>tariff</th>\n",
       "    </tr>\n",
       "  </thead>\n",
       "  <tbody>\n",
       "    <tr>\n",
       "      <td>0</td>\n",
       "      <td>1000</td>\n",
       "      <td>52</td>\n",
       "      <td>NaN</td>\n",
       "      <td>Краснодар</td>\n",
       "      <td>Рафаил</td>\n",
       "      <td>Верещагин</td>\n",
       "      <td>2018-05-25</td>\n",
       "      <td>ultra</td>\n",
       "    </tr>\n",
       "    <tr>\n",
       "      <td>1</td>\n",
       "      <td>1001</td>\n",
       "      <td>41</td>\n",
       "      <td>NaN</td>\n",
       "      <td>Москва</td>\n",
       "      <td>Иван</td>\n",
       "      <td>Ежов</td>\n",
       "      <td>2018-11-01</td>\n",
       "      <td>smart</td>\n",
       "    </tr>\n",
       "    <tr>\n",
       "      <td>2</td>\n",
       "      <td>1002</td>\n",
       "      <td>59</td>\n",
       "      <td>NaN</td>\n",
       "      <td>Стерлитамак</td>\n",
       "      <td>Евгений</td>\n",
       "      <td>Абрамович</td>\n",
       "      <td>2018-06-17</td>\n",
       "      <td>smart</td>\n",
       "    </tr>\n",
       "    <tr>\n",
       "      <td>3</td>\n",
       "      <td>1003</td>\n",
       "      <td>23</td>\n",
       "      <td>NaN</td>\n",
       "      <td>Москва</td>\n",
       "      <td>Белла</td>\n",
       "      <td>Белякова</td>\n",
       "      <td>2018-08-17</td>\n",
       "      <td>ultra</td>\n",
       "    </tr>\n",
       "    <tr>\n",
       "      <td>4</td>\n",
       "      <td>1004</td>\n",
       "      <td>68</td>\n",
       "      <td>NaN</td>\n",
       "      <td>Новокузнецк</td>\n",
       "      <td>Татьяна</td>\n",
       "      <td>Авдеенко</td>\n",
       "      <td>2018-05-14</td>\n",
       "      <td>ultra</td>\n",
       "    </tr>\n",
       "  </tbody>\n",
       "</table>\n",
       "</div>"
      ],
      "text/plain": [
       "   user_id  age churn_date         city first_name  last_name    reg_date  \\\n",
       "0     1000   52        NaN    Краснодар     Рафаил  Верещагин  2018-05-25   \n",
       "1     1001   41        NaN       Москва       Иван       Ежов  2018-11-01   \n",
       "2     1002   59        NaN  Стерлитамак    Евгений  Абрамович  2018-06-17   \n",
       "3     1003   23        NaN       Москва      Белла   Белякова  2018-08-17   \n",
       "4     1004   68        NaN  Новокузнецк    Татьяна   Авдеенко  2018-05-14   \n",
       "\n",
       "  tariff  \n",
       "0  ultra  \n",
       "1  smart  \n",
       "2  smart  \n",
       "3  ultra  \n",
       "4  ultra  "
      ]
     },
     "execution_count": 6,
     "metadata": {},
     "output_type": "execute_result"
    }
   ],
   "source": [
    "# визуально осмотрим первые пять строк из датафрейма:\n",
    "data_users.head()"
   ]
  },
  {
   "cell_type": "code",
   "execution_count": 7,
   "metadata": {},
   "outputs": [
    {
     "data": {
      "text/html": [
       "<div>\n",
       "<style scoped>\n",
       "    .dataframe tbody tr th:only-of-type {\n",
       "        vertical-align: middle;\n",
       "    }\n",
       "\n",
       "    .dataframe tbody tr th {\n",
       "        vertical-align: top;\n",
       "    }\n",
       "\n",
       "    .dataframe thead th {\n",
       "        text-align: right;\n",
       "    }\n",
       "</style>\n",
       "<table border=\"1\" class=\"dataframe\">\n",
       "  <thead>\n",
       "    <tr style=\"text-align: right;\">\n",
       "      <th></th>\n",
       "      <th>duration</th>\n",
       "      <th>user_id</th>\n",
       "    </tr>\n",
       "  </thead>\n",
       "  <tbody>\n",
       "    <tr>\n",
       "      <td>count</td>\n",
       "      <td>202607.000000</td>\n",
       "      <td>202607.000000</td>\n",
       "    </tr>\n",
       "    <tr>\n",
       "      <td>mean</td>\n",
       "      <td>6.755887</td>\n",
       "      <td>1253.940619</td>\n",
       "    </tr>\n",
       "    <tr>\n",
       "      <td>std</td>\n",
       "      <td>5.843365</td>\n",
       "      <td>144.722751</td>\n",
       "    </tr>\n",
       "    <tr>\n",
       "      <td>min</td>\n",
       "      <td>0.000000</td>\n",
       "      <td>1000.000000</td>\n",
       "    </tr>\n",
       "    <tr>\n",
       "      <td>25%</td>\n",
       "      <td>1.300000</td>\n",
       "      <td>1126.000000</td>\n",
       "    </tr>\n",
       "    <tr>\n",
       "      <td>50%</td>\n",
       "      <td>6.000000</td>\n",
       "      <td>1260.000000</td>\n",
       "    </tr>\n",
       "    <tr>\n",
       "      <td>75%</td>\n",
       "      <td>10.700000</td>\n",
       "      <td>1379.000000</td>\n",
       "    </tr>\n",
       "    <tr>\n",
       "      <td>max</td>\n",
       "      <td>38.000000</td>\n",
       "      <td>1499.000000</td>\n",
       "    </tr>\n",
       "  </tbody>\n",
       "</table>\n",
       "</div>"
      ],
      "text/plain": [
       "            duration        user_id\n",
       "count  202607.000000  202607.000000\n",
       "mean        6.755887    1253.940619\n",
       "std         5.843365     144.722751\n",
       "min         0.000000    1000.000000\n",
       "25%         1.300000    1126.000000\n",
       "50%         6.000000    1260.000000\n",
       "75%        10.700000    1379.000000\n",
       "max        38.000000    1499.000000"
      ]
     },
     "execution_count": 7,
     "metadata": {},
     "output_type": "execute_result"
    }
   ],
   "source": [
    "# рассмотрим числовое описание датафрейма:\n",
    "data_calls.describe()"
   ]
  },
  {
   "cell_type": "code",
   "execution_count": 8,
   "metadata": {},
   "outputs": [
    {
     "data": {
      "text/html": [
       "<div>\n",
       "<style scoped>\n",
       "    .dataframe tbody tr th:only-of-type {\n",
       "        vertical-align: middle;\n",
       "    }\n",
       "\n",
       "    .dataframe tbody tr th {\n",
       "        vertical-align: top;\n",
       "    }\n",
       "\n",
       "    .dataframe thead th {\n",
       "        text-align: right;\n",
       "    }\n",
       "</style>\n",
       "<table border=\"1\" class=\"dataframe\">\n",
       "  <thead>\n",
       "    <tr style=\"text-align: right;\">\n",
       "      <th></th>\n",
       "      <th>Unnamed: 0</th>\n",
       "      <th>mb_used</th>\n",
       "      <th>user_id</th>\n",
       "    </tr>\n",
       "  </thead>\n",
       "  <tbody>\n",
       "    <tr>\n",
       "      <td>count</td>\n",
       "      <td>149396.000000</td>\n",
       "      <td>149396.000000</td>\n",
       "      <td>149396.000000</td>\n",
       "    </tr>\n",
       "    <tr>\n",
       "      <td>mean</td>\n",
       "      <td>74697.500000</td>\n",
       "      <td>370.192426</td>\n",
       "      <td>1252.099842</td>\n",
       "    </tr>\n",
       "    <tr>\n",
       "      <td>std</td>\n",
       "      <td>43127.054745</td>\n",
       "      <td>278.300951</td>\n",
       "      <td>144.050823</td>\n",
       "    </tr>\n",
       "    <tr>\n",
       "      <td>min</td>\n",
       "      <td>0.000000</td>\n",
       "      <td>0.000000</td>\n",
       "      <td>1000.000000</td>\n",
       "    </tr>\n",
       "    <tr>\n",
       "      <td>25%</td>\n",
       "      <td>37348.750000</td>\n",
       "      <td>138.187500</td>\n",
       "      <td>1130.000000</td>\n",
       "    </tr>\n",
       "    <tr>\n",
       "      <td>50%</td>\n",
       "      <td>74697.500000</td>\n",
       "      <td>348.015000</td>\n",
       "      <td>1251.000000</td>\n",
       "    </tr>\n",
       "    <tr>\n",
       "      <td>75%</td>\n",
       "      <td>112046.250000</td>\n",
       "      <td>559.552500</td>\n",
       "      <td>1380.000000</td>\n",
       "    </tr>\n",
       "    <tr>\n",
       "      <td>max</td>\n",
       "      <td>149395.000000</td>\n",
       "      <td>1724.830000</td>\n",
       "      <td>1499.000000</td>\n",
       "    </tr>\n",
       "  </tbody>\n",
       "</table>\n",
       "</div>"
      ],
      "text/plain": [
       "          Unnamed: 0        mb_used        user_id\n",
       "count  149396.000000  149396.000000  149396.000000\n",
       "mean    74697.500000     370.192426    1252.099842\n",
       "std     43127.054745     278.300951     144.050823\n",
       "min         0.000000       0.000000    1000.000000\n",
       "25%     37348.750000     138.187500    1130.000000\n",
       "50%     74697.500000     348.015000    1251.000000\n",
       "75%    112046.250000     559.552500    1380.000000\n",
       "max    149395.000000    1724.830000    1499.000000"
      ]
     },
     "execution_count": 8,
     "metadata": {},
     "output_type": "execute_result"
    }
   ],
   "source": [
    "# рассмотрим числовое описание датафрейма:\n",
    "data_internet.describe()"
   ]
  },
  {
   "cell_type": "code",
   "execution_count": 9,
   "metadata": {},
   "outputs": [
    {
     "data": {
      "text/html": [
       "<div>\n",
       "<style scoped>\n",
       "    .dataframe tbody tr th:only-of-type {\n",
       "        vertical-align: middle;\n",
       "    }\n",
       "\n",
       "    .dataframe tbody tr th {\n",
       "        vertical-align: top;\n",
       "    }\n",
       "\n",
       "    .dataframe thead th {\n",
       "        text-align: right;\n",
       "    }\n",
       "</style>\n",
       "<table border=\"1\" class=\"dataframe\">\n",
       "  <thead>\n",
       "    <tr style=\"text-align: right;\">\n",
       "      <th></th>\n",
       "      <th>user_id</th>\n",
       "      <th>age</th>\n",
       "    </tr>\n",
       "  </thead>\n",
       "  <tbody>\n",
       "    <tr>\n",
       "      <td>count</td>\n",
       "      <td>500.000000</td>\n",
       "      <td>500.00000</td>\n",
       "    </tr>\n",
       "    <tr>\n",
       "      <td>mean</td>\n",
       "      <td>1249.500000</td>\n",
       "      <td>46.58800</td>\n",
       "    </tr>\n",
       "    <tr>\n",
       "      <td>std</td>\n",
       "      <td>144.481833</td>\n",
       "      <td>16.66763</td>\n",
       "    </tr>\n",
       "    <tr>\n",
       "      <td>min</td>\n",
       "      <td>1000.000000</td>\n",
       "      <td>18.00000</td>\n",
       "    </tr>\n",
       "    <tr>\n",
       "      <td>25%</td>\n",
       "      <td>1124.750000</td>\n",
       "      <td>32.00000</td>\n",
       "    </tr>\n",
       "    <tr>\n",
       "      <td>50%</td>\n",
       "      <td>1249.500000</td>\n",
       "      <td>46.00000</td>\n",
       "    </tr>\n",
       "    <tr>\n",
       "      <td>75%</td>\n",
       "      <td>1374.250000</td>\n",
       "      <td>62.00000</td>\n",
       "    </tr>\n",
       "    <tr>\n",
       "      <td>max</td>\n",
       "      <td>1499.000000</td>\n",
       "      <td>75.00000</td>\n",
       "    </tr>\n",
       "  </tbody>\n",
       "</table>\n",
       "</div>"
      ],
      "text/plain": [
       "           user_id        age\n",
       "count   500.000000  500.00000\n",
       "mean   1249.500000   46.58800\n",
       "std     144.481833   16.66763\n",
       "min    1000.000000   18.00000\n",
       "25%    1124.750000   32.00000\n",
       "50%    1249.500000   46.00000\n",
       "75%    1374.250000   62.00000\n",
       "max    1499.000000   75.00000"
      ]
     },
     "execution_count": 9,
     "metadata": {},
     "output_type": "execute_result"
    }
   ],
   "source": [
    "# рассмотрим числовое описание датафрейма:\n",
    "data_users.describe()"
   ]
  },
  {
   "cell_type": "markdown",
   "metadata": {},
   "source": [
    "### Вывод:"
   ]
  },
  {
   "cell_type": "markdown",
   "metadata": {},
   "source": [
    "Достаточно чистые данные. Есть некоторые нюансы, которые мы исправим на предобработке данных.\n",
    "* Заменим тип данных на специальный тип дата;\n",
    "* Округлим данные, согласно специфики работы оператора."
   ]
  },
  {
   "cell_type": "markdown",
   "metadata": {},
   "source": [
    "### Шаг 2. Подготовим данные:<a id=\"2\"></a>"
   ]
  },
  {
   "cell_type": "markdown",
   "metadata": {},
   "source": [
    "#### Внесем правки в датафрейм звонки:"
   ]
  },
  {
   "cell_type": "code",
   "execution_count": 10,
   "metadata": {},
   "outputs": [
    {
     "data": {
      "text/plain": [
       "id           0\n",
       "call_date    0\n",
       "duration     0\n",
       "user_id      0\n",
       "dtype: int64"
      ]
     },
     "execution_count": 10,
     "metadata": {},
     "output_type": "execute_result"
    }
   ],
   "source": [
    "# Определим кол-во пропущенных значений:\n",
    "data_calls.isnull().sum()"
   ]
  },
  {
   "cell_type": "code",
   "execution_count": 11,
   "metadata": {},
   "outputs": [],
   "source": [
    "# Переведем дату в понятный вид:\n",
    "data_calls['call_date'] = pd.to_datetime(data_calls['call_date'], format = '%Y-%m-%d')\n",
    "data_calls['call_date_month'] = data_calls['call_date'].astype('datetime64[M]')"
   ]
  },
  {
   "cell_type": "code",
   "execution_count": 12,
   "metadata": {},
   "outputs": [
    {
     "data": {
      "text/html": [
       "<div>\n",
       "<style scoped>\n",
       "    .dataframe tbody tr th:only-of-type {\n",
       "        vertical-align: middle;\n",
       "    }\n",
       "\n",
       "    .dataframe tbody tr th {\n",
       "        vertical-align: top;\n",
       "    }\n",
       "\n",
       "    .dataframe thead th {\n",
       "        text-align: right;\n",
       "    }\n",
       "</style>\n",
       "<table border=\"1\" class=\"dataframe\">\n",
       "  <thead>\n",
       "    <tr style=\"text-align: right;\">\n",
       "      <th></th>\n",
       "      <th>id</th>\n",
       "      <th>call_date</th>\n",
       "      <th>duration</th>\n",
       "      <th>user_id</th>\n",
       "      <th>call_date_month</th>\n",
       "    </tr>\n",
       "  </thead>\n",
       "  <tbody>\n",
       "    <tr>\n",
       "      <td>0</td>\n",
       "      <td>1000_0</td>\n",
       "      <td>2018-07-25</td>\n",
       "      <td>0.00</td>\n",
       "      <td>1000</td>\n",
       "      <td>2018-07-01</td>\n",
       "    </tr>\n",
       "    <tr>\n",
       "      <td>1</td>\n",
       "      <td>1000_1</td>\n",
       "      <td>2018-08-17</td>\n",
       "      <td>0.00</td>\n",
       "      <td>1000</td>\n",
       "      <td>2018-08-01</td>\n",
       "    </tr>\n",
       "    <tr>\n",
       "      <td>2</td>\n",
       "      <td>1000_2</td>\n",
       "      <td>2018-06-11</td>\n",
       "      <td>2.85</td>\n",
       "      <td>1000</td>\n",
       "      <td>2018-06-01</td>\n",
       "    </tr>\n",
       "    <tr>\n",
       "      <td>3</td>\n",
       "      <td>1000_3</td>\n",
       "      <td>2018-09-21</td>\n",
       "      <td>13.80</td>\n",
       "      <td>1000</td>\n",
       "      <td>2018-09-01</td>\n",
       "    </tr>\n",
       "    <tr>\n",
       "      <td>4</td>\n",
       "      <td>1000_4</td>\n",
       "      <td>2018-12-15</td>\n",
       "      <td>5.18</td>\n",
       "      <td>1000</td>\n",
       "      <td>2018-12-01</td>\n",
       "    </tr>\n",
       "  </tbody>\n",
       "</table>\n",
       "</div>"
      ],
      "text/plain": [
       "       id  call_date  duration  user_id call_date_month\n",
       "0  1000_0 2018-07-25      0.00     1000      2018-07-01\n",
       "1  1000_1 2018-08-17      0.00     1000      2018-08-01\n",
       "2  1000_2 2018-06-11      2.85     1000      2018-06-01\n",
       "3  1000_3 2018-09-21     13.80     1000      2018-09-01\n",
       "4  1000_4 2018-12-15      5.18     1000      2018-12-01"
      ]
     },
     "execution_count": 12,
     "metadata": {},
     "output_type": "execute_result"
    }
   ],
   "source": [
    "data_calls.head()"
   ]
  },
  {
   "cell_type": "code",
   "execution_count": 13,
   "metadata": {},
   "outputs": [],
   "source": [
    "# Поменяем тип данных для столбца время разговора и округлим в большую сторону:\n",
    "data_calls['duration'] = (np.ceil(data_calls['duration'])).astype(int)"
   ]
  },
  {
   "cell_type": "code",
   "execution_count": 14,
   "metadata": {},
   "outputs": [
    {
     "name": "stdout",
     "output_type": "stream",
     "text": [
      "<class 'pandas.core.frame.DataFrame'>\n",
      "RangeIndex: 202607 entries, 0 to 202606\n",
      "Data columns (total 5 columns):\n",
      "id                 202607 non-null object\n",
      "call_date          202607 non-null datetime64[ns]\n",
      "duration           202607 non-null int64\n",
      "user_id            202607 non-null int64\n",
      "call_date_month    202607 non-null datetime64[ns]\n",
      "dtypes: datetime64[ns](2), int64(2), object(1)\n",
      "memory usage: 7.7+ MB\n"
     ]
    }
   ],
   "source": [
    "# Проверим изменения:\n",
    "data_calls.info()"
   ]
  },
  {
   "cell_type": "markdown",
   "metadata": {},
   "source": [
    "#### Внесем правки в датафрейм интернет:"
   ]
  },
  {
   "cell_type": "code",
   "execution_count": 15,
   "metadata": {},
   "outputs": [
    {
     "data": {
      "text/plain": [
       "Unnamed: 0      0\n",
       "id              0\n",
       "mb_used         0\n",
       "session_date    0\n",
       "user_id         0\n",
       "dtype: int64"
      ]
     },
     "execution_count": 15,
     "metadata": {},
     "output_type": "execute_result"
    }
   ],
   "source": [
    "# Определим кол-во пропущенных значений:\n",
    "data_internet.isnull().sum()"
   ]
  },
  {
   "cell_type": "code",
   "execution_count": 16,
   "metadata": {},
   "outputs": [],
   "source": [
    "# Переведем дату в понятный вид:\n",
    "data_internet['session_date'] = pd.to_datetime(data_internet['session_date'], format = '%Y-%m-%d')\n",
    "#data_internet['internet_date_month'] = data_internet['session_date'].dt.month\n",
    "data_internet['internet_date_month'] = data_internet['session_date'].astype('datetime64[M]')"
   ]
  },
  {
   "cell_type": "code",
   "execution_count": 17,
   "metadata": {},
   "outputs": [],
   "source": [
    "# Поменяем тип данных для столбца время разговора и округлим в большую сторону:\n",
    "data_internet['mb_used'] = (np.ceil(data_internet['mb_used'])).astype(int)"
   ]
  },
  {
   "cell_type": "code",
   "execution_count": 18,
   "metadata": {},
   "outputs": [
    {
     "name": "stdout",
     "output_type": "stream",
     "text": [
      "<class 'pandas.core.frame.DataFrame'>\n",
      "RangeIndex: 149396 entries, 0 to 149395\n",
      "Data columns (total 6 columns):\n",
      "Unnamed: 0             149396 non-null int64\n",
      "id                     149396 non-null object\n",
      "mb_used                149396 non-null int64\n",
      "session_date           149396 non-null datetime64[ns]\n",
      "user_id                149396 non-null int64\n",
      "internet_date_month    149396 non-null datetime64[ns]\n",
      "dtypes: datetime64[ns](2), int64(3), object(1)\n",
      "memory usage: 6.8+ MB\n"
     ]
    }
   ],
   "source": [
    "# Проверим изменения:\n",
    "data_internet.info()"
   ]
  },
  {
   "cell_type": "markdown",
   "metadata": {},
   "source": [
    "#### Внесем правки в датафрейм сообщения:"
   ]
  },
  {
   "cell_type": "code",
   "execution_count": 19,
   "metadata": {},
   "outputs": [
    {
     "data": {
      "text/plain": [
       "id              0\n",
       "message_date    0\n",
       "user_id         0\n",
       "dtype: int64"
      ]
     },
     "execution_count": 19,
     "metadata": {},
     "output_type": "execute_result"
    }
   ],
   "source": [
    "# Определим кол-во пропущенных значений:\n",
    "data_messages.isnull().sum()"
   ]
  },
  {
   "cell_type": "code",
   "execution_count": 20,
   "metadata": {},
   "outputs": [],
   "source": [
    "# Переведем дату в понятный вид:\n",
    "data_messages['message_date'] = pd.to_datetime(data_messages['message_date'], format = '%Y-%m-%d')\n",
    "#data_messages['message_date_month'] = data_messages['message_date'].dt.month\n",
    "data_messages['message_date_month'] = data_messages['message_date'].astype('datetime64[M]')"
   ]
  },
  {
   "cell_type": "code",
   "execution_count": 21,
   "metadata": {},
   "outputs": [
    {
     "name": "stdout",
     "output_type": "stream",
     "text": [
      "<class 'pandas.core.frame.DataFrame'>\n",
      "RangeIndex: 123036 entries, 0 to 123035\n",
      "Data columns (total 4 columns):\n",
      "id                    123036 non-null object\n",
      "message_date          123036 non-null datetime64[ns]\n",
      "user_id               123036 non-null int64\n",
      "message_date_month    123036 non-null datetime64[ns]\n",
      "dtypes: datetime64[ns](2), int64(1), object(1)\n",
      "memory usage: 3.8+ MB\n"
     ]
    }
   ],
   "source": [
    "# Проверим изменения:\n",
    "data_messages.info()"
   ]
  },
  {
   "cell_type": "markdown",
   "metadata": {},
   "source": [
    "#### Внесем правки в датафрейм пользователи:"
   ]
  },
  {
   "cell_type": "code",
   "execution_count": 22,
   "metadata": {},
   "outputs": [
    {
     "data": {
      "text/plain": [
       "user_id         0\n",
       "age             0\n",
       "churn_date    462\n",
       "city            0\n",
       "first_name      0\n",
       "last_name       0\n",
       "reg_date        0\n",
       "tariff          0\n",
       "dtype: int64"
      ]
     },
     "execution_count": 22,
     "metadata": {},
     "output_type": "execute_result"
    }
   ],
   "source": [
    "# Определим кол-во пропущенных значений:\n",
    "data_users.isnull().sum()"
   ]
  },
  {
   "cell_type": "code",
   "execution_count": 23,
   "metadata": {},
   "outputs": [],
   "source": [
    "# Переведем дату в понятный вид:\n",
    "data_users['churn_date'] = pd.to_datetime(data_users['churn_date'], format = '%Y-%m-%d')"
   ]
  },
  {
   "cell_type": "code",
   "execution_count": 24,
   "metadata": {},
   "outputs": [],
   "source": [
    "# Переведем дату в понятный вид:\n",
    "data_users['reg_date'] = pd.to_datetime(data_users['reg_date'], format = '%Y-%m-%d')"
   ]
  },
  {
   "cell_type": "code",
   "execution_count": 25,
   "metadata": {},
   "outputs": [
    {
     "name": "stdout",
     "output_type": "stream",
     "text": [
      "<class 'pandas.core.frame.DataFrame'>\n",
      "RangeIndex: 500 entries, 0 to 499\n",
      "Data columns (total 8 columns):\n",
      "user_id       500 non-null int64\n",
      "age           500 non-null int64\n",
      "churn_date    38 non-null datetime64[ns]\n",
      "city          500 non-null object\n",
      "first_name    500 non-null object\n",
      "last_name     500 non-null object\n",
      "reg_date      500 non-null datetime64[ns]\n",
      "tariff        500 non-null object\n",
      "dtypes: datetime64[ns](2), int64(2), object(4)\n",
      "memory usage: 31.4+ KB\n"
     ]
    }
   ],
   "source": [
    "# Проверим изменения:\n",
    "data_users.info()"
   ]
  },
  {
   "cell_type": "markdown",
   "metadata": {},
   "source": [
    "#### Посчитаем для каждого пользователя:"
   ]
  },
  {
   "cell_type": "code",
   "execution_count": 26,
   "metadata": {},
   "outputs": [
    {
     "data": {
      "text/html": [
       "<div>\n",
       "<style scoped>\n",
       "    .dataframe tbody tr th:only-of-type {\n",
       "        vertical-align: middle;\n",
       "    }\n",
       "\n",
       "    .dataframe tbody tr th {\n",
       "        vertical-align: top;\n",
       "    }\n",
       "\n",
       "    .dataframe thead tr th {\n",
       "        text-align: left;\n",
       "    }\n",
       "</style>\n",
       "<table border=\"1\" class=\"dataframe\">\n",
       "  <thead>\n",
       "    <tr>\n",
       "      <th></th>\n",
       "      <th>user_id</th>\n",
       "      <th>call_date_month</th>\n",
       "      <th colspan=\"2\" halign=\"left\">duration</th>\n",
       "    </tr>\n",
       "    <tr>\n",
       "      <th></th>\n",
       "      <th></th>\n",
       "      <th></th>\n",
       "      <th>sum</th>\n",
       "      <th>count</th>\n",
       "    </tr>\n",
       "  </thead>\n",
       "  <tbody>\n",
       "    <tr>\n",
       "      <td>0</td>\n",
       "      <td>1000</td>\n",
       "      <td>2018-05-01</td>\n",
       "      <td>159</td>\n",
       "      <td>22</td>\n",
       "    </tr>\n",
       "    <tr>\n",
       "      <td>1</td>\n",
       "      <td>1000</td>\n",
       "      <td>2018-06-01</td>\n",
       "      <td>172</td>\n",
       "      <td>43</td>\n",
       "    </tr>\n",
       "    <tr>\n",
       "      <td>2</td>\n",
       "      <td>1000</td>\n",
       "      <td>2018-07-01</td>\n",
       "      <td>340</td>\n",
       "      <td>47</td>\n",
       "    </tr>\n",
       "    <tr>\n",
       "      <td>3</td>\n",
       "      <td>1000</td>\n",
       "      <td>2018-08-01</td>\n",
       "      <td>408</td>\n",
       "      <td>52</td>\n",
       "    </tr>\n",
       "    <tr>\n",
       "      <td>4</td>\n",
       "      <td>1000</td>\n",
       "      <td>2018-09-01</td>\n",
       "      <td>466</td>\n",
       "      <td>58</td>\n",
       "    </tr>\n",
       "    <tr>\n",
       "      <td>...</td>\n",
       "      <td>...</td>\n",
       "      <td>...</td>\n",
       "      <td>...</td>\n",
       "      <td>...</td>\n",
       "    </tr>\n",
       "    <tr>\n",
       "      <td>3169</td>\n",
       "      <td>1498</td>\n",
       "      <td>2018-10-01</td>\n",
       "      <td>247</td>\n",
       "      <td>41</td>\n",
       "    </tr>\n",
       "    <tr>\n",
       "      <td>3170</td>\n",
       "      <td>1499</td>\n",
       "      <td>2018-09-01</td>\n",
       "      <td>70</td>\n",
       "      <td>9</td>\n",
       "    </tr>\n",
       "    <tr>\n",
       "      <td>3171</td>\n",
       "      <td>1499</td>\n",
       "      <td>2018-10-01</td>\n",
       "      <td>449</td>\n",
       "      <td>68</td>\n",
       "    </tr>\n",
       "    <tr>\n",
       "      <td>3172</td>\n",
       "      <td>1499</td>\n",
       "      <td>2018-11-01</td>\n",
       "      <td>612</td>\n",
       "      <td>74</td>\n",
       "    </tr>\n",
       "    <tr>\n",
       "      <td>3173</td>\n",
       "      <td>1499</td>\n",
       "      <td>2018-12-01</td>\n",
       "      <td>492</td>\n",
       "      <td>69</td>\n",
       "    </tr>\n",
       "  </tbody>\n",
       "</table>\n",
       "<p>3174 rows × 4 columns</p>\n",
       "</div>"
      ],
      "text/plain": [
       "     user_id call_date_month duration      \n",
       "                                  sum count\n",
       "0       1000      2018-05-01      159    22\n",
       "1       1000      2018-06-01      172    43\n",
       "2       1000      2018-07-01      340    47\n",
       "3       1000      2018-08-01      408    52\n",
       "4       1000      2018-09-01      466    58\n",
       "...      ...             ...      ...   ...\n",
       "3169    1498      2018-10-01      247    41\n",
       "3170    1499      2018-09-01       70     9\n",
       "3171    1499      2018-10-01      449    68\n",
       "3172    1499      2018-11-01      612    74\n",
       "3173    1499      2018-12-01      492    69\n",
       "\n",
       "[3174 rows x 4 columns]"
      ]
     },
     "metadata": {},
     "output_type": "display_data"
    }
   ],
   "source": [
    "# Посчитаем количество звонков и израсходованных минут разговора по месяцам пользователей:\n",
    "calls_group = data_calls.groupby(['user_id', 'call_date_month']).agg({'duration': ['sum','count']}).reset_index()\n",
    "\n",
    "display(calls_group)"
   ]
  },
  {
   "cell_type": "code",
   "execution_count": 27,
   "metadata": {},
   "outputs": [
    {
     "data": {
      "text/html": [
       "<div>\n",
       "<style scoped>\n",
       "    .dataframe tbody tr th:only-of-type {\n",
       "        vertical-align: middle;\n",
       "    }\n",
       "\n",
       "    .dataframe tbody tr th {\n",
       "        vertical-align: top;\n",
       "    }\n",
       "\n",
       "    .dataframe thead th {\n",
       "        text-align: right;\n",
       "    }\n",
       "</style>\n",
       "<table border=\"1\" class=\"dataframe\">\n",
       "  <thead>\n",
       "    <tr style=\"text-align: right;\">\n",
       "      <th></th>\n",
       "      <th>user_id</th>\n",
       "      <th>date_month</th>\n",
       "      <th>sum_calls_month</th>\n",
       "      <th>count_calls_month</th>\n",
       "    </tr>\n",
       "  </thead>\n",
       "  <tbody>\n",
       "    <tr>\n",
       "      <td>0</td>\n",
       "      <td>1000</td>\n",
       "      <td>2018-05-01</td>\n",
       "      <td>159</td>\n",
       "      <td>22</td>\n",
       "    </tr>\n",
       "    <tr>\n",
       "      <td>1</td>\n",
       "      <td>1000</td>\n",
       "      <td>2018-06-01</td>\n",
       "      <td>172</td>\n",
       "      <td>43</td>\n",
       "    </tr>\n",
       "    <tr>\n",
       "      <td>2</td>\n",
       "      <td>1000</td>\n",
       "      <td>2018-07-01</td>\n",
       "      <td>340</td>\n",
       "      <td>47</td>\n",
       "    </tr>\n",
       "    <tr>\n",
       "      <td>3</td>\n",
       "      <td>1000</td>\n",
       "      <td>2018-08-01</td>\n",
       "      <td>408</td>\n",
       "      <td>52</td>\n",
       "    </tr>\n",
       "    <tr>\n",
       "      <td>4</td>\n",
       "      <td>1000</td>\n",
       "      <td>2018-09-01</td>\n",
       "      <td>466</td>\n",
       "      <td>58</td>\n",
       "    </tr>\n",
       "    <tr>\n",
       "      <td>...</td>\n",
       "      <td>...</td>\n",
       "      <td>...</td>\n",
       "      <td>...</td>\n",
       "      <td>...</td>\n",
       "    </tr>\n",
       "    <tr>\n",
       "      <td>3169</td>\n",
       "      <td>1498</td>\n",
       "      <td>2018-10-01</td>\n",
       "      <td>247</td>\n",
       "      <td>41</td>\n",
       "    </tr>\n",
       "    <tr>\n",
       "      <td>3170</td>\n",
       "      <td>1499</td>\n",
       "      <td>2018-09-01</td>\n",
       "      <td>70</td>\n",
       "      <td>9</td>\n",
       "    </tr>\n",
       "    <tr>\n",
       "      <td>3171</td>\n",
       "      <td>1499</td>\n",
       "      <td>2018-10-01</td>\n",
       "      <td>449</td>\n",
       "      <td>68</td>\n",
       "    </tr>\n",
       "    <tr>\n",
       "      <td>3172</td>\n",
       "      <td>1499</td>\n",
       "      <td>2018-11-01</td>\n",
       "      <td>612</td>\n",
       "      <td>74</td>\n",
       "    </tr>\n",
       "    <tr>\n",
       "      <td>3173</td>\n",
       "      <td>1499</td>\n",
       "      <td>2018-12-01</td>\n",
       "      <td>492</td>\n",
       "      <td>69</td>\n",
       "    </tr>\n",
       "  </tbody>\n",
       "</table>\n",
       "<p>3174 rows × 4 columns</p>\n",
       "</div>"
      ],
      "text/plain": [
       "      user_id date_month  sum_calls_month  count_calls_month\n",
       "0        1000 2018-05-01              159                 22\n",
       "1        1000 2018-06-01              172                 43\n",
       "2        1000 2018-07-01              340                 47\n",
       "3        1000 2018-08-01              408                 52\n",
       "4        1000 2018-09-01              466                 58\n",
       "...       ...        ...              ...                ...\n",
       "3169     1498 2018-10-01              247                 41\n",
       "3170     1499 2018-09-01               70                  9\n",
       "3171     1499 2018-10-01              449                 68\n",
       "3172     1499 2018-11-01              612                 74\n",
       "3173     1499 2018-12-01              492                 69\n",
       "\n",
       "[3174 rows x 4 columns]"
      ]
     },
     "metadata": {},
     "output_type": "display_data"
    }
   ],
   "source": [
    "# Переменуем столбцы в таблице звонки:\n",
    "calls_group.columns = ['user_id','date_month','sum_calls_month','count_calls_month']\n",
    "display(calls_group)"
   ]
  },
  {
   "cell_type": "code",
   "execution_count": 28,
   "metadata": {},
   "outputs": [
    {
     "data": {
      "text/html": [
       "<div>\n",
       "<style scoped>\n",
       "    .dataframe tbody tr th:only-of-type {\n",
       "        vertical-align: middle;\n",
       "    }\n",
       "\n",
       "    .dataframe tbody tr th {\n",
       "        vertical-align: top;\n",
       "    }\n",
       "\n",
       "    .dataframe thead th {\n",
       "        text-align: right;\n",
       "    }\n",
       "</style>\n",
       "<table border=\"1\" class=\"dataframe\">\n",
       "  <thead>\n",
       "    <tr style=\"text-align: right;\">\n",
       "      <th></th>\n",
       "      <th>user_id</th>\n",
       "      <th>message_date_month</th>\n",
       "      <th>id</th>\n",
       "    </tr>\n",
       "  </thead>\n",
       "  <tbody>\n",
       "    <tr>\n",
       "      <td>0</td>\n",
       "      <td>1000</td>\n",
       "      <td>2018-05-01</td>\n",
       "      <td>22</td>\n",
       "    </tr>\n",
       "    <tr>\n",
       "      <td>1</td>\n",
       "      <td>1000</td>\n",
       "      <td>2018-06-01</td>\n",
       "      <td>60</td>\n",
       "    </tr>\n",
       "    <tr>\n",
       "      <td>2</td>\n",
       "      <td>1000</td>\n",
       "      <td>2018-07-01</td>\n",
       "      <td>75</td>\n",
       "    </tr>\n",
       "    <tr>\n",
       "      <td>3</td>\n",
       "      <td>1000</td>\n",
       "      <td>2018-08-01</td>\n",
       "      <td>81</td>\n",
       "    </tr>\n",
       "    <tr>\n",
       "      <td>4</td>\n",
       "      <td>1000</td>\n",
       "      <td>2018-09-01</td>\n",
       "      <td>57</td>\n",
       "    </tr>\n",
       "    <tr>\n",
       "      <td>...</td>\n",
       "      <td>...</td>\n",
       "      <td>...</td>\n",
       "      <td>...</td>\n",
       "    </tr>\n",
       "    <tr>\n",
       "      <td>2712</td>\n",
       "      <td>1498</td>\n",
       "      <td>2018-10-01</td>\n",
       "      <td>42</td>\n",
       "    </tr>\n",
       "    <tr>\n",
       "      <td>2713</td>\n",
       "      <td>1499</td>\n",
       "      <td>2018-09-01</td>\n",
       "      <td>11</td>\n",
       "    </tr>\n",
       "    <tr>\n",
       "      <td>2714</td>\n",
       "      <td>1499</td>\n",
       "      <td>2018-10-01</td>\n",
       "      <td>48</td>\n",
       "    </tr>\n",
       "    <tr>\n",
       "      <td>2715</td>\n",
       "      <td>1499</td>\n",
       "      <td>2018-11-01</td>\n",
       "      <td>59</td>\n",
       "    </tr>\n",
       "    <tr>\n",
       "      <td>2716</td>\n",
       "      <td>1499</td>\n",
       "      <td>2018-12-01</td>\n",
       "      <td>66</td>\n",
       "    </tr>\n",
       "  </tbody>\n",
       "</table>\n",
       "<p>2717 rows × 3 columns</p>\n",
       "</div>"
      ],
      "text/plain": [
       "      user_id message_date_month  id\n",
       "0        1000         2018-05-01  22\n",
       "1        1000         2018-06-01  60\n",
       "2        1000         2018-07-01  75\n",
       "3        1000         2018-08-01  81\n",
       "4        1000         2018-09-01  57\n",
       "...       ...                ...  ..\n",
       "2712     1498         2018-10-01  42\n",
       "2713     1499         2018-09-01  11\n",
       "2714     1499         2018-10-01  48\n",
       "2715     1499         2018-11-01  59\n",
       "2716     1499         2018-12-01  66\n",
       "\n",
       "[2717 rows x 3 columns]"
      ]
     },
     "metadata": {},
     "output_type": "display_data"
    }
   ],
   "source": [
    "# Посчитаем кол-во отправленных сообщений по месяцам пользователей:\n",
    "messages_group = data_messages.groupby(['user_id', 'message_date_month']).agg({'id': 'count'}).reset_index()\n",
    "display(messages_group)"
   ]
  },
  {
   "cell_type": "code",
   "execution_count": 29,
   "metadata": {},
   "outputs": [
    {
     "data": {
      "text/html": [
       "<div>\n",
       "<style scoped>\n",
       "    .dataframe tbody tr th:only-of-type {\n",
       "        vertical-align: middle;\n",
       "    }\n",
       "\n",
       "    .dataframe tbody tr th {\n",
       "        vertical-align: top;\n",
       "    }\n",
       "\n",
       "    .dataframe thead th {\n",
       "        text-align: right;\n",
       "    }\n",
       "</style>\n",
       "<table border=\"1\" class=\"dataframe\">\n",
       "  <thead>\n",
       "    <tr style=\"text-align: right;\">\n",
       "      <th></th>\n",
       "      <th>user_id</th>\n",
       "      <th>date_month</th>\n",
       "      <th>count_message_month</th>\n",
       "    </tr>\n",
       "  </thead>\n",
       "  <tbody>\n",
       "    <tr>\n",
       "      <td>0</td>\n",
       "      <td>1000</td>\n",
       "      <td>2018-05-01</td>\n",
       "      <td>22</td>\n",
       "    </tr>\n",
       "    <tr>\n",
       "      <td>1</td>\n",
       "      <td>1000</td>\n",
       "      <td>2018-06-01</td>\n",
       "      <td>60</td>\n",
       "    </tr>\n",
       "    <tr>\n",
       "      <td>2</td>\n",
       "      <td>1000</td>\n",
       "      <td>2018-07-01</td>\n",
       "      <td>75</td>\n",
       "    </tr>\n",
       "    <tr>\n",
       "      <td>3</td>\n",
       "      <td>1000</td>\n",
       "      <td>2018-08-01</td>\n",
       "      <td>81</td>\n",
       "    </tr>\n",
       "    <tr>\n",
       "      <td>4</td>\n",
       "      <td>1000</td>\n",
       "      <td>2018-09-01</td>\n",
       "      <td>57</td>\n",
       "    </tr>\n",
       "    <tr>\n",
       "      <td>...</td>\n",
       "      <td>...</td>\n",
       "      <td>...</td>\n",
       "      <td>...</td>\n",
       "    </tr>\n",
       "    <tr>\n",
       "      <td>2712</td>\n",
       "      <td>1498</td>\n",
       "      <td>2018-10-01</td>\n",
       "      <td>42</td>\n",
       "    </tr>\n",
       "    <tr>\n",
       "      <td>2713</td>\n",
       "      <td>1499</td>\n",
       "      <td>2018-09-01</td>\n",
       "      <td>11</td>\n",
       "    </tr>\n",
       "    <tr>\n",
       "      <td>2714</td>\n",
       "      <td>1499</td>\n",
       "      <td>2018-10-01</td>\n",
       "      <td>48</td>\n",
       "    </tr>\n",
       "    <tr>\n",
       "      <td>2715</td>\n",
       "      <td>1499</td>\n",
       "      <td>2018-11-01</td>\n",
       "      <td>59</td>\n",
       "    </tr>\n",
       "    <tr>\n",
       "      <td>2716</td>\n",
       "      <td>1499</td>\n",
       "      <td>2018-12-01</td>\n",
       "      <td>66</td>\n",
       "    </tr>\n",
       "  </tbody>\n",
       "</table>\n",
       "<p>2717 rows × 3 columns</p>\n",
       "</div>"
      ],
      "text/plain": [
       "      user_id date_month  count_message_month\n",
       "0        1000 2018-05-01                   22\n",
       "1        1000 2018-06-01                   60\n",
       "2        1000 2018-07-01                   75\n",
       "3        1000 2018-08-01                   81\n",
       "4        1000 2018-09-01                   57\n",
       "...       ...        ...                  ...\n",
       "2712     1498 2018-10-01                   42\n",
       "2713     1499 2018-09-01                   11\n",
       "2714     1499 2018-10-01                   48\n",
       "2715     1499 2018-11-01                   59\n",
       "2716     1499 2018-12-01                   66\n",
       "\n",
       "[2717 rows x 3 columns]"
      ]
     },
     "metadata": {},
     "output_type": "display_data"
    }
   ],
   "source": [
    "# Переменуем столбцы в таблиц сообщения:\n",
    "messages_group.columns = ['user_id','date_month','count_message_month']\n",
    "display(messages_group)"
   ]
  },
  {
   "cell_type": "code",
   "execution_count": 30,
   "metadata": {},
   "outputs": [
    {
     "data": {
      "text/html": [
       "<div>\n",
       "<style scoped>\n",
       "    .dataframe tbody tr th:only-of-type {\n",
       "        vertical-align: middle;\n",
       "    }\n",
       "\n",
       "    .dataframe tbody tr th {\n",
       "        vertical-align: top;\n",
       "    }\n",
       "\n",
       "    .dataframe thead th {\n",
       "        text-align: right;\n",
       "    }\n",
       "</style>\n",
       "<table border=\"1\" class=\"dataframe\">\n",
       "  <thead>\n",
       "    <tr style=\"text-align: right;\">\n",
       "      <th></th>\n",
       "      <th>user_id</th>\n",
       "      <th>date_month</th>\n",
       "      <th>mb_used</th>\n",
       "    </tr>\n",
       "  </thead>\n",
       "  <tbody>\n",
       "    <tr>\n",
       "      <td>0</td>\n",
       "      <td>1000</td>\n",
       "      <td>2018-05-01</td>\n",
       "      <td>2256</td>\n",
       "    </tr>\n",
       "    <tr>\n",
       "      <td>1</td>\n",
       "      <td>1000</td>\n",
       "      <td>2018-06-01</td>\n",
       "      <td>23257</td>\n",
       "    </tr>\n",
       "    <tr>\n",
       "      <td>2</td>\n",
       "      <td>1000</td>\n",
       "      <td>2018-07-01</td>\n",
       "      <td>14016</td>\n",
       "    </tr>\n",
       "    <tr>\n",
       "      <td>3</td>\n",
       "      <td>1000</td>\n",
       "      <td>2018-08-01</td>\n",
       "      <td>14070</td>\n",
       "    </tr>\n",
       "    <tr>\n",
       "      <td>4</td>\n",
       "      <td>1000</td>\n",
       "      <td>2018-09-01</td>\n",
       "      <td>14581</td>\n",
       "    </tr>\n",
       "    <tr>\n",
       "      <td>...</td>\n",
       "      <td>...</td>\n",
       "      <td>...</td>\n",
       "      <td>...</td>\n",
       "    </tr>\n",
       "    <tr>\n",
       "      <td>3198</td>\n",
       "      <td>1498</td>\n",
       "      <td>2018-10-01</td>\n",
       "      <td>20604</td>\n",
       "    </tr>\n",
       "    <tr>\n",
       "      <td>3199</td>\n",
       "      <td>1499</td>\n",
       "      <td>2018-09-01</td>\n",
       "      <td>1848</td>\n",
       "    </tr>\n",
       "    <tr>\n",
       "      <td>3200</td>\n",
       "      <td>1499</td>\n",
       "      <td>2018-10-01</td>\n",
       "      <td>17809</td>\n",
       "    </tr>\n",
       "    <tr>\n",
       "      <td>3201</td>\n",
       "      <td>1499</td>\n",
       "      <td>2018-11-01</td>\n",
       "      <td>17984</td>\n",
       "    </tr>\n",
       "    <tr>\n",
       "      <td>3202</td>\n",
       "      <td>1499</td>\n",
       "      <td>2018-12-01</td>\n",
       "      <td>13077</td>\n",
       "    </tr>\n",
       "  </tbody>\n",
       "</table>\n",
       "<p>3203 rows × 3 columns</p>\n",
       "</div>"
      ],
      "text/plain": [
       "      user_id date_month  mb_used\n",
       "0        1000 2018-05-01     2256\n",
       "1        1000 2018-06-01    23257\n",
       "2        1000 2018-07-01    14016\n",
       "3        1000 2018-08-01    14070\n",
       "4        1000 2018-09-01    14581\n",
       "...       ...        ...      ...\n",
       "3198     1498 2018-10-01    20604\n",
       "3199     1499 2018-09-01     1848\n",
       "3200     1499 2018-10-01    17809\n",
       "3201     1499 2018-11-01    17984\n",
       "3202     1499 2018-12-01    13077\n",
       "\n",
       "[3203 rows x 3 columns]"
      ]
     },
     "metadata": {},
     "output_type": "display_data"
    }
   ],
   "source": [
    "# Посчитаем объем израсходованного интернет-трафика по месяцам пользователей:\n",
    "internet_group = data_internet.groupby(['user_id', 'internet_date_month']).agg({'mb_used':'sum'}).reset_index()\n",
    "internet_group.columns = ['user_id','date_month','mb_used']\n",
    "display(internet_group)"
   ]
  },
  {
   "cell_type": "code",
   "execution_count": 31,
   "metadata": {},
   "outputs": [],
   "source": [
    "# Объединим все таблицы в одну:\n",
    "total_data = ( messages_group.merge(internet_group, on=['user_id','date_month'], how='outer')\n",
    "              .merge(calls_group, on=['user_id','date_month'], how='outer')\n",
    "              .merge(data_users,on='user_id', how='outer')\n",
    "              .merge(data_tariffs, left_on = 'tariff', right_on = 'tariff_name',how='outer')\n",
    "             )"
   ]
  },
  {
   "cell_type": "code",
   "execution_count": 32,
   "metadata": {},
   "outputs": [
    {
     "data": {
      "text/html": [
       "<div>\n",
       "<style scoped>\n",
       "    .dataframe tbody tr th:only-of-type {\n",
       "        vertical-align: middle;\n",
       "    }\n",
       "\n",
       "    .dataframe tbody tr th {\n",
       "        vertical-align: top;\n",
       "    }\n",
       "\n",
       "    .dataframe thead th {\n",
       "        text-align: right;\n",
       "    }\n",
       "</style>\n",
       "<table border=\"1\" class=\"dataframe\">\n",
       "  <thead>\n",
       "    <tr style=\"text-align: right;\">\n",
       "      <th></th>\n",
       "      <th>user_id</th>\n",
       "      <th>date_month</th>\n",
       "      <th>count_message_month</th>\n",
       "      <th>mb_used</th>\n",
       "      <th>sum_calls_month</th>\n",
       "      <th>count_calls_month</th>\n",
       "      <th>age</th>\n",
       "      <th>churn_date</th>\n",
       "      <th>city</th>\n",
       "      <th>first_name</th>\n",
       "      <th>...</th>\n",
       "      <th>reg_date</th>\n",
       "      <th>tariff</th>\n",
       "      <th>messages_included</th>\n",
       "      <th>mb_per_month_included</th>\n",
       "      <th>minutes_included</th>\n",
       "      <th>rub_monthly_fee</th>\n",
       "      <th>rub_per_gb</th>\n",
       "      <th>rub_per_message</th>\n",
       "      <th>rub_per_minute</th>\n",
       "      <th>tariff_name</th>\n",
       "    </tr>\n",
       "  </thead>\n",
       "  <tbody>\n",
       "    <tr>\n",
       "      <td>0</td>\n",
       "      <td>1000</td>\n",
       "      <td>2018-05-01</td>\n",
       "      <td>22.0</td>\n",
       "      <td>2256.0</td>\n",
       "      <td>159.0</td>\n",
       "      <td>22.0</td>\n",
       "      <td>52</td>\n",
       "      <td>NaT</td>\n",
       "      <td>Краснодар</td>\n",
       "      <td>Рафаил</td>\n",
       "      <td>...</td>\n",
       "      <td>2018-05-25</td>\n",
       "      <td>ultra</td>\n",
       "      <td>1000</td>\n",
       "      <td>30720</td>\n",
       "      <td>3000</td>\n",
       "      <td>1950</td>\n",
       "      <td>150</td>\n",
       "      <td>1</td>\n",
       "      <td>1</td>\n",
       "      <td>ultra</td>\n",
       "    </tr>\n",
       "    <tr>\n",
       "      <td>1</td>\n",
       "      <td>1000</td>\n",
       "      <td>2018-06-01</td>\n",
       "      <td>60.0</td>\n",
       "      <td>23257.0</td>\n",
       "      <td>172.0</td>\n",
       "      <td>43.0</td>\n",
       "      <td>52</td>\n",
       "      <td>NaT</td>\n",
       "      <td>Краснодар</td>\n",
       "      <td>Рафаил</td>\n",
       "      <td>...</td>\n",
       "      <td>2018-05-25</td>\n",
       "      <td>ultra</td>\n",
       "      <td>1000</td>\n",
       "      <td>30720</td>\n",
       "      <td>3000</td>\n",
       "      <td>1950</td>\n",
       "      <td>150</td>\n",
       "      <td>1</td>\n",
       "      <td>1</td>\n",
       "      <td>ultra</td>\n",
       "    </tr>\n",
       "    <tr>\n",
       "      <td>2</td>\n",
       "      <td>1000</td>\n",
       "      <td>2018-07-01</td>\n",
       "      <td>75.0</td>\n",
       "      <td>14016.0</td>\n",
       "      <td>340.0</td>\n",
       "      <td>47.0</td>\n",
       "      <td>52</td>\n",
       "      <td>NaT</td>\n",
       "      <td>Краснодар</td>\n",
       "      <td>Рафаил</td>\n",
       "      <td>...</td>\n",
       "      <td>2018-05-25</td>\n",
       "      <td>ultra</td>\n",
       "      <td>1000</td>\n",
       "      <td>30720</td>\n",
       "      <td>3000</td>\n",
       "      <td>1950</td>\n",
       "      <td>150</td>\n",
       "      <td>1</td>\n",
       "      <td>1</td>\n",
       "      <td>ultra</td>\n",
       "    </tr>\n",
       "    <tr>\n",
       "      <td>3</td>\n",
       "      <td>1000</td>\n",
       "      <td>2018-08-01</td>\n",
       "      <td>81.0</td>\n",
       "      <td>14070.0</td>\n",
       "      <td>408.0</td>\n",
       "      <td>52.0</td>\n",
       "      <td>52</td>\n",
       "      <td>NaT</td>\n",
       "      <td>Краснодар</td>\n",
       "      <td>Рафаил</td>\n",
       "      <td>...</td>\n",
       "      <td>2018-05-25</td>\n",
       "      <td>ultra</td>\n",
       "      <td>1000</td>\n",
       "      <td>30720</td>\n",
       "      <td>3000</td>\n",
       "      <td>1950</td>\n",
       "      <td>150</td>\n",
       "      <td>1</td>\n",
       "      <td>1</td>\n",
       "      <td>ultra</td>\n",
       "    </tr>\n",
       "    <tr>\n",
       "      <td>4</td>\n",
       "      <td>1000</td>\n",
       "      <td>2018-09-01</td>\n",
       "      <td>57.0</td>\n",
       "      <td>14581.0</td>\n",
       "      <td>466.0</td>\n",
       "      <td>58.0</td>\n",
       "      <td>52</td>\n",
       "      <td>NaT</td>\n",
       "      <td>Краснодар</td>\n",
       "      <td>Рафаил</td>\n",
       "      <td>...</td>\n",
       "      <td>2018-05-25</td>\n",
       "      <td>ultra</td>\n",
       "      <td>1000</td>\n",
       "      <td>30720</td>\n",
       "      <td>3000</td>\n",
       "      <td>1950</td>\n",
       "      <td>150</td>\n",
       "      <td>1</td>\n",
       "      <td>1</td>\n",
       "      <td>ultra</td>\n",
       "    </tr>\n",
       "    <tr>\n",
       "      <td>...</td>\n",
       "      <td>...</td>\n",
       "      <td>...</td>\n",
       "      <td>...</td>\n",
       "      <td>...</td>\n",
       "      <td>...</td>\n",
       "      <td>...</td>\n",
       "      <td>...</td>\n",
       "      <td>...</td>\n",
       "      <td>...</td>\n",
       "      <td>...</td>\n",
       "      <td>...</td>\n",
       "      <td>...</td>\n",
       "      <td>...</td>\n",
       "      <td>...</td>\n",
       "      <td>...</td>\n",
       "      <td>...</td>\n",
       "      <td>...</td>\n",
       "      <td>...</td>\n",
       "      <td>...</td>\n",
       "      <td>...</td>\n",
       "      <td>...</td>\n",
       "    </tr>\n",
       "    <tr>\n",
       "      <td>3211</td>\n",
       "      <td>1494</td>\n",
       "      <td>2018-09-01</td>\n",
       "      <td>NaN</td>\n",
       "      <td>16986.0</td>\n",
       "      <td>501.0</td>\n",
       "      <td>66.0</td>\n",
       "      <td>62</td>\n",
       "      <td>NaT</td>\n",
       "      <td>Омск</td>\n",
       "      <td>Ренат</td>\n",
       "      <td>...</td>\n",
       "      <td>2018-08-17</td>\n",
       "      <td>smart</td>\n",
       "      <td>50</td>\n",
       "      <td>15360</td>\n",
       "      <td>500</td>\n",
       "      <td>550</td>\n",
       "      <td>200</td>\n",
       "      <td>3</td>\n",
       "      <td>3</td>\n",
       "      <td>smart</td>\n",
       "    </tr>\n",
       "    <tr>\n",
       "      <td>3212</td>\n",
       "      <td>1494</td>\n",
       "      <td>2018-10-01</td>\n",
       "      <td>NaN</td>\n",
       "      <td>17794.0</td>\n",
       "      <td>354.0</td>\n",
       "      <td>52.0</td>\n",
       "      <td>62</td>\n",
       "      <td>NaT</td>\n",
       "      <td>Омск</td>\n",
       "      <td>Ренат</td>\n",
       "      <td>...</td>\n",
       "      <td>2018-08-17</td>\n",
       "      <td>smart</td>\n",
       "      <td>50</td>\n",
       "      <td>15360</td>\n",
       "      <td>500</td>\n",
       "      <td>550</td>\n",
       "      <td>200</td>\n",
       "      <td>3</td>\n",
       "      <td>3</td>\n",
       "      <td>smart</td>\n",
       "    </tr>\n",
       "    <tr>\n",
       "      <td>3213</td>\n",
       "      <td>1494</td>\n",
       "      <td>2018-11-01</td>\n",
       "      <td>NaN</td>\n",
       "      <td>18076.0</td>\n",
       "      <td>411.0</td>\n",
       "      <td>63.0</td>\n",
       "      <td>62</td>\n",
       "      <td>NaT</td>\n",
       "      <td>Омск</td>\n",
       "      <td>Ренат</td>\n",
       "      <td>...</td>\n",
       "      <td>2018-08-17</td>\n",
       "      <td>smart</td>\n",
       "      <td>50</td>\n",
       "      <td>15360</td>\n",
       "      <td>500</td>\n",
       "      <td>550</td>\n",
       "      <td>200</td>\n",
       "      <td>3</td>\n",
       "      <td>3</td>\n",
       "      <td>smart</td>\n",
       "    </tr>\n",
       "    <tr>\n",
       "      <td>3214</td>\n",
       "      <td>1494</td>\n",
       "      <td>2018-12-01</td>\n",
       "      <td>NaN</td>\n",
       "      <td>17645.0</td>\n",
       "      <td>418.0</td>\n",
       "      <td>62.0</td>\n",
       "      <td>62</td>\n",
       "      <td>NaT</td>\n",
       "      <td>Омск</td>\n",
       "      <td>Ренат</td>\n",
       "      <td>...</td>\n",
       "      <td>2018-08-17</td>\n",
       "      <td>smart</td>\n",
       "      <td>50</td>\n",
       "      <td>15360</td>\n",
       "      <td>500</td>\n",
       "      <td>550</td>\n",
       "      <td>200</td>\n",
       "      <td>3</td>\n",
       "      <td>3</td>\n",
       "      <td>smart</td>\n",
       "    </tr>\n",
       "    <tr>\n",
       "      <td>3215</td>\n",
       "      <td>1371</td>\n",
       "      <td>NaT</td>\n",
       "      <td>NaN</td>\n",
       "      <td>NaN</td>\n",
       "      <td>NaN</td>\n",
       "      <td>NaN</td>\n",
       "      <td>50</td>\n",
       "      <td>2018-12-30</td>\n",
       "      <td>Омск</td>\n",
       "      <td>Ириней</td>\n",
       "      <td>...</td>\n",
       "      <td>2018-12-25</td>\n",
       "      <td>smart</td>\n",
       "      <td>50</td>\n",
       "      <td>15360</td>\n",
       "      <td>500</td>\n",
       "      <td>550</td>\n",
       "      <td>200</td>\n",
       "      <td>3</td>\n",
       "      <td>3</td>\n",
       "      <td>smart</td>\n",
       "    </tr>\n",
       "  </tbody>\n",
       "</table>\n",
       "<p>3216 rows × 21 columns</p>\n",
       "</div>"
      ],
      "text/plain": [
       "      user_id date_month  count_message_month  mb_used  sum_calls_month  \\\n",
       "0        1000 2018-05-01                 22.0   2256.0            159.0   \n",
       "1        1000 2018-06-01                 60.0  23257.0            172.0   \n",
       "2        1000 2018-07-01                 75.0  14016.0            340.0   \n",
       "3        1000 2018-08-01                 81.0  14070.0            408.0   \n",
       "4        1000 2018-09-01                 57.0  14581.0            466.0   \n",
       "...       ...        ...                  ...      ...              ...   \n",
       "3211     1494 2018-09-01                  NaN  16986.0            501.0   \n",
       "3212     1494 2018-10-01                  NaN  17794.0            354.0   \n",
       "3213     1494 2018-11-01                  NaN  18076.0            411.0   \n",
       "3214     1494 2018-12-01                  NaN  17645.0            418.0   \n",
       "3215     1371        NaT                  NaN      NaN              NaN   \n",
       "\n",
       "      count_calls_month  age churn_date       city first_name  ...   reg_date  \\\n",
       "0                  22.0   52        NaT  Краснодар     Рафаил  ... 2018-05-25   \n",
       "1                  43.0   52        NaT  Краснодар     Рафаил  ... 2018-05-25   \n",
       "2                  47.0   52        NaT  Краснодар     Рафаил  ... 2018-05-25   \n",
       "3                  52.0   52        NaT  Краснодар     Рафаил  ... 2018-05-25   \n",
       "4                  58.0   52        NaT  Краснодар     Рафаил  ... 2018-05-25   \n",
       "...                 ...  ...        ...        ...        ...  ...        ...   \n",
       "3211               66.0   62        NaT       Омск      Ренат  ... 2018-08-17   \n",
       "3212               52.0   62        NaT       Омск      Ренат  ... 2018-08-17   \n",
       "3213               63.0   62        NaT       Омск      Ренат  ... 2018-08-17   \n",
       "3214               62.0   62        NaT       Омск      Ренат  ... 2018-08-17   \n",
       "3215                NaN   50 2018-12-30       Омск     Ириней  ... 2018-12-25   \n",
       "\n",
       "     tariff messages_included  mb_per_month_included  minutes_included  \\\n",
       "0     ultra              1000                  30720              3000   \n",
       "1     ultra              1000                  30720              3000   \n",
       "2     ultra              1000                  30720              3000   \n",
       "3     ultra              1000                  30720              3000   \n",
       "4     ultra              1000                  30720              3000   \n",
       "...     ...               ...                    ...               ...   \n",
       "3211  smart                50                  15360               500   \n",
       "3212  smart                50                  15360               500   \n",
       "3213  smart                50                  15360               500   \n",
       "3214  smart                50                  15360               500   \n",
       "3215  smart                50                  15360               500   \n",
       "\n",
       "      rub_monthly_fee  rub_per_gb  rub_per_message  rub_per_minute  \\\n",
       "0                1950         150                1               1   \n",
       "1                1950         150                1               1   \n",
       "2                1950         150                1               1   \n",
       "3                1950         150                1               1   \n",
       "4                1950         150                1               1   \n",
       "...               ...         ...              ...             ...   \n",
       "3211              550         200                3               3   \n",
       "3212              550         200                3               3   \n",
       "3213              550         200                3               3   \n",
       "3214              550         200                3               3   \n",
       "3215              550         200                3               3   \n",
       "\n",
       "      tariff_name  \n",
       "0           ultra  \n",
       "1           ultra  \n",
       "2           ultra  \n",
       "3           ultra  \n",
       "4           ultra  \n",
       "...           ...  \n",
       "3211        smart  \n",
       "3212        smart  \n",
       "3213        smart  \n",
       "3214        smart  \n",
       "3215        smart  \n",
       "\n",
       "[3216 rows x 21 columns]"
      ]
     },
     "metadata": {},
     "output_type": "display_data"
    }
   ],
   "source": [
    "# Проверим нашу таблицу:\n",
    "display(total_data)"
   ]
  },
  {
   "cell_type": "code",
   "execution_count": 33,
   "metadata": {},
   "outputs": [],
   "source": [
    "# Заменим пропущенные значение в mb_used на 0:\n",
    "total_data['mb_used'] = total_data['mb_used'].fillna(0)"
   ]
  },
  {
   "cell_type": "code",
   "execution_count": 34,
   "metadata": {},
   "outputs": [],
   "source": [
    "# Заменим пропущенные значение в sum_calls_month на 0:\n",
    "total_data['sum_calls_month'] = total_data['sum_calls_month'].fillna(0)"
   ]
  },
  {
   "cell_type": "code",
   "execution_count": 35,
   "metadata": {},
   "outputs": [],
   "source": [
    "# Заменим пропущенные значение в count_calls_month на 0:\n",
    "total_data['count_calls_month'] = total_data['count_calls_month'].fillna(0)"
   ]
  },
  {
   "cell_type": "code",
   "execution_count": 36,
   "metadata": {},
   "outputs": [],
   "source": [
    "# Заменим пропущенные значение в count_message_month на 0:\n",
    "total_data['count_message_month'] = total_data['count_message_month'].fillna(0)"
   ]
  },
  {
   "cell_type": "code",
   "execution_count": 37,
   "metadata": {},
   "outputs": [],
   "source": [
    "# Функция для того, чтобы посчитать общий доход с каждого клиента в месяц:\n",
    "def total_profit(row):\n",
    "    calls_profit= (row['sum_calls_month'] - row['minutes_included']) * row['rub_per_minute']\n",
    "    if calls_profit < 0: calls_profit = 0\n",
    "        \n",
    "    message_profit = (row['count_message_month'] - row['messages_included']) *row['rub_per_message']\n",
    "    if  message_profit < 0:  message_profit = 0\n",
    "\n",
    "    internet_profit = (row['mb_used'] - row['mb_per_month_included']) / 1024 *row['rub_per_gb']\n",
    "    if  internet_profit < 0:  internet_profit = 0\n",
    "\n",
    "    total_profit = calls_profit + message_profit + internet_profit + row['rub_monthly_fee']\n",
    "    return total_profit"
   ]
  },
  {
   "cell_type": "code",
   "execution_count": 38,
   "metadata": {},
   "outputs": [],
   "source": [
    "# Добавим новый столбец Общий доход с каждого клиента в месяц в наш датафрейм с помощью метода apply:\n",
    "total_data['total_profit']= total_data.apply(total_profit, axis =1)"
   ]
  },
  {
   "cell_type": "code",
   "execution_count": 39,
   "metadata": {},
   "outputs": [
    {
     "data": {
      "text/html": [
       "<div>\n",
       "<style scoped>\n",
       "    .dataframe tbody tr th:only-of-type {\n",
       "        vertical-align: middle;\n",
       "    }\n",
       "\n",
       "    .dataframe tbody tr th {\n",
       "        vertical-align: top;\n",
       "    }\n",
       "\n",
       "    .dataframe thead th {\n",
       "        text-align: right;\n",
       "    }\n",
       "</style>\n",
       "<table border=\"1\" class=\"dataframe\">\n",
       "  <thead>\n",
       "    <tr style=\"text-align: right;\">\n",
       "      <th></th>\n",
       "      <th>user_id</th>\n",
       "      <th>date_month</th>\n",
       "      <th>count_message_month</th>\n",
       "      <th>mb_used</th>\n",
       "      <th>sum_calls_month</th>\n",
       "      <th>count_calls_month</th>\n",
       "      <th>age</th>\n",
       "      <th>churn_date</th>\n",
       "      <th>city</th>\n",
       "      <th>first_name</th>\n",
       "      <th>...</th>\n",
       "      <th>tariff</th>\n",
       "      <th>messages_included</th>\n",
       "      <th>mb_per_month_included</th>\n",
       "      <th>minutes_included</th>\n",
       "      <th>rub_monthly_fee</th>\n",
       "      <th>rub_per_gb</th>\n",
       "      <th>rub_per_message</th>\n",
       "      <th>rub_per_minute</th>\n",
       "      <th>tariff_name</th>\n",
       "      <th>total_profit</th>\n",
       "    </tr>\n",
       "  </thead>\n",
       "  <tbody>\n",
       "    <tr>\n",
       "      <td>0</td>\n",
       "      <td>1000</td>\n",
       "      <td>2018-05-01</td>\n",
       "      <td>22.0</td>\n",
       "      <td>2256.0</td>\n",
       "      <td>159.0</td>\n",
       "      <td>22.0</td>\n",
       "      <td>52</td>\n",
       "      <td>NaT</td>\n",
       "      <td>Краснодар</td>\n",
       "      <td>Рафаил</td>\n",
       "      <td>...</td>\n",
       "      <td>ultra</td>\n",
       "      <td>1000</td>\n",
       "      <td>30720</td>\n",
       "      <td>3000</td>\n",
       "      <td>1950</td>\n",
       "      <td>150</td>\n",
       "      <td>1</td>\n",
       "      <td>1</td>\n",
       "      <td>ultra</td>\n",
       "      <td>1950.000000</td>\n",
       "    </tr>\n",
       "    <tr>\n",
       "      <td>1</td>\n",
       "      <td>1000</td>\n",
       "      <td>2018-06-01</td>\n",
       "      <td>60.0</td>\n",
       "      <td>23257.0</td>\n",
       "      <td>172.0</td>\n",
       "      <td>43.0</td>\n",
       "      <td>52</td>\n",
       "      <td>NaT</td>\n",
       "      <td>Краснодар</td>\n",
       "      <td>Рафаил</td>\n",
       "      <td>...</td>\n",
       "      <td>ultra</td>\n",
       "      <td>1000</td>\n",
       "      <td>30720</td>\n",
       "      <td>3000</td>\n",
       "      <td>1950</td>\n",
       "      <td>150</td>\n",
       "      <td>1</td>\n",
       "      <td>1</td>\n",
       "      <td>ultra</td>\n",
       "      <td>1950.000000</td>\n",
       "    </tr>\n",
       "    <tr>\n",
       "      <td>2</td>\n",
       "      <td>1000</td>\n",
       "      <td>2018-07-01</td>\n",
       "      <td>75.0</td>\n",
       "      <td>14016.0</td>\n",
       "      <td>340.0</td>\n",
       "      <td>47.0</td>\n",
       "      <td>52</td>\n",
       "      <td>NaT</td>\n",
       "      <td>Краснодар</td>\n",
       "      <td>Рафаил</td>\n",
       "      <td>...</td>\n",
       "      <td>ultra</td>\n",
       "      <td>1000</td>\n",
       "      <td>30720</td>\n",
       "      <td>3000</td>\n",
       "      <td>1950</td>\n",
       "      <td>150</td>\n",
       "      <td>1</td>\n",
       "      <td>1</td>\n",
       "      <td>ultra</td>\n",
       "      <td>1950.000000</td>\n",
       "    </tr>\n",
       "    <tr>\n",
       "      <td>3</td>\n",
       "      <td>1000</td>\n",
       "      <td>2018-08-01</td>\n",
       "      <td>81.0</td>\n",
       "      <td>14070.0</td>\n",
       "      <td>408.0</td>\n",
       "      <td>52.0</td>\n",
       "      <td>52</td>\n",
       "      <td>NaT</td>\n",
       "      <td>Краснодар</td>\n",
       "      <td>Рафаил</td>\n",
       "      <td>...</td>\n",
       "      <td>ultra</td>\n",
       "      <td>1000</td>\n",
       "      <td>30720</td>\n",
       "      <td>3000</td>\n",
       "      <td>1950</td>\n",
       "      <td>150</td>\n",
       "      <td>1</td>\n",
       "      <td>1</td>\n",
       "      <td>ultra</td>\n",
       "      <td>1950.000000</td>\n",
       "    </tr>\n",
       "    <tr>\n",
       "      <td>4</td>\n",
       "      <td>1000</td>\n",
       "      <td>2018-09-01</td>\n",
       "      <td>57.0</td>\n",
       "      <td>14581.0</td>\n",
       "      <td>466.0</td>\n",
       "      <td>58.0</td>\n",
       "      <td>52</td>\n",
       "      <td>NaT</td>\n",
       "      <td>Краснодар</td>\n",
       "      <td>Рафаил</td>\n",
       "      <td>...</td>\n",
       "      <td>ultra</td>\n",
       "      <td>1000</td>\n",
       "      <td>30720</td>\n",
       "      <td>3000</td>\n",
       "      <td>1950</td>\n",
       "      <td>150</td>\n",
       "      <td>1</td>\n",
       "      <td>1</td>\n",
       "      <td>ultra</td>\n",
       "      <td>1950.000000</td>\n",
       "    </tr>\n",
       "    <tr>\n",
       "      <td>...</td>\n",
       "      <td>...</td>\n",
       "      <td>...</td>\n",
       "      <td>...</td>\n",
       "      <td>...</td>\n",
       "      <td>...</td>\n",
       "      <td>...</td>\n",
       "      <td>...</td>\n",
       "      <td>...</td>\n",
       "      <td>...</td>\n",
       "      <td>...</td>\n",
       "      <td>...</td>\n",
       "      <td>...</td>\n",
       "      <td>...</td>\n",
       "      <td>...</td>\n",
       "      <td>...</td>\n",
       "      <td>...</td>\n",
       "      <td>...</td>\n",
       "      <td>...</td>\n",
       "      <td>...</td>\n",
       "      <td>...</td>\n",
       "      <td>...</td>\n",
       "    </tr>\n",
       "    <tr>\n",
       "      <td>3211</td>\n",
       "      <td>1494</td>\n",
       "      <td>2018-09-01</td>\n",
       "      <td>0.0</td>\n",
       "      <td>16986.0</td>\n",
       "      <td>501.0</td>\n",
       "      <td>66.0</td>\n",
       "      <td>62</td>\n",
       "      <td>NaT</td>\n",
       "      <td>Омск</td>\n",
       "      <td>Ренат</td>\n",
       "      <td>...</td>\n",
       "      <td>smart</td>\n",
       "      <td>50</td>\n",
       "      <td>15360</td>\n",
       "      <td>500</td>\n",
       "      <td>550</td>\n",
       "      <td>200</td>\n",
       "      <td>3</td>\n",
       "      <td>3</td>\n",
       "      <td>smart</td>\n",
       "      <td>870.578125</td>\n",
       "    </tr>\n",
       "    <tr>\n",
       "      <td>3212</td>\n",
       "      <td>1494</td>\n",
       "      <td>2018-10-01</td>\n",
       "      <td>0.0</td>\n",
       "      <td>17794.0</td>\n",
       "      <td>354.0</td>\n",
       "      <td>52.0</td>\n",
       "      <td>62</td>\n",
       "      <td>NaT</td>\n",
       "      <td>Омск</td>\n",
       "      <td>Ренат</td>\n",
       "      <td>...</td>\n",
       "      <td>smart</td>\n",
       "      <td>50</td>\n",
       "      <td>15360</td>\n",
       "      <td>500</td>\n",
       "      <td>550</td>\n",
       "      <td>200</td>\n",
       "      <td>3</td>\n",
       "      <td>3</td>\n",
       "      <td>smart</td>\n",
       "      <td>1025.390625</td>\n",
       "    </tr>\n",
       "    <tr>\n",
       "      <td>3213</td>\n",
       "      <td>1494</td>\n",
       "      <td>2018-11-01</td>\n",
       "      <td>0.0</td>\n",
       "      <td>18076.0</td>\n",
       "      <td>411.0</td>\n",
       "      <td>63.0</td>\n",
       "      <td>62</td>\n",
       "      <td>NaT</td>\n",
       "      <td>Омск</td>\n",
       "      <td>Ренат</td>\n",
       "      <td>...</td>\n",
       "      <td>smart</td>\n",
       "      <td>50</td>\n",
       "      <td>15360</td>\n",
       "      <td>500</td>\n",
       "      <td>550</td>\n",
       "      <td>200</td>\n",
       "      <td>3</td>\n",
       "      <td>3</td>\n",
       "      <td>smart</td>\n",
       "      <td>1080.468750</td>\n",
       "    </tr>\n",
       "    <tr>\n",
       "      <td>3214</td>\n",
       "      <td>1494</td>\n",
       "      <td>2018-12-01</td>\n",
       "      <td>0.0</td>\n",
       "      <td>17645.0</td>\n",
       "      <td>418.0</td>\n",
       "      <td>62.0</td>\n",
       "      <td>62</td>\n",
       "      <td>NaT</td>\n",
       "      <td>Омск</td>\n",
       "      <td>Ренат</td>\n",
       "      <td>...</td>\n",
       "      <td>smart</td>\n",
       "      <td>50</td>\n",
       "      <td>15360</td>\n",
       "      <td>500</td>\n",
       "      <td>550</td>\n",
       "      <td>200</td>\n",
       "      <td>3</td>\n",
       "      <td>3</td>\n",
       "      <td>smart</td>\n",
       "      <td>996.289062</td>\n",
       "    </tr>\n",
       "    <tr>\n",
       "      <td>3215</td>\n",
       "      <td>1371</td>\n",
       "      <td>NaT</td>\n",
       "      <td>0.0</td>\n",
       "      <td>0.0</td>\n",
       "      <td>0.0</td>\n",
       "      <td>0.0</td>\n",
       "      <td>50</td>\n",
       "      <td>2018-12-30</td>\n",
       "      <td>Омск</td>\n",
       "      <td>Ириней</td>\n",
       "      <td>...</td>\n",
       "      <td>smart</td>\n",
       "      <td>50</td>\n",
       "      <td>15360</td>\n",
       "      <td>500</td>\n",
       "      <td>550</td>\n",
       "      <td>200</td>\n",
       "      <td>3</td>\n",
       "      <td>3</td>\n",
       "      <td>smart</td>\n",
       "      <td>550.000000</td>\n",
       "    </tr>\n",
       "  </tbody>\n",
       "</table>\n",
       "<p>3216 rows × 22 columns</p>\n",
       "</div>"
      ],
      "text/plain": [
       "      user_id date_month  count_message_month  mb_used  sum_calls_month  \\\n",
       "0        1000 2018-05-01                 22.0   2256.0            159.0   \n",
       "1        1000 2018-06-01                 60.0  23257.0            172.0   \n",
       "2        1000 2018-07-01                 75.0  14016.0            340.0   \n",
       "3        1000 2018-08-01                 81.0  14070.0            408.0   \n",
       "4        1000 2018-09-01                 57.0  14581.0            466.0   \n",
       "...       ...        ...                  ...      ...              ...   \n",
       "3211     1494 2018-09-01                  0.0  16986.0            501.0   \n",
       "3212     1494 2018-10-01                  0.0  17794.0            354.0   \n",
       "3213     1494 2018-11-01                  0.0  18076.0            411.0   \n",
       "3214     1494 2018-12-01                  0.0  17645.0            418.0   \n",
       "3215     1371        NaT                  0.0      0.0              0.0   \n",
       "\n",
       "      count_calls_month  age churn_date       city first_name  ... tariff  \\\n",
       "0                  22.0   52        NaT  Краснодар     Рафаил  ...  ultra   \n",
       "1                  43.0   52        NaT  Краснодар     Рафаил  ...  ultra   \n",
       "2                  47.0   52        NaT  Краснодар     Рафаил  ...  ultra   \n",
       "3                  52.0   52        NaT  Краснодар     Рафаил  ...  ultra   \n",
       "4                  58.0   52        NaT  Краснодар     Рафаил  ...  ultra   \n",
       "...                 ...  ...        ...        ...        ...  ...    ...   \n",
       "3211               66.0   62        NaT       Омск      Ренат  ...  smart   \n",
       "3212               52.0   62        NaT       Омск      Ренат  ...  smart   \n",
       "3213               63.0   62        NaT       Омск      Ренат  ...  smart   \n",
       "3214               62.0   62        NaT       Омск      Ренат  ...  smart   \n",
       "3215                0.0   50 2018-12-30       Омск     Ириней  ...  smart   \n",
       "\n",
       "     messages_included mb_per_month_included  minutes_included  \\\n",
       "0                 1000                 30720              3000   \n",
       "1                 1000                 30720              3000   \n",
       "2                 1000                 30720              3000   \n",
       "3                 1000                 30720              3000   \n",
       "4                 1000                 30720              3000   \n",
       "...                ...                   ...               ...   \n",
       "3211                50                 15360               500   \n",
       "3212                50                 15360               500   \n",
       "3213                50                 15360               500   \n",
       "3214                50                 15360               500   \n",
       "3215                50                 15360               500   \n",
       "\n",
       "      rub_monthly_fee  rub_per_gb  rub_per_message  rub_per_minute  \\\n",
       "0                1950         150                1               1   \n",
       "1                1950         150                1               1   \n",
       "2                1950         150                1               1   \n",
       "3                1950         150                1               1   \n",
       "4                1950         150                1               1   \n",
       "...               ...         ...              ...             ...   \n",
       "3211              550         200                3               3   \n",
       "3212              550         200                3               3   \n",
       "3213              550         200                3               3   \n",
       "3214              550         200                3               3   \n",
       "3215              550         200                3               3   \n",
       "\n",
       "      tariff_name  total_profit  \n",
       "0           ultra   1950.000000  \n",
       "1           ultra   1950.000000  \n",
       "2           ultra   1950.000000  \n",
       "3           ultra   1950.000000  \n",
       "4           ultra   1950.000000  \n",
       "...           ...           ...  \n",
       "3211        smart    870.578125  \n",
       "3212        smart   1025.390625  \n",
       "3213        smart   1080.468750  \n",
       "3214        smart    996.289062  \n",
       "3215        smart    550.000000  \n",
       "\n",
       "[3216 rows x 22 columns]"
      ]
     },
     "metadata": {},
     "output_type": "display_data"
    }
   ],
   "source": [
    "# Проверим заполнение данных:\n",
    "display(total_data)"
   ]
  },
  {
   "cell_type": "markdown",
   "metadata": {},
   "source": [
    "### Вывод:"
   ]
  },
  {
   "cell_type": "markdown",
   "metadata": {},
   "source": [
    "* Исправили ошибки, которые были обнаружены ранее;\n",
    "* Объединил все таблицы в одну;\n",
    "* Посчитали для каждого пользователя ( кол-во звонков,смс, мегабайты, израсходованные минуты и интернет трафик)\n",
    "* Нашли выручку с каждого пользователя."
   ]
  },
  {
   "cell_type": "markdown",
   "metadata": {},
   "source": [
    "### Шаг 3. Проанализируем данные:<a id=\"3\"></a>"
   ]
  },
  {
   "cell_type": "code",
   "execution_count": 40,
   "metadata": {},
   "outputs": [
    {
     "data": {
      "image/png": "[encoded data removed]",
      "text/plain": [
       "<Figure size 1008x504 with 1 Axes>"
      ]
     },
     "metadata": {
      "needs_background": "light"
     },
     "output_type": "display_data"
    }
   ],
   "source": [
    "# Построим гистограмму по количеству минут потраченных в месяц на тарфие ультра:\n",
    "total_data.query('tariff_name == \"ultra\"').plot(y =\"sum_calls_month\",kind='hist', bins=15, figsize=(14, 7), grid=True)\n",
    "plt.title('Гистограмма распределения используемых минут в месяц клиентами тарифа \"Ультра\"')\n",
    "plt.xlabel('Количество потраченных минут в месяц')\n",
    "plt.ylabel('Количество людей')\n",
    "plt.show()"
   ]
  },
  {
   "cell_type": "code",
   "execution_count": 41,
   "metadata": {},
   "outputs": [
    {
     "data": {
      "image/png": "[encoded data removed]",
      "text/plain": [
       "<Figure size 1008x504 with 1 Axes>"
      ]
     },
     "metadata": {
      "needs_background": "light"
     },
     "output_type": "display_data"
    }
   ],
   "source": [
    "# Построим гистограмму по количеству минут потраченных в месяц на тарифе смарт:\n",
    "total_data.query('tariff_name == \"smart\"').plot(y =\"sum_calls_month\",kind='hist', bins=15, figsize=(14, 7), grid=True)\n",
    "plt.title('Гистограмма распределения используемых минут в месяц клиентами тарифа \"Смарт\"')\n",
    "plt.xlabel('Количество потраченных минут в месяц')\n",
    "plt.ylabel('Количество людей')\n",
    "plt.show()"
   ]
  },
  {
   "cell_type": "markdown",
   "metadata": {},
   "source": [
    "# Вывел две зависимости вместе по кол-ву минут для тарифов"
   ]
  },
  {
   "cell_type": "code",
   "execution_count": 42,
   "metadata": {},
   "outputs": [
    {
     "data": {
      "image/png": "[encoded data removed]",
      "text/plain": [
       "<Figure size 1008x504 with 1 Axes>"
      ]
     },
     "metadata": {
      "needs_background": "light"
     },
     "output_type": "display_data"
    }
   ],
   "source": [
    "ax=total_data.query('tariff_name == \"ultra\"').plot(y =\"sum_calls_month\",kind='hist', bins=15, figsize=(14, 7), grid=True, label='Ultra')\n",
    "total_data.query('tariff_name == \"smart\"').plot(y =\"sum_calls_month\",kind='hist', bins=15, figsize=(14, 7), grid=True,ax=ax, alpha=0.3, label='Smart')\n",
    "plt.title('Гистограмма распределения используемых минут в месяц')\n",
    "plt.xlabel('Количество потраченных минут в месяц')\n",
    "plt.ylabel('Количество людей')\n",
    "plt.legend()\n",
    "plt.show()"
   ]
  },
  {
   "cell_type": "code",
   "execution_count": 43,
   "metadata": {},
   "outputs": [
    {
     "data": {
      "image/png": "[encoded data removed]",
      "text/plain": [
       "<Figure size 1008x504 with 1 Axes>"
      ]
     },
     "metadata": {
      "needs_background": "light"
     },
     "output_type": "display_data"
    }
   ],
   "source": [
    "# Построим категориальный график потраченные минуты в каждом месяце для каждого тарифа:\n",
    "data_ultra = total_data.query('tariff_name == \"ultra\"')\n",
    "data_smart = total_data.query('tariff_name == \"smart\"')\n",
    "\n",
    "data_ultra['tariff'] = 'Ultra'\n",
    "data_smart['tariff'] = 'Smart'\n",
    "\n",
    "temp = pd.concat([data_ultra, data_smart])\n",
    "df_rev = temp.dropna(subset=['date_month']).sort_values('date_month').reset_index(drop=True)\n",
    "plt.figure(figsize=(14, 7))\n",
    "sns.boxenplot(x=df_rev['date_month'].dt.strftime('%m-%Y'), y=df_rev['sum_calls_month'],  hue=df_rev['tariff'])\n",
    "plt.xlabel('Месяц')\n",
    "plt.ylabel('Количество потраченных минут, мин.')\n",
    "plt.xticks(rotation=45, ha='right')\n",
    "plt.show()"
   ]
  },
  {
   "cell_type": "code",
   "execution_count": 44,
   "metadata": {},
   "outputs": [
    {
     "data": {
      "image/png": "[encoded data removed]",
      "text/plain": [
       "<Figure size 1008x504 with 1 Axes>"
      ]
     },
     "metadata": {
      "needs_background": "light"
     },
     "output_type": "display_data"
    }
   ],
   "source": [
    "# Построим гистограмму по количеству смс потраченных в месяц на тарфие ультра:\n",
    "total_data.query('tariff_name == \"ultra\"').plot(y =\"count_message_month\",kind='hist', bins=20, figsize=(14, 7), grid=True)\n",
    "plt.title('Гистограмма распределения потраченных смс в месяц клиентами тарифа \"Ультра\"')\n",
    "plt.xlabel('Количество потраченных смс в месяц')\n",
    "plt.ylabel('Количество людей')\n",
    "plt.show()"
   ]
  },
  {
   "cell_type": "code",
   "execution_count": 45,
   "metadata": {},
   "outputs": [
    {
     "data": {
      "image/png": "[encoded data removed]",
      "text/plain": [
       "<Figure size 1008x504 with 1 Axes>"
      ]
     },
     "metadata": {
      "needs_background": "light"
     },
     "output_type": "display_data"
    }
   ],
   "source": [
    "# Построим гистограмму по количеству смс потраченных в месяц на тарифе смарт:\n",
    "total_data.query('tariff_name == \"smart\"').plot(y =\"count_message_month\",kind='hist', bins=20, figsize=(14, 7), grid=True)\n",
    "plt.title('Гистограмма распределения потраченных смс в месяц клиентами тарифа \"Смарт\"')\n",
    "plt.xlabel('Количество потраченных смс в месяц')\n",
    "plt.ylabel('Количество людей')\n",
    "plt.show()"
   ]
  },
  {
   "cell_type": "code",
   "execution_count": 46,
   "metadata": {},
   "outputs": [
    {
     "data": {
      "image/png": "[encoded data removed]",
      "text/plain": [
       "<Figure size 1008x504 with 1 Axes>"
      ]
     },
     "metadata": {
      "needs_background": "light"
     },
     "output_type": "display_data"
    }
   ],
   "source": [
    "# Построим гистограмму по количеству mb потраченных в месяц на тарфие ультра:\n",
    "total_data.query('tariff_name == \"ultra\"').plot(y =\"mb_used\",kind='hist', bins=20, figsize=(14, 7), grid=True)\n",
    "plt.title('Гистограмма распределения потраченных mb в месяц клиентами тарифа \"Ультра\"')\n",
    "plt.xlabel('Количество потраченных mb в месяц')\n",
    "plt.ylabel('Количество людей')\n",
    "plt.show()"
   ]
  },
  {
   "cell_type": "code",
   "execution_count": 47,
   "metadata": {},
   "outputs": [
    {
     "data": {
      "image/png": "[encoded data removed]",
      "text/plain": [
       "<Figure size 1008x504 with 1 Axes>"
      ]
     },
     "metadata": {
      "needs_background": "light"
     },
     "output_type": "display_data"
    }
   ],
   "source": [
    "# Построим гистограмму по количеству mb потраченных в месяц на тарифе смарт:\n",
    "total_data.query('tariff_name == \"smart\"').plot(y =\"mb_used\",kind='hist', bins=20, figsize=(14, 7), grid=True)\n",
    "plt.title('Гистограмма распределения потраченных mb в месяц клиентами тарифа \"Смарт\"')\n",
    "plt.xlabel('Количество потраченных mb в месяц')\n",
    "plt.ylabel('Количество людей')\n",
    "plt.show()"
   ]
  },
  {
   "cell_type": "code",
   "execution_count": 48,
   "metadata": {},
   "outputs": [
    {
     "data": {
      "image/png": "[encoded data removed]",
      "text/plain": [
       "<Figure size 1008x504 with 1 Axes>"
      ]
     },
     "metadata": {
      "needs_background": "light"
     },
     "output_type": "display_data"
    }
   ],
   "source": [
    "# Построим категориальный график потраченные мегабайты в каждом месяце для каждого тарифа:\n",
    "\n",
    "data_ultra['tariff'] = 'Ultra'\n",
    "data_smart['tariff'] = 'Smart'\n",
    "\n",
    "temp = pd.concat([data_ultra, data_smart])\n",
    "plt.figure(figsize=(14, 7))\n",
    "sns.boxenplot(x=df_rev['date_month'].dt.strftime('%m-%Y'), y=df_rev['mb_used'],  hue=df_rev['tariff'])\n",
    "plt.xlabel('Месяц')\n",
    "plt.ylabel('Количество потраченных мегабайтов, мб')\n",
    "plt.xticks(rotation=45, ha='right')\n",
    "plt.show()"
   ]
  },
  {
   "cell_type": "code",
   "execution_count": 49,
   "metadata": {},
   "outputs": [
    {
     "data": {
      "text/html": [
       "<div>\n",
       "<style scoped>\n",
       "    .dataframe tbody tr th:only-of-type {\n",
       "        vertical-align: middle;\n",
       "    }\n",
       "\n",
       "    .dataframe tbody tr th {\n",
       "        vertical-align: top;\n",
       "    }\n",
       "\n",
       "    .dataframe thead th {\n",
       "        text-align: right;\n",
       "    }\n",
       "</style>\n",
       "<table border=\"1\" class=\"dataframe\">\n",
       "  <thead>\n",
       "    <tr style=\"text-align: right;\">\n",
       "      <th></th>\n",
       "      <th>tariff_name</th>\n",
       "      <th>smart</th>\n",
       "      <th>ultra</th>\n",
       "    </tr>\n",
       "  </thead>\n",
       "  <tbody>\n",
       "    <tr>\n",
       "      <td rowspan=\"3\" valign=\"top\">median</td>\n",
       "      <td>count_message_month</td>\n",
       "      <td>2.800000e+01</td>\n",
       "      <td>3.800000e+01</td>\n",
       "    </tr>\n",
       "    <tr>\n",
       "      <td>mb_used</td>\n",
       "      <td>1.652900e+04</td>\n",
       "      <td>1.932000e+04</td>\n",
       "    </tr>\n",
       "    <tr>\n",
       "      <td>sum_calls_month</td>\n",
       "      <td>4.215000e+02</td>\n",
       "      <td>5.180000e+02</td>\n",
       "    </tr>\n",
       "    <tr>\n",
       "      <td rowspan=\"3\" valign=\"top\">mean</td>\n",
       "      <td>count_message_month</td>\n",
       "      <td>3.336906e+01</td>\n",
       "      <td>4.931339e+01</td>\n",
       "    </tr>\n",
       "    <tr>\n",
       "      <td>mb_used</td>\n",
       "      <td>1.622191e+04</td>\n",
       "      <td>1.946714e+04</td>\n",
       "    </tr>\n",
       "    <tr>\n",
       "      <td>sum_calls_month</td>\n",
       "      <td>4.177475e+02</td>\n",
       "      <td>5.260892e+02</td>\n",
       "    </tr>\n",
       "    <tr>\n",
       "      <td rowspan=\"3\" valign=\"top\">var</td>\n",
       "      <td>count_message_month</td>\n",
       "      <td>7.969553e+02</td>\n",
       "      <td>2.285417e+03</td>\n",
       "    </tr>\n",
       "    <tr>\n",
       "      <td>mb_used</td>\n",
       "      <td>3.464852e+07</td>\n",
       "      <td>1.022173e+08</td>\n",
       "    </tr>\n",
       "    <tr>\n",
       "      <td>sum_calls_month</td>\n",
       "      <td>3.628139e+04</td>\n",
       "      <td>1.010525e+05</td>\n",
       "    </tr>\n",
       "    <tr>\n",
       "      <td rowspan=\"3\" valign=\"top\">std</td>\n",
       "      <td>count_message_month</td>\n",
       "      <td>2.823040e+01</td>\n",
       "      <td>4.780604e+01</td>\n",
       "    </tr>\n",
       "    <tr>\n",
       "      <td>mb_used</td>\n",
       "      <td>5.886300e+03</td>\n",
       "      <td>1.011026e+04</td>\n",
       "    </tr>\n",
       "    <tr>\n",
       "      <td>sum_calls_month</td>\n",
       "      <td>1.904768e+02</td>\n",
       "      <td>3.178875e+02</td>\n",
       "    </tr>\n",
       "    <tr>\n",
       "      <td rowspan=\"3\" valign=\"top\">count</td>\n",
       "      <td>count_message_month</td>\n",
       "      <td>2.230000e+03</td>\n",
       "      <td>9.860000e+02</td>\n",
       "    </tr>\n",
       "    <tr>\n",
       "      <td>mb_used</td>\n",
       "      <td>2.230000e+03</td>\n",
       "      <td>9.860000e+02</td>\n",
       "    </tr>\n",
       "    <tr>\n",
       "      <td>sum_calls_month</td>\n",
       "      <td>2.230000e+03</td>\n",
       "      <td>9.860000e+02</td>\n",
       "    </tr>\n",
       "  </tbody>\n",
       "</table>\n",
       "</div>"
      ],
      "text/plain": [
       "tariff_name                        smart         ultra\n",
       "median count_message_month  2.800000e+01  3.800000e+01\n",
       "       mb_used              1.652900e+04  1.932000e+04\n",
       "       sum_calls_month      4.215000e+02  5.180000e+02\n",
       "mean   count_message_month  3.336906e+01  4.931339e+01\n",
       "       mb_used              1.622191e+04  1.946714e+04\n",
       "       sum_calls_month      4.177475e+02  5.260892e+02\n",
       "var    count_message_month  7.969553e+02  2.285417e+03\n",
       "       mb_used              3.464852e+07  1.022173e+08\n",
       "       sum_calls_month      3.628139e+04  1.010525e+05\n",
       "std    count_message_month  2.823040e+01  4.780604e+01\n",
       "       mb_used              5.886300e+03  1.011026e+04\n",
       "       sum_calls_month      1.904768e+02  3.178875e+02\n",
       "count  count_message_month  2.230000e+03  9.860000e+02\n",
       "       mb_used              2.230000e+03  9.860000e+02\n",
       "       sum_calls_month      2.230000e+03  9.860000e+02"
      ]
     },
     "metadata": {},
     "output_type": "display_data"
    }
   ],
   "source": [
    "# Создадим сводную таблицу, где для каждого тарифа найдем медиану,  среднее, дисперсию и стандартное отклонение для интересующих нас столбцов:\n",
    "display(total_data.pivot_table(index = 'tariff_name',values=['sum_calls_month','count_message_month','mb_used'],aggfunc=['median','mean','var','std','count']).T)"
   ]
  },
  {
   "cell_type": "code",
   "execution_count": 50,
   "metadata": {},
   "outputs": [
    {
     "data": {
      "text/plain": [
       "2060.417871688007"
      ]
     },
     "execution_count": 50,
     "metadata": {},
     "output_type": "execute_result"
    }
   ],
   "source": [
    "# Посчитаем сколько средний пользователь тарифа ультра тратит в месяц:\n",
    "total_data[total_data['tariff_name'] ==\"ultra\"]['total_profit'].mean()"
   ]
  },
  {
   "cell_type": "code",
   "execution_count": 51,
   "metadata": {},
   "outputs": [
    {
     "data": {
      "text/plain": [
       "1233.0430318105382"
      ]
     },
     "execution_count": 51,
     "metadata": {},
     "output_type": "execute_result"
    }
   ],
   "source": [
    "# Посчитаем сколько средний пользователь тарифа смарт тратит в месяц:\n",
    "total_data[total_data['tariff_name'] ==\"smart\"]['total_profit'].mean()"
   ]
  },
  {
   "cell_type": "code",
   "execution_count": 52,
   "metadata": {},
   "outputs": [
    {
     "data": {
      "image/png": "[encoded data removed]",
      "text/plain": [
       "<Figure size 1008x504 with 1 Axes>"
      ]
     },
     "metadata": {
      "needs_background": "light"
     },
     "output_type": "display_data"
    }
   ],
   "source": [
    "# Построим график зависимости среднего дохода для каждого тарифа за месяц:\n",
    "ax = (data_ultra\n",
    " .pivot_table(index = 'date_month', values = 'total_profit', aggfunc='mean' )\n",
    " .plot(y='total_profit', kind='barh', title='Средний доход для тарифов за месяц', figsize=(14, 7), grid=True, label='Ultra')\n",
    ")\n",
    "(data_smart\n",
    " .pivot_table(index = 'date_month', values = 'total_profit', aggfunc='mean' )\n",
    " .plot(y='total_profit', kind='barh', title='Средний доход для тарифов за месяц', figsize=(14, 7), grid=True,ax=ax,color='r', label='Smart')\n",
    ")\n",
    "plt.xlabel('Средний доход, руб.')\n",
    "plt.ylabel('Месяц')\n",
    "plt.show()"
   ]
  },
  {
   "cell_type": "markdown",
   "metadata": {},
   "source": [
    "### Вывод:"
   ]
  },
  {
   "cell_type": "markdown",
   "metadata": {},
   "source": [
    "Проведя построение гистограм распределения данных,укажем обычное потребеление пользователем минут,смс и мегабайт:\n",
    "Потраченные минуты:\n",
    "\n",
    "* Для пользователей тарифа Смарт: 400-550 мин.\n",
    "* Для пользователей тарифа Ультра: 500 мин.\n",
    "\n",
    "Потраченные смс:\n",
    "\n",
    "* Для пользователей тарифа Смарт: 20 шт.\n",
    "* Для пользователей тарифа Ультра: 10 шт.\n",
    "\n",
    "Потраченные мегабайты интернета:\n",
    "\n",
    "* Для пользователей тарифа Смарт: около 16 Гб.\n",
    "* Для пользователей тарифа Ультра: около 20 Гб."
   ]
  },
  {
   "cell_type": "markdown",
   "metadata": {},
   "source": [
    "### Шаг 4. Проверим гипотезы:<a id=\"4\"></a>"
   ]
  },
  {
   "cell_type": "markdown",
   "metadata": {},
   "source": [
    "#### Проверим гипотезу №1."
   ]
  },
  {
   "cell_type": "markdown",
   "metadata": {},
   "source": [
    "Сформулируем гипотезы:\n",
    "* H0:Средняя выручка пользователей тарифов «Ультра» и «Смарт» НЕ различается\n",
    "* H1:Средняя выручка пользователей тарифов «Ультра» и «Смарт» различается"
   ]
  },
  {
   "cell_type": "code",
   "execution_count": 53,
   "metadata": {},
   "outputs": [
    {
     "data": {
      "text/plain": [
       "2.3978183884958415e-115"
      ]
     },
     "metadata": {},
     "output_type": "display_data"
    }
   ],
   "source": [
    "# Найдем диспресию для двух выборок тестом Левена:\n",
    "from scipy.stats import levene\n",
    "a=total_data[total_data['tariff_name'] ==\"ultra\"]['total_profit']\n",
    "b=total_data[total_data['tariff_name'] ==\"smart\"]['total_profit']\n",
    "stat, p = levene(a,b)\n",
    "display(p)"
   ]
  },
  {
   "cell_type": "code",
   "execution_count": 54,
   "metadata": {},
   "outputs": [
    {
     "data": {
      "text/plain": [
       "1.1273347694424213e-146"
      ]
     },
     "metadata": {},
     "output_type": "display_data"
    }
   ],
   "source": [
    "# Найдем диспресию для двух выборок тестом Бартлетта: \n",
    "from scipy.stats import bartlett\n",
    "stat, pp = bartlett(a, b)\n",
    "display(pp)"
   ]
  },
  {
   "cell_type": "markdown",
   "metadata": {},
   "source": [
    "Малое значение p (при проверке тестом Левена и Бартлетта) говорит нам, что дисперсия для двух выборк не совпадает, значит при проверки нулевой гипотезы будем использовать st.ttest_ind аргумент equal_var=False т.к. он говорит методу что диспресия выборок не равны."
   ]
  },
  {
   "cell_type": "code",
   "execution_count": 55,
   "metadata": {},
   "outputs": [
    {
     "name": "stdout",
     "output_type": "stream",
     "text": [
      "p-значение: 3.665639404941008e-296\n",
      "Отвергаем нулевую гипотезу\n"
     ]
    }
   ],
   "source": [
    "array1 = total_data[total_data['tariff_name'] ==\"ultra\"]['total_profit']\n",
    "array2 = total_data[total_data['tariff_name'] ==\"smart\"]['total_profit']\n",
    "\n",
    "alpha = .05 \n",
    "\n",
    "results = st.ttest_ind(array1,array2, equal_var=False)\n",
    "\n",
    "print('p-значение:', results.pvalue) \n",
    "\n",
    "if (results.pvalue < alpha):\n",
    "    print(\"Отвергаем нулевую гипотезу\")\n",
    "else:\n",
    "    print(\"Не получилось отвергнуть нулевую гипотезу\")\n"
   ]
  },
  {
   "cell_type": "markdown",
   "metadata": {},
   "source": [
    "#### Вывод:"
   ]
  },
  {
   "cell_type": "markdown",
   "metadata": {},
   "source": [
    "Полученное р-значение очень маленькое, поэтому нулевая гипотеза была отвергнута. Средняя выручка с пользователей тарифа \"Смарт\" и тарифа \"Ультра\" отличается."
   ]
  },
  {
   "cell_type": "markdown",
   "metadata": {},
   "source": [
    "#### Проверим гипотезу №2."
   ]
  },
  {
   "cell_type": "markdown",
   "metadata": {},
   "source": [
    "Сформулируем гипотезы:\n",
    "* H0:Cредняя выручка пользователей из Москвы НЕ отличается от выручки пользователей из других регионов\n",
    "* H1:Cредняя выручка пользователей из Москвы отличается от выручки пользователей из других регионов"
   ]
  },
  {
   "cell_type": "code",
   "execution_count": 56,
   "metadata": {},
   "outputs": [
    {
     "name": "stdout",
     "output_type": "stream",
     "text": [
      "p-значение: 0.4517561756356935\n",
      "Не получилось отвергнуть нулевую гипотезу\n"
     ]
    }
   ],
   "source": [
    "array1 = total_data[total_data['city'] ==\"Москва\"]['total_profit']\n",
    "array2 = total_data[total_data['city'] !=\"Москва\"]['total_profit']\n",
    "\n",
    "alpha = .05 \n",
    "\n",
    "results = st.ttest_ind(array1,array2, equal_var=False)\n",
    "\n",
    "print('p-значение:', results.pvalue) \n",
    "\n",
    "if (results.pvalue < alpha):\n",
    "    print(\"Отвергаем нулевую гипотезу\")\n",
    "else:\n",
    "    print(\"Не получилось отвергнуть нулевую гипотезу\")\n"
   ]
  },
  {
   "cell_type": "markdown",
   "metadata": {},
   "source": [
    "#### Вывод:"
   ]
  },
  {
   "cell_type": "markdown",
   "metadata": {},
   "source": [
    "Полученное р-значение достаточно большое для того, чтобы не отвергнуть нулевую гипотезу. Средняя выручка для регионов и г.Москвы совпадает. "
   ]
  },
  {
   "cell_type": "markdown",
   "metadata": {},
   "source": [
    "### Шаг 5. Общий вывод:<a id=\"5\"></a>"
   ]
  },
  {
   "cell_type": "markdown",
   "metadata": {},
   "source": [
    "Проанализировав данные пользователей двух тарифов Смарт и Ультра, можно сделать выводы:\n",
    "   1. Пользователи тарифа Смарт, чаще всего превышают лимиты на тарифе, особенно это заметно при потреблении интернета. Тем самым повышают свои рассходы.\n",
    "   2. Пользователи тарифа Ультра чаще всего не рассходуют свои лимитные нормы. \n",
    "   3. Проверив гипотезу о том, что средняя выручка пользователей тарифов «Ультра» и «Смарт» различается мы убедились, что это действительнно так.\n",
    "   4. Гипотеза о том, что средняя выручка пользователей из Москвы отличается от выручки пользователей из других регионов не оправдала себя, видимо сказывается то, тратят во всех регионах одинаково, потому что связь и интернет нужны всем.\n",
    "    \n",
    "    \n",
    "Рекомендации:\n",
    "   1. Продвигать тариф Смарт, он более выгодный с точки зрения затрат и окупаемости., но необходимо оценить как влияет переплата в месяц на отток клиентов.\n",
    "   2. Оптимизировать лимитные границы на тарифе Ультра.\n",
    "   \n",
    "В итоге два пути движения компании: популяризация Ультра (т.е берем качеством) или же расширение Смарт (берем количеством)."
   ]
  }
 ],
 "metadata": {
  "ExecuteTimeLog": [
   {
    "duration": 1522,
    "start_time": "2021-07-13T15:03:51.462Z"
   },
   {
    "duration": 9,
    "start_time": "2021-07-13T15:03:52.985Z"
   },
   {
    "duration": 9,
    "start_time": "2021-07-13T15:03:52.996Z"
   },
   {
    "duration": 8,
    "start_time": "2021-07-13T15:03:53.007Z"
   },
   {
    "duration": 11,
    "start_time": "2021-07-13T15:03:53.017Z"
   },
   {
    "duration": 9,
    "start_time": "2021-07-13T15:03:53.030Z"
   },
   {
    "duration": 29,
    "start_time": "2021-07-13T15:03:53.040Z"
   },
   {
    "duration": 43,
    "start_time": "2021-07-13T15:03:53.072Z"
   },
   {
    "duration": 11,
    "start_time": "2021-07-13T15:03:53.117Z"
   },
   {
    "duration": 17,
    "start_time": "2021-07-13T15:03:53.130Z"
   },
   {
    "duration": 67,
    "start_time": "2021-07-13T15:03:53.149Z"
   },
   {
    "duration": 9,
    "start_time": "2021-07-13T15:03:53.217Z"
   },
   {
    "duration": 7,
    "start_time": "2021-07-13T15:03:53.227Z"
   },
   {
    "duration": 22,
    "start_time": "2021-07-13T15:03:53.235Z"
   },
   {
    "duration": 35,
    "start_time": "2021-07-13T15:03:53.259Z"
   },
   {
    "duration": 29,
    "start_time": "2021-07-13T15:03:53.296Z"
   },
   {
    "duration": 4,
    "start_time": "2021-07-13T15:03:53.327Z"
   },
   {
    "duration": 21,
    "start_time": "2021-07-13T15:03:53.332Z"
   },
   {
    "duration": 12,
    "start_time": "2021-07-13T15:03:53.355Z"
   },
   {
    "duration": 50,
    "start_time": "2021-07-13T15:03:53.369Z"
   },
   {
    "duration": 12,
    "start_time": "2021-07-13T15:03:53.420Z"
   },
   {
    "duration": 5,
    "start_time": "2021-07-13T15:03:53.433Z"
   },
   {
    "duration": 4,
    "start_time": "2021-07-13T15:03:53.442Z"
   },
   {
    "duration": 6,
    "start_time": "2021-07-13T15:03:53.447Z"
   },
   {
    "duration": 10,
    "start_time": "2021-07-13T15:03:53.454Z"
   },
   {
    "duration": 56,
    "start_time": "2021-07-13T15:03:53.466Z"
   },
   {
    "duration": 10,
    "start_time": "2021-07-13T15:03:53.523Z"
   },
   {
    "duration": 24,
    "start_time": "2021-07-13T15:03:53.534Z"
   },
   {
    "duration": 11,
    "start_time": "2021-07-13T15:03:53.559Z"
   },
   {
    "duration": 22,
    "start_time": "2021-07-13T15:03:53.592Z"
   },
   {
    "duration": 17,
    "start_time": "2021-07-13T15:03:53.616Z"
   },
   {
    "duration": 27,
    "start_time": "2021-07-13T15:03:53.635Z"
   },
   {
    "duration": 2,
    "start_time": "2021-07-13T15:03:53.664Z"
   },
   {
    "duration": 25,
    "start_time": "2021-07-13T15:03:53.667Z"
   },
   {
    "duration": 7,
    "start_time": "2021-07-13T15:03:53.694Z"
   },
   {
    "duration": 8,
    "start_time": "2021-07-13T15:03:53.702Z"
   },
   {
    "duration": 10,
    "start_time": "2021-07-13T15:03:53.712Z"
   },
   {
    "duration": 212,
    "start_time": "2021-07-13T15:03:53.723Z"
   },
   {
    "duration": 27,
    "start_time": "2021-07-13T15:03:53.937Z"
   },
   {
    "duration": 277,
    "start_time": "2021-07-13T15:03:53.965Z"
   },
   {
    "duration": 324,
    "start_time": "2021-07-13T15:03:54.243Z"
   },
   {
    "duration": 356,
    "start_time": "2021-07-13T15:03:54.570Z"
   },
   {
    "duration": 315,
    "start_time": "2021-07-13T15:03:54.928Z"
   },
   {
    "duration": -2490,
    "start_time": "2021-07-13T15:03:57.734Z"
   },
   {
    "duration": -2502,
    "start_time": "2021-07-13T15:03:57.747Z"
   },
   {
    "duration": -2510,
    "start_time": "2021-07-13T15:03:57.756Z"
   },
   {
    "duration": -2602,
    "start_time": "2021-07-13T15:03:57.849Z"
   },
   {
    "duration": -2611,
    "start_time": "2021-07-13T15:03:57.859Z"
   },
   {
    "duration": -2622,
    "start_time": "2021-07-13T15:03:57.871Z"
   },
   {
    "duration": -2631,
    "start_time": "2021-07-13T15:03:57.881Z"
   },
   {
    "duration": -2640,
    "start_time": "2021-07-13T15:03:57.891Z"
   },
   {
    "duration": -2648,
    "start_time": "2021-07-13T15:03:57.900Z"
   },
   {
    "duration": -2658,
    "start_time": "2021-07-13T15:03:57.912Z"
   },
   {
    "duration": -2666,
    "start_time": "2021-07-13T15:03:57.921Z"
   },
   {
    "duration": -2677,
    "start_time": "2021-07-13T15:03:57.932Z"
   },
   {
    "duration": -2703,
    "start_time": "2021-07-13T15:03:57.959Z"
   },
   {
    "duration": -2714,
    "start_time": "2021-07-13T15:03:57.971Z"
   },
   {
    "duration": -2727,
    "start_time": "2021-07-13T15:03:57.985Z"
   },
   {
    "duration": -2737,
    "start_time": "2021-07-13T15:03:57.996Z"
   },
   {
    "duration": 1362,
    "start_time": "2021-07-13T15:06:00.940Z"
   },
   {
    "duration": 8,
    "start_time": "2021-07-13T15:06:02.304Z"
   },
   {
    "duration": 13,
    "start_time": "2021-07-13T15:06:02.316Z"
   },
   {
    "duration": 12,
    "start_time": "2021-07-13T15:06:02.331Z"
   },
   {
    "duration": 17,
    "start_time": "2021-07-13T15:06:02.344Z"
   },
   {
    "duration": 12,
    "start_time": "2021-07-13T15:06:02.362Z"
   },
   {
    "duration": 28,
    "start_time": "2021-07-13T15:06:02.376Z"
   },
   {
    "duration": 25,
    "start_time": "2021-07-13T15:06:02.405Z"
   },
   {
    "duration": 12,
    "start_time": "2021-07-13T15:06:02.432Z"
   },
   {
    "duration": 20,
    "start_time": "2021-07-13T15:06:02.445Z"
   },
   {
    "duration": 66,
    "start_time": "2021-07-13T15:06:02.466Z"
   },
   {
    "duration": 8,
    "start_time": "2021-07-13T15:06:02.533Z"
   },
   {
    "duration": 20,
    "start_time": "2021-07-13T15:06:02.542Z"
   },
   {
    "duration": 21,
    "start_time": "2021-07-13T15:06:02.563Z"
   },
   {
    "duration": 18,
    "start_time": "2021-07-13T15:06:02.585Z"
   },
   {
    "duration": 41,
    "start_time": "2021-07-13T15:06:02.604Z"
   },
   {
    "duration": 3,
    "start_time": "2021-07-13T15:06:02.647Z"
   },
   {
    "duration": 27,
    "start_time": "2021-07-13T15:06:02.651Z"
   },
   {
    "duration": 15,
    "start_time": "2021-07-13T15:06:02.679Z"
   },
   {
    "duration": 39,
    "start_time": "2021-07-13T15:06:02.695Z"
   },
   {
    "duration": 11,
    "start_time": "2021-07-13T15:06:02.735Z"
   },
   {
    "duration": 17,
    "start_time": "2021-07-13T15:06:02.749Z"
   },
   {
    "duration": 68,
    "start_time": "2021-07-13T15:06:02.768Z"
   },
   {
    "duration": 17,
    "start_time": "2021-07-13T15:06:02.838Z"
   },
   {
    "duration": 15,
    "start_time": "2021-07-13T15:06:02.856Z"
   },
   {
    "duration": 40,
    "start_time": "2021-07-13T15:06:02.872Z"
   },
   {
    "duration": 10,
    "start_time": "2021-07-13T15:06:02.914Z"
   },
   {
    "duration": 41,
    "start_time": "2021-07-13T15:06:02.925Z"
   },
   {
    "duration": 9,
    "start_time": "2021-07-13T15:06:02.968Z"
   },
   {
    "duration": 29,
    "start_time": "2021-07-13T15:06:02.978Z"
   },
   {
    "duration": 16,
    "start_time": "2021-07-13T15:06:03.009Z"
   },
   {
    "duration": 29,
    "start_time": "2021-07-13T15:06:03.027Z"
   },
   {
    "duration": 2,
    "start_time": "2021-07-13T15:06:03.058Z"
   },
   {
    "duration": 6,
    "start_time": "2021-07-13T15:06:03.061Z"
   },
   {
    "duration": 13,
    "start_time": "2021-07-13T15:06:03.068Z"
   },
   {
    "duration": 25,
    "start_time": "2021-07-13T15:06:03.083Z"
   },
   {
    "duration": 30,
    "start_time": "2021-07-13T15:06:03.109Z"
   },
   {
    "duration": 219,
    "start_time": "2021-07-13T15:06:03.141Z"
   },
   {
    "duration": 29,
    "start_time": "2021-07-13T15:06:03.362Z"
   },
   {
    "duration": 272,
    "start_time": "2021-07-13T15:06:03.392Z"
   },
   {
    "duration": 263,
    "start_time": "2021-07-13T15:06:03.666Z"
   },
   {
    "duration": 299,
    "start_time": "2021-07-13T15:06:03.930Z"
   },
   {
    "duration": 300,
    "start_time": "2021-07-13T15:06:04.230Z"
   },
   {
    "duration": -2771,
    "start_time": "2021-07-13T15:06:07.303Z"
   },
   {
    "duration": -2782,
    "start_time": "2021-07-13T15:06:07.315Z"
   },
   {
    "duration": -2791,
    "start_time": "2021-07-13T15:06:07.325Z"
   },
   {
    "duration": -2802,
    "start_time": "2021-07-13T15:06:07.337Z"
   },
   {
    "duration": -2810,
    "start_time": "2021-07-13T15:06:07.346Z"
   },
   {
    "duration": -2820,
    "start_time": "2021-07-13T15:06:07.357Z"
   },
   {
    "duration": -2830,
    "start_time": "2021-07-13T15:06:07.368Z"
   },
   {
    "duration": -2935,
    "start_time": "2021-07-13T15:06:07.473Z"
   },
   {
    "duration": -2945,
    "start_time": "2021-07-13T15:06:07.484Z"
   },
   {
    "duration": -2956,
    "start_time": "2021-07-13T15:06:07.496Z"
   },
   {
    "duration": -2965,
    "start_time": "2021-07-13T15:06:07.506Z"
   },
   {
    "duration": -2974,
    "start_time": "2021-07-13T15:06:07.516Z"
   },
   {
    "duration": -2983,
    "start_time": "2021-07-13T15:06:07.525Z"
   },
   {
    "duration": -2993,
    "start_time": "2021-07-13T15:06:07.536Z"
   },
   {
    "duration": -3002,
    "start_time": "2021-07-13T15:06:07.546Z"
   },
   {
    "duration": -3036,
    "start_time": "2021-07-13T15:06:07.581Z"
   },
   {
    "duration": 876,
    "start_time": "2021-07-13T15:06:52.192Z"
   },
   {
    "duration": 884,
    "start_time": "2021-07-13T15:07:17.947Z"
   },
   {
    "duration": 1413,
    "start_time": "2021-07-13T15:07:29.633Z"
   },
   {
    "duration": 9,
    "start_time": "2021-07-13T15:07:31.047Z"
   },
   {
    "duration": 20,
    "start_time": "2021-07-13T15:07:31.058Z"
   },
   {
    "duration": 19,
    "start_time": "2021-07-13T15:07:31.079Z"
   },
   {
    "duration": 11,
    "start_time": "2021-07-13T15:07:31.100Z"
   },
   {
    "duration": 20,
    "start_time": "2021-07-13T15:07:31.112Z"
   },
   {
    "duration": 37,
    "start_time": "2021-07-13T15:07:31.133Z"
   },
   {
    "duration": 25,
    "start_time": "2021-07-13T15:07:31.173Z"
   },
   {
    "duration": 11,
    "start_time": "2021-07-13T15:07:31.200Z"
   },
   {
    "duration": 22,
    "start_time": "2021-07-13T15:07:31.213Z"
   },
   {
    "duration": 45,
    "start_time": "2021-07-13T15:07:31.237Z"
   },
   {
    "duration": 8,
    "start_time": "2021-07-13T15:07:31.291Z"
   },
   {
    "duration": 13,
    "start_time": "2021-07-13T15:07:31.300Z"
   },
   {
    "duration": 35,
    "start_time": "2021-07-13T15:07:31.314Z"
   },
   {
    "duration": 14,
    "start_time": "2021-07-13T15:07:31.350Z"
   },
   {
    "duration": 31,
    "start_time": "2021-07-13T15:07:31.365Z"
   },
   {
    "duration": 4,
    "start_time": "2021-07-13T15:07:31.397Z"
   },
   {
    "duration": 23,
    "start_time": "2021-07-13T15:07:31.402Z"
   },
   {
    "duration": 12,
    "start_time": "2021-07-13T15:07:31.427Z"
   },
   {
    "duration": 29,
    "start_time": "2021-07-13T15:07:31.440Z"
   },
   {
    "duration": 23,
    "start_time": "2021-07-13T15:07:31.471Z"
   },
   {
    "duration": 6,
    "start_time": "2021-07-13T15:07:31.495Z"
   },
   {
    "duration": 9,
    "start_time": "2021-07-13T15:07:31.505Z"
   },
   {
    "duration": 16,
    "start_time": "2021-07-13T15:07:31.516Z"
   },
   {
    "duration": 13,
    "start_time": "2021-07-13T15:07:31.533Z"
   },
   {
    "duration": 40,
    "start_time": "2021-07-13T15:07:31.547Z"
   },
   {
    "duration": 10,
    "start_time": "2021-07-13T15:07:31.589Z"
   },
   {
    "duration": 27,
    "start_time": "2021-07-13T15:07:31.601Z"
   },
   {
    "duration": 10,
    "start_time": "2021-07-13T15:07:31.630Z"
   },
   {
    "duration": 30,
    "start_time": "2021-07-13T15:07:31.642Z"
   },
   {
    "duration": 36,
    "start_time": "2021-07-13T15:07:31.673Z"
   },
   {
    "duration": 29,
    "start_time": "2021-07-13T15:07:31.710Z"
   },
   {
    "duration": 3,
    "start_time": "2021-07-13T15:07:31.741Z"
   },
   {
    "duration": 9,
    "start_time": "2021-07-13T15:07:31.746Z"
   },
   {
    "duration": 17,
    "start_time": "2021-07-13T15:07:31.756Z"
   },
   {
    "duration": 7,
    "start_time": "2021-07-13T15:07:31.774Z"
   },
   {
    "duration": 6,
    "start_time": "2021-07-13T15:07:31.791Z"
   },
   {
    "duration": 212,
    "start_time": "2021-07-13T15:07:31.798Z"
   },
   {
    "duration": 28,
    "start_time": "2021-07-13T15:07:32.012Z"
   },
   {
    "duration": 280,
    "start_time": "2021-07-13T15:07:32.042Z"
   },
   {
    "duration": 264,
    "start_time": "2021-07-13T15:07:32.324Z"
   },
   {
    "duration": 300,
    "start_time": "2021-07-13T15:07:32.590Z"
   },
   {
    "duration": 309,
    "start_time": "2021-07-13T15:07:32.892Z"
   },
   {
    "duration": -3292,
    "start_time": "2021-07-13T15:07:36.495Z"
   },
   {
    "duration": -3302,
    "start_time": "2021-07-13T15:07:36.506Z"
   },
   {
    "duration": -3435,
    "start_time": "2021-07-13T15:07:36.639Z"
   },
   {
    "duration": -3450,
    "start_time": "2021-07-13T15:07:36.655Z"
   },
   {
    "duration": -3459,
    "start_time": "2021-07-13T15:07:36.665Z"
   },
   {
    "duration": -3469,
    "start_time": "2021-07-13T15:07:36.676Z"
   },
   {
    "duration": -3477,
    "start_time": "2021-07-13T15:07:36.685Z"
   },
   {
    "duration": -3487,
    "start_time": "2021-07-13T15:07:36.696Z"
   },
   {
    "duration": -3495,
    "start_time": "2021-07-13T15:07:36.705Z"
   },
   {
    "duration": -3504,
    "start_time": "2021-07-13T15:07:36.715Z"
   },
   {
    "duration": -3550,
    "start_time": "2021-07-13T15:07:36.761Z"
   },
   {
    "duration": -3560,
    "start_time": "2021-07-13T15:07:36.772Z"
   },
   {
    "duration": -3568,
    "start_time": "2021-07-13T15:07:36.781Z"
   },
   {
    "duration": -3578,
    "start_time": "2021-07-13T15:07:36.792Z"
   },
   {
    "duration": -3587,
    "start_time": "2021-07-13T15:07:36.802Z"
   },
   {
    "duration": -3598,
    "start_time": "2021-07-13T15:07:36.814Z"
   },
   {
    "duration": 1428,
    "start_time": "2021-07-13T15:08:01.491Z"
   },
   {
    "duration": 10,
    "start_time": "2021-07-13T15:08:02.920Z"
   },
   {
    "duration": 8,
    "start_time": "2021-07-13T15:08:02.931Z"
   },
   {
    "duration": 9,
    "start_time": "2021-07-13T15:08:02.940Z"
   },
   {
    "duration": 8,
    "start_time": "2021-07-13T15:08:02.950Z"
   },
   {
    "duration": 11,
    "start_time": "2021-07-13T15:08:02.960Z"
   },
   {
    "duration": 39,
    "start_time": "2021-07-13T15:08:02.972Z"
   },
   {
    "duration": 25,
    "start_time": "2021-07-13T15:08:03.013Z"
   },
   {
    "duration": 12,
    "start_time": "2021-07-13T15:08:03.039Z"
   },
   {
    "duration": 17,
    "start_time": "2021-07-13T15:08:03.052Z"
   },
   {
    "duration": 44,
    "start_time": "2021-07-13T15:08:03.091Z"
   },
   {
    "duration": 9,
    "start_time": "2021-07-13T15:08:03.137Z"
   },
   {
    "duration": 10,
    "start_time": "2021-07-13T15:08:03.147Z"
   },
   {
    "duration": 33,
    "start_time": "2021-07-13T15:08:03.159Z"
   },
   {
    "duration": 14,
    "start_time": "2021-07-13T15:08:03.193Z"
   },
   {
    "duration": 29,
    "start_time": "2021-07-13T15:08:03.209Z"
   },
   {
    "duration": 3,
    "start_time": "2021-07-13T15:08:03.240Z"
   },
   {
    "duration": 24,
    "start_time": "2021-07-13T15:08:03.244Z"
   },
   {
    "duration": 32,
    "start_time": "2021-07-13T15:08:03.269Z"
   },
   {
    "duration": 25,
    "start_time": "2021-07-13T15:08:03.303Z"
   },
   {
    "duration": 11,
    "start_time": "2021-07-13T15:08:03.329Z"
   },
   {
    "duration": 4,
    "start_time": "2021-07-13T15:08:03.342Z"
   },
   {
    "duration": 7,
    "start_time": "2021-07-13T15:08:03.349Z"
   },
   {
    "duration": 9,
    "start_time": "2021-07-13T15:08:03.358Z"
   },
   {
    "duration": 27,
    "start_time": "2021-07-13T15:08:03.368Z"
   },
   {
    "duration": 34,
    "start_time": "2021-07-13T15:08:03.397Z"
   },
   {
    "duration": 9,
    "start_time": "2021-07-13T15:08:03.432Z"
   },
   {
    "duration": 28,
    "start_time": "2021-07-13T15:08:03.443Z"
   },
   {
    "duration": 22,
    "start_time": "2021-07-13T15:08:03.473Z"
   },
   {
    "duration": 26,
    "start_time": "2021-07-13T15:08:03.496Z"
   },
   {
    "duration": 18,
    "start_time": "2021-07-13T15:08:03.523Z"
   },
   {
    "duration": 51,
    "start_time": "2021-07-13T15:08:03.542Z"
   },
   {
    "duration": 3,
    "start_time": "2021-07-13T15:08:03.594Z"
   },
   {
    "duration": 6,
    "start_time": "2021-07-13T15:08:03.598Z"
   },
   {
    "duration": 5,
    "start_time": "2021-07-13T15:08:03.606Z"
   },
   {
    "duration": 8,
    "start_time": "2021-07-13T15:08:03.613Z"
   },
   {
    "duration": 7,
    "start_time": "2021-07-13T15:08:03.622Z"
   },
   {
    "duration": 204,
    "start_time": "2021-07-13T15:08:03.630Z"
   },
   {
    "duration": 29,
    "start_time": "2021-07-13T15:08:03.835Z"
   },
   {
    "duration": 279,
    "start_time": "2021-07-13T15:08:03.865Z"
   },
   {
    "duration": 265,
    "start_time": "2021-07-13T15:08:04.146Z"
   },
   {
    "duration": 304,
    "start_time": "2021-07-13T15:08:04.413Z"
   },
   {
    "duration": 820,
    "start_time": "2021-07-13T15:08:04.719Z"
   },
   {
    "duration": 273,
    "start_time": "2021-07-13T15:08:05.541Z"
   },
   {
    "duration": 346,
    "start_time": "2021-07-13T15:08:05.815Z"
   },
   {
    "duration": 853,
    "start_time": "2021-07-13T15:08:06.162Z"
   },
   {
    "duration": 269,
    "start_time": "2021-07-13T15:08:07.017Z"
   },
   {
    "duration": 274,
    "start_time": "2021-07-13T15:08:07.291Z"
   },
   {
    "duration": 818,
    "start_time": "2021-07-13T15:08:07.566Z"
   },
   {
    "duration": 5,
    "start_time": "2021-07-13T15:08:08.386Z"
   },
   {
    "duration": 7,
    "start_time": "2021-07-13T15:08:08.392Z"
   },
   {
    "duration": 39,
    "start_time": "2021-07-13T15:08:08.400Z"
   },
   {
    "duration": 4,
    "start_time": "2021-07-13T15:08:08.441Z"
   },
   {
    "duration": 7,
    "start_time": "2021-07-13T15:08:08.446Z"
   },
   {
    "duration": 328,
    "start_time": "2021-07-13T15:08:08.454Z"
   },
   {
    "duration": 11,
    "start_time": "2021-07-13T15:08:08.783Z"
   },
   {
    "duration": 5,
    "start_time": "2021-07-13T15:08:08.795Z"
   },
   {
    "duration": 12,
    "start_time": "2021-07-13T15:08:08.801Z"
   },
   {
    "duration": 7,
    "start_time": "2021-07-13T15:08:08.815Z"
   },
   {
    "duration": 1101,
    "start_time": "2021-07-13T15:09:23.640Z"
   },
   {
    "duration": 1135,
    "start_time": "2021-07-13T15:11:01.908Z"
   },
   {
    "duration": 32,
    "start_time": "2021-07-13T15:11:41.227Z"
   },
   {
    "duration": 1534,
    "start_time": "2021-07-13T15:13:55.629Z"
   },
   {
    "duration": 11,
    "start_time": "2021-07-13T15:13:57.165Z"
   },
   {
    "duration": 9,
    "start_time": "2021-07-13T15:13:57.178Z"
   },
   {
    "duration": 8,
    "start_time": "2021-07-13T15:13:57.189Z"
   },
   {
    "duration": 10,
    "start_time": "2021-07-13T15:13:57.199Z"
   },
   {
    "duration": 9,
    "start_time": "2021-07-13T15:13:57.211Z"
   },
   {
    "duration": 31,
    "start_time": "2021-07-13T15:13:57.221Z"
   },
   {
    "duration": 47,
    "start_time": "2021-07-13T15:13:57.255Z"
   },
   {
    "duration": 12,
    "start_time": "2021-07-13T15:13:57.305Z"
   },
   {
    "duration": 21,
    "start_time": "2021-07-13T15:13:57.319Z"
   },
   {
    "duration": 68,
    "start_time": "2021-07-13T15:13:57.341Z"
   },
   {
    "duration": 10,
    "start_time": "2021-07-13T15:13:57.410Z"
   },
   {
    "duration": 8,
    "start_time": "2021-07-13T15:13:57.421Z"
   },
   {
    "duration": 24,
    "start_time": "2021-07-13T15:13:57.430Z"
   },
   {
    "duration": 36,
    "start_time": "2021-07-13T15:13:57.456Z"
   },
   {
    "duration": 34,
    "start_time": "2021-07-13T15:13:57.493Z"
   },
   {
    "duration": 4,
    "start_time": "2021-07-13T15:13:57.529Z"
   },
   {
    "duration": 21,
    "start_time": "2021-07-13T15:13:57.535Z"
   },
   {
    "duration": 37,
    "start_time": "2021-07-13T15:13:57.558Z"
   },
   {
    "duration": 30,
    "start_time": "2021-07-13T15:13:57.597Z"
   },
   {
    "duration": 13,
    "start_time": "2021-07-13T15:13:57.629Z"
   },
   {
    "duration": 7,
    "start_time": "2021-07-13T15:13:57.644Z"
   },
   {
    "duration": 4,
    "start_time": "2021-07-13T15:13:57.656Z"
   },
   {
    "duration": 4,
    "start_time": "2021-07-13T15:13:57.690Z"
   },
   {
    "duration": 8,
    "start_time": "2021-07-13T15:13:57.696Z"
   },
   {
    "duration": 35,
    "start_time": "2021-07-13T15:13:57.705Z"
   },
   {
    "duration": 11,
    "start_time": "2021-07-13T15:13:57.742Z"
   },
   {
    "duration": 50,
    "start_time": "2021-07-13T15:13:57.754Z"
   },
   {
    "duration": 12,
    "start_time": "2021-07-13T15:13:57.805Z"
   },
   {
    "duration": 25,
    "start_time": "2021-07-13T15:13:57.818Z"
   },
   {
    "duration": 18,
    "start_time": "2021-07-13T15:13:57.845Z"
   },
   {
    "duration": 56,
    "start_time": "2021-07-13T15:13:57.865Z"
   },
   {
    "duration": 3,
    "start_time": "2021-07-13T15:13:57.923Z"
   },
   {
    "duration": 5,
    "start_time": "2021-07-13T15:13:57.927Z"
   },
   {
    "duration": 5,
    "start_time": "2021-07-13T15:13:57.934Z"
   },
   {
    "duration": 8,
    "start_time": "2021-07-13T15:13:57.940Z"
   },
   {
    "duration": 10,
    "start_time": "2021-07-13T15:13:57.950Z"
   },
   {
    "duration": 244,
    "start_time": "2021-07-13T15:13:57.961Z"
   },
   {
    "duration": 30,
    "start_time": "2021-07-13T15:13:58.207Z"
   },
   {
    "duration": 299,
    "start_time": "2021-07-13T15:13:58.239Z"
   },
   {
    "duration": 276,
    "start_time": "2021-07-13T15:13:58.540Z"
   },
   {
    "duration": 308,
    "start_time": "2021-07-13T15:13:58.818Z"
   },
   {
    "duration": 815,
    "start_time": "2021-07-13T15:13:59.128Z"
   },
   {
    "duration": 267,
    "start_time": "2021-07-13T15:13:59.945Z"
   },
   {
    "duration": 352,
    "start_time": "2021-07-13T15:14:00.214Z"
   },
   {
    "duration": 286,
    "start_time": "2021-07-13T15:14:00.568Z"
   },
   {
    "duration": 298,
    "start_time": "2021-07-13T15:14:00.856Z"
   },
   {
    "duration": 837,
    "start_time": "2021-07-13T15:14:01.156Z"
   },
   {
    "duration": 33,
    "start_time": "2021-07-13T15:14:01.995Z"
   },
   {
    "duration": 6,
    "start_time": "2021-07-13T15:14:02.030Z"
   },
   {
    "duration": 15,
    "start_time": "2021-07-13T15:14:02.038Z"
   },
   {
    "duration": 325,
    "start_time": "2021-07-13T15:14:02.055Z"
   },
   {
    "duration": 14,
    "start_time": "2021-07-13T15:14:02.382Z"
   },
   {
    "duration": 17,
    "start_time": "2021-07-13T15:14:02.398Z"
   },
   {
    "duration": 18,
    "start_time": "2021-07-13T15:14:02.416Z"
   },
   {
    "duration": 15,
    "start_time": "2021-07-13T15:14:02.436Z"
   }
  ],
  "kernelspec": {
   "display_name": "Python 3",
   "language": "python",
   "name": "python3"
  },
  "language_info": {
   "codemirror_mode": {
    "name": "ipython",
    "version": 3
   },
   "file_extension": ".py",
   "mimetype": "text/x-python",
   "name": "python",
   "nbconvert_exporter": "python",
   "pygments_lexer": "ipython3",
   "version": "3.7.8"
  },
  "toc": {
   "base_numbering": 1,
   "nav_menu": {},
   "number_sections": true,
   "sideBar": true,
   "skip_h1_title": true,
   "title_cell": "Table of Contents",
   "title_sidebar": "Contents",
   "toc_cell": false,
   "toc_position": {},
   "toc_section_display": true,
   "toc_window_display": false
  }
 },
 "nbformat": 4,
 "nbformat_minor": 2
}
