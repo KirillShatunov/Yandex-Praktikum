{
 "cells": [
  {
   "cell_type": "markdown",
   "metadata": {},
   "source": [
    "# Описание проекта:\n",
    "\n",
    "Сеть фитнес-центров «Культурист-датасаентист» разрабатывает стратегию взаимодействия с клиентами на основе аналитических данных.\n",
    "\n",
    "Задачи:\n",
    "* научиться прогнозировать вероятность оттока (на уровне следующего месяца) для каждого клиента;\n",
    "* сформировать типичные портреты клиентов: выделить несколько наиболее ярких групп и охарактеризовать их основные свойства;\n",
    "* проанализировать основные признаки, наиболее сильно влияющие на отток;\n",
    "* сформулировать основные выводы и разработать рекомендации по повышению качества работы с клиентами:\n",
    "\n",
    "  1) выделить целевые группы клиентов;\n",
    "  \n",
    "  2) предложить меры по снижению оттока;\n",
    "  \n",
    "  3) определить другие особенности взаимодействия с клиентами.\n",
    "\n",
    "\n",
    "# Цель:\n",
    "\n",
    " Проанализировать отток клиентов фитнес-центров «Культурист-датасаентист»\n",
    " \n",
    "# План проекта:\n",
    "\n",
    " Шаг 1. Загрузить данные\n",
    " \n",
    " Шаг 2. Провести исследовательский анализ данных (EDA)\n",
    " \n",
    " Шаг 3. Построить модель прогнозирования оттока клиентов\n",
    " \n",
    " Шаг 4. Сделайть кластеризацию клиентов\n",
    " \n",
    " Шаг 5. Сформулировать выводы и сделать базовые рекомендации по работе с клиентами"
   ]
  },
  {
   "cell_type": "markdown",
   "metadata": {},
   "source": [
    "# Оглавление\n",
    "# 1.[Шаг 1. Загрузим данные](#1) \n",
    "# 2.[Шаг 2. Проведем исследовательский анализ данных (EDA)](#2) \n",
    "# 3.[Шаг 3. Построим модель прогнозирования оттока клиентов](#3)\n",
    "# 4.[Шаг 4. Сделаем кластеризацию клиентов](#4)\n",
    "# 5.[Выводы](#5)"
   ]
  },
  {
   "cell_type": "markdown",
   "metadata": {},
   "source": [
    "# Шаг 1. Загрузим данные<a id=\"1\"></a>"
   ]
  },
  {
   "cell_type": "code",
   "execution_count": 1,
   "metadata": {},
   "outputs": [],
   "source": [
    "# загрузим наши данные:\n",
    "import pandas as pd\n",
    "import numpy as np\n",
    "import seaborn as sns\n",
    "import matplotlib.pyplot as plt\n",
    "\n",
    "\n",
    "data = pd.read_csv('/datasets/gym_churn.csv')"
   ]
  },
  {
   "cell_type": "code",
   "execution_count": 2,
   "metadata": {},
   "outputs": [
    {
     "data": {
      "text/html": [
       "<div>\n",
       "<style scoped>\n",
       "    .dataframe tbody tr th:only-of-type {\n",
       "        vertical-align: middle;\n",
       "    }\n",
       "\n",
       "    .dataframe tbody tr th {\n",
       "        vertical-align: top;\n",
       "    }\n",
       "\n",
       "    .dataframe thead th {\n",
       "        text-align: right;\n",
       "    }\n",
       "</style>\n",
       "<table border=\"1\" class=\"dataframe\">\n",
       "  <thead>\n",
       "    <tr style=\"text-align: right;\">\n",
       "      <th></th>\n",
       "      <th>gender</th>\n",
       "      <th>Near_Location</th>\n",
       "      <th>Partner</th>\n",
       "      <th>Promo_friends</th>\n",
       "      <th>Phone</th>\n",
       "      <th>Contract_period</th>\n",
       "      <th>Group_visits</th>\n",
       "      <th>Age</th>\n",
       "      <th>Avg_additional_charges_total</th>\n",
       "      <th>Month_to_end_contract</th>\n",
       "      <th>Lifetime</th>\n",
       "      <th>Avg_class_frequency_total</th>\n",
       "      <th>Avg_class_frequency_current_month</th>\n",
       "      <th>Churn</th>\n",
       "    </tr>\n",
       "  </thead>\n",
       "  <tbody>\n",
       "    <tr>\n",
       "      <td>200</td>\n",
       "      <td>0</td>\n",
       "      <td>1</td>\n",
       "      <td>1</td>\n",
       "      <td>0</td>\n",
       "      <td>1</td>\n",
       "      <td>1</td>\n",
       "      <td>0</td>\n",
       "      <td>34</td>\n",
       "      <td>46.492200</td>\n",
       "      <td>1.0</td>\n",
       "      <td>0</td>\n",
       "      <td>1.010771</td>\n",
       "      <td>0.000000</td>\n",
       "      <td>1</td>\n",
       "    </tr>\n",
       "    <tr>\n",
       "      <td>1078</td>\n",
       "      <td>1</td>\n",
       "      <td>1</td>\n",
       "      <td>0</td>\n",
       "      <td>0</td>\n",
       "      <td>1</td>\n",
       "      <td>1</td>\n",
       "      <td>0</td>\n",
       "      <td>27</td>\n",
       "      <td>24.553945</td>\n",
       "      <td>1.0</td>\n",
       "      <td>4</td>\n",
       "      <td>1.390535</td>\n",
       "      <td>0.979445</td>\n",
       "      <td>1</td>\n",
       "    </tr>\n",
       "    <tr>\n",
       "      <td>610</td>\n",
       "      <td>1</td>\n",
       "      <td>1</td>\n",
       "      <td>1</td>\n",
       "      <td>1</td>\n",
       "      <td>1</td>\n",
       "      <td>6</td>\n",
       "      <td>1</td>\n",
       "      <td>31</td>\n",
       "      <td>85.671887</td>\n",
       "      <td>6.0</td>\n",
       "      <td>1</td>\n",
       "      <td>1.009510</td>\n",
       "      <td>0.730576</td>\n",
       "      <td>1</td>\n",
       "    </tr>\n",
       "    <tr>\n",
       "      <td>2159</td>\n",
       "      <td>1</td>\n",
       "      <td>0</td>\n",
       "      <td>1</td>\n",
       "      <td>0</td>\n",
       "      <td>1</td>\n",
       "      <td>1</td>\n",
       "      <td>0</td>\n",
       "      <td>26</td>\n",
       "      <td>75.803228</td>\n",
       "      <td>1.0</td>\n",
       "      <td>1</td>\n",
       "      <td>1.457390</td>\n",
       "      <td>1.540269</td>\n",
       "      <td>1</td>\n",
       "    </tr>\n",
       "    <tr>\n",
       "      <td>1169</td>\n",
       "      <td>0</td>\n",
       "      <td>0</td>\n",
       "      <td>0</td>\n",
       "      <td>0</td>\n",
       "      <td>1</td>\n",
       "      <td>1</td>\n",
       "      <td>0</td>\n",
       "      <td>31</td>\n",
       "      <td>410.756733</td>\n",
       "      <td>1.0</td>\n",
       "      <td>3</td>\n",
       "      <td>2.401838</td>\n",
       "      <td>2.473404</td>\n",
       "      <td>0</td>\n",
       "    </tr>\n",
       "    <tr>\n",
       "      <td>2448</td>\n",
       "      <td>0</td>\n",
       "      <td>0</td>\n",
       "      <td>0</td>\n",
       "      <td>0</td>\n",
       "      <td>1</td>\n",
       "      <td>12</td>\n",
       "      <td>1</td>\n",
       "      <td>28</td>\n",
       "      <td>106.110097</td>\n",
       "      <td>10.0</td>\n",
       "      <td>3</td>\n",
       "      <td>2.558573</td>\n",
       "      <td>2.520852</td>\n",
       "      <td>0</td>\n",
       "    </tr>\n",
       "    <tr>\n",
       "      <td>2938</td>\n",
       "      <td>1</td>\n",
       "      <td>1</td>\n",
       "      <td>0</td>\n",
       "      <td>0</td>\n",
       "      <td>0</td>\n",
       "      <td>1</td>\n",
       "      <td>0</td>\n",
       "      <td>23</td>\n",
       "      <td>199.155395</td>\n",
       "      <td>1.0</td>\n",
       "      <td>0</td>\n",
       "      <td>2.947225</td>\n",
       "      <td>2.701548</td>\n",
       "      <td>1</td>\n",
       "    </tr>\n",
       "    <tr>\n",
       "      <td>813</td>\n",
       "      <td>1</td>\n",
       "      <td>1</td>\n",
       "      <td>1</td>\n",
       "      <td>1</td>\n",
       "      <td>1</td>\n",
       "      <td>6</td>\n",
       "      <td>1</td>\n",
       "      <td>34</td>\n",
       "      <td>115.869242</td>\n",
       "      <td>4.0</td>\n",
       "      <td>9</td>\n",
       "      <td>0.652474</td>\n",
       "      <td>0.570673</td>\n",
       "      <td>0</td>\n",
       "    </tr>\n",
       "    <tr>\n",
       "      <td>1268</td>\n",
       "      <td>0</td>\n",
       "      <td>1</td>\n",
       "      <td>0</td>\n",
       "      <td>1</td>\n",
       "      <td>1</td>\n",
       "      <td>1</td>\n",
       "      <td>0</td>\n",
       "      <td>29</td>\n",
       "      <td>158.981864</td>\n",
       "      <td>1.0</td>\n",
       "      <td>2</td>\n",
       "      <td>1.775618</td>\n",
       "      <td>0.705410</td>\n",
       "      <td>1</td>\n",
       "    </tr>\n",
       "    <tr>\n",
       "      <td>870</td>\n",
       "      <td>0</td>\n",
       "      <td>1</td>\n",
       "      <td>0</td>\n",
       "      <td>0</td>\n",
       "      <td>1</td>\n",
       "      <td>1</td>\n",
       "      <td>1</td>\n",
       "      <td>32</td>\n",
       "      <td>67.587775</td>\n",
       "      <td>1.0</td>\n",
       "      <td>4</td>\n",
       "      <td>1.216622</td>\n",
       "      <td>1.333863</td>\n",
       "      <td>0</td>\n",
       "    </tr>\n",
       "  </tbody>\n",
       "</table>\n",
       "</div>"
      ],
      "text/plain": [
       "      gender  Near_Location  Partner  Promo_friends  Phone  Contract_period  \\\n",
       "200        0              1        1              0      1                1   \n",
       "1078       1              1        0              0      1                1   \n",
       "610        1              1        1              1      1                6   \n",
       "2159       1              0        1              0      1                1   \n",
       "1169       0              0        0              0      1                1   \n",
       "2448       0              0        0              0      1               12   \n",
       "2938       1              1        0              0      0                1   \n",
       "813        1              1        1              1      1                6   \n",
       "1268       0              1        0              1      1                1   \n",
       "870        0              1        0              0      1                1   \n",
       "\n",
       "      Group_visits  Age  Avg_additional_charges_total  Month_to_end_contract  \\\n",
       "200              0   34                     46.492200                    1.0   \n",
       "1078             0   27                     24.553945                    1.0   \n",
       "610              1   31                     85.671887                    6.0   \n",
       "2159             0   26                     75.803228                    1.0   \n",
       "1169             0   31                    410.756733                    1.0   \n",
       "2448             1   28                    106.110097                   10.0   \n",
       "2938             0   23                    199.155395                    1.0   \n",
       "813              1   34                    115.869242                    4.0   \n",
       "1268             0   29                    158.981864                    1.0   \n",
       "870              1   32                     67.587775                    1.0   \n",
       "\n",
       "      Lifetime  Avg_class_frequency_total  Avg_class_frequency_current_month  \\\n",
       "200          0                   1.010771                           0.000000   \n",
       "1078         4                   1.390535                           0.979445   \n",
       "610          1                   1.009510                           0.730576   \n",
       "2159         1                   1.457390                           1.540269   \n",
       "1169         3                   2.401838                           2.473404   \n",
       "2448         3                   2.558573                           2.520852   \n",
       "2938         0                   2.947225                           2.701548   \n",
       "813          9                   0.652474                           0.570673   \n",
       "1268         2                   1.775618                           0.705410   \n",
       "870          4                   1.216622                           1.333863   \n",
       "\n",
       "      Churn  \n",
       "200       1  \n",
       "1078      1  \n",
       "610       1  \n",
       "2159      1  \n",
       "1169      0  \n",
       "2448      0  \n",
       "2938      1  \n",
       "813       0  \n",
       "1268      1  \n",
       "870       0  "
      ]
     },
     "execution_count": 2,
     "metadata": {},
     "output_type": "execute_result"
    }
   ],
   "source": [
    "# Выведем часть DF:\n",
    "data.sample(n=10,random_state=1)"
   ]
  },
  {
   "cell_type": "markdown",
   "metadata": {},
   "source": [
    "**Вывод:** загрузили данные и вывели случайные 10 строк из датасета"
   ]
  },
  {
   "cell_type": "markdown",
   "metadata": {},
   "source": [
    "# Шаг 2. Проведем исследовательский анализ данных (EDA)<a id=\"2\"></a>"
   ]
  },
  {
   "cell_type": "markdown",
   "metadata": {},
   "source": [
    "**Посмотрим на датасет: есть ли в нем отсутствующие признаки, рассмотрим средние значения и стандартные отклонения и тд.**"
   ]
  },
  {
   "cell_type": "code",
   "execution_count": 3,
   "metadata": {},
   "outputs": [
    {
     "name": "stdout",
     "output_type": "stream",
     "text": [
      "<class 'pandas.core.frame.DataFrame'>\n",
      "RangeIndex: 4000 entries, 0 to 3999\n",
      "Data columns (total 14 columns):\n",
      "gender                               4000 non-null int64\n",
      "Near_Location                        4000 non-null int64\n",
      "Partner                              4000 non-null int64\n",
      "Promo_friends                        4000 non-null int64\n",
      "Phone                                4000 non-null int64\n",
      "Contract_period                      4000 non-null int64\n",
      "Group_visits                         4000 non-null int64\n",
      "Age                                  4000 non-null int64\n",
      "Avg_additional_charges_total         4000 non-null float64\n",
      "Month_to_end_contract                4000 non-null float64\n",
      "Lifetime                             4000 non-null int64\n",
      "Avg_class_frequency_total            4000 non-null float64\n",
      "Avg_class_frequency_current_month    4000 non-null float64\n",
      "Churn                                4000 non-null int64\n",
      "dtypes: float64(4), int64(10)\n",
      "memory usage: 437.6 KB\n"
     ]
    },
    {
     "data": {
      "text/html": [
       "<div>\n",
       "<style scoped>\n",
       "    .dataframe tbody tr th:only-of-type {\n",
       "        vertical-align: middle;\n",
       "    }\n",
       "\n",
       "    .dataframe tbody tr th {\n",
       "        vertical-align: top;\n",
       "    }\n",
       "\n",
       "    .dataframe thead th {\n",
       "        text-align: right;\n",
       "    }\n",
       "</style>\n",
       "<table border=\"1\" class=\"dataframe\">\n",
       "  <thead>\n",
       "    <tr style=\"text-align: right;\">\n",
       "      <th></th>\n",
       "      <th>count</th>\n",
       "      <th>mean</th>\n",
       "      <th>std</th>\n",
       "      <th>min</th>\n",
       "      <th>25%</th>\n",
       "      <th>50%</th>\n",
       "      <th>75%</th>\n",
       "      <th>max</th>\n",
       "    </tr>\n",
       "  </thead>\n",
       "  <tbody>\n",
       "    <tr>\n",
       "      <td>gender</td>\n",
       "      <td>4000.0</td>\n",
       "      <td>0.510250</td>\n",
       "      <td>0.499957</td>\n",
       "      <td>0.000000</td>\n",
       "      <td>0.000000</td>\n",
       "      <td>1.000000</td>\n",
       "      <td>1.000000</td>\n",
       "      <td>1.000000</td>\n",
       "    </tr>\n",
       "    <tr>\n",
       "      <td>Near_Location</td>\n",
       "      <td>4000.0</td>\n",
       "      <td>0.845250</td>\n",
       "      <td>0.361711</td>\n",
       "      <td>0.000000</td>\n",
       "      <td>1.000000</td>\n",
       "      <td>1.000000</td>\n",
       "      <td>1.000000</td>\n",
       "      <td>1.000000</td>\n",
       "    </tr>\n",
       "    <tr>\n",
       "      <td>Partner</td>\n",
       "      <td>4000.0</td>\n",
       "      <td>0.486750</td>\n",
       "      <td>0.499887</td>\n",
       "      <td>0.000000</td>\n",
       "      <td>0.000000</td>\n",
       "      <td>0.000000</td>\n",
       "      <td>1.000000</td>\n",
       "      <td>1.000000</td>\n",
       "    </tr>\n",
       "    <tr>\n",
       "      <td>Promo_friends</td>\n",
       "      <td>4000.0</td>\n",
       "      <td>0.308500</td>\n",
       "      <td>0.461932</td>\n",
       "      <td>0.000000</td>\n",
       "      <td>0.000000</td>\n",
       "      <td>0.000000</td>\n",
       "      <td>1.000000</td>\n",
       "      <td>1.000000</td>\n",
       "    </tr>\n",
       "    <tr>\n",
       "      <td>Phone</td>\n",
       "      <td>4000.0</td>\n",
       "      <td>0.903500</td>\n",
       "      <td>0.295313</td>\n",
       "      <td>0.000000</td>\n",
       "      <td>1.000000</td>\n",
       "      <td>1.000000</td>\n",
       "      <td>1.000000</td>\n",
       "      <td>1.000000</td>\n",
       "    </tr>\n",
       "    <tr>\n",
       "      <td>Contract_period</td>\n",
       "      <td>4000.0</td>\n",
       "      <td>4.681250</td>\n",
       "      <td>4.549706</td>\n",
       "      <td>1.000000</td>\n",
       "      <td>1.000000</td>\n",
       "      <td>1.000000</td>\n",
       "      <td>6.000000</td>\n",
       "      <td>12.000000</td>\n",
       "    </tr>\n",
       "    <tr>\n",
       "      <td>Group_visits</td>\n",
       "      <td>4000.0</td>\n",
       "      <td>0.412250</td>\n",
       "      <td>0.492301</td>\n",
       "      <td>0.000000</td>\n",
       "      <td>0.000000</td>\n",
       "      <td>0.000000</td>\n",
       "      <td>1.000000</td>\n",
       "      <td>1.000000</td>\n",
       "    </tr>\n",
       "    <tr>\n",
       "      <td>Age</td>\n",
       "      <td>4000.0</td>\n",
       "      <td>29.184250</td>\n",
       "      <td>3.258367</td>\n",
       "      <td>18.000000</td>\n",
       "      <td>27.000000</td>\n",
       "      <td>29.000000</td>\n",
       "      <td>31.000000</td>\n",
       "      <td>41.000000</td>\n",
       "    </tr>\n",
       "    <tr>\n",
       "      <td>Avg_additional_charges_total</td>\n",
       "      <td>4000.0</td>\n",
       "      <td>146.943728</td>\n",
       "      <td>96.355602</td>\n",
       "      <td>0.148205</td>\n",
       "      <td>68.868830</td>\n",
       "      <td>136.220159</td>\n",
       "      <td>210.949625</td>\n",
       "      <td>552.590740</td>\n",
       "    </tr>\n",
       "    <tr>\n",
       "      <td>Month_to_end_contract</td>\n",
       "      <td>4000.0</td>\n",
       "      <td>4.322750</td>\n",
       "      <td>4.191297</td>\n",
       "      <td>1.000000</td>\n",
       "      <td>1.000000</td>\n",
       "      <td>1.000000</td>\n",
       "      <td>6.000000</td>\n",
       "      <td>12.000000</td>\n",
       "    </tr>\n",
       "    <tr>\n",
       "      <td>Lifetime</td>\n",
       "      <td>4000.0</td>\n",
       "      <td>3.724750</td>\n",
       "      <td>3.749267</td>\n",
       "      <td>0.000000</td>\n",
       "      <td>1.000000</td>\n",
       "      <td>3.000000</td>\n",
       "      <td>5.000000</td>\n",
       "      <td>31.000000</td>\n",
       "    </tr>\n",
       "    <tr>\n",
       "      <td>Avg_class_frequency_total</td>\n",
       "      <td>4000.0</td>\n",
       "      <td>1.879020</td>\n",
       "      <td>0.972245</td>\n",
       "      <td>0.000000</td>\n",
       "      <td>1.180875</td>\n",
       "      <td>1.832768</td>\n",
       "      <td>2.536078</td>\n",
       "      <td>6.023668</td>\n",
       "    </tr>\n",
       "    <tr>\n",
       "      <td>Avg_class_frequency_current_month</td>\n",
       "      <td>4000.0</td>\n",
       "      <td>1.767052</td>\n",
       "      <td>1.052906</td>\n",
       "      <td>0.000000</td>\n",
       "      <td>0.963003</td>\n",
       "      <td>1.719574</td>\n",
       "      <td>2.510336</td>\n",
       "      <td>6.146783</td>\n",
       "    </tr>\n",
       "    <tr>\n",
       "      <td>Churn</td>\n",
       "      <td>4000.0</td>\n",
       "      <td>0.265250</td>\n",
       "      <td>0.441521</td>\n",
       "      <td>0.000000</td>\n",
       "      <td>0.000000</td>\n",
       "      <td>0.000000</td>\n",
       "      <td>1.000000</td>\n",
       "      <td>1.000000</td>\n",
       "    </tr>\n",
       "  </tbody>\n",
       "</table>\n",
       "</div>"
      ],
      "text/plain": [
       "                                    count        mean        std        min  \\\n",
       "gender                             4000.0    0.510250   0.499957   0.000000   \n",
       "Near_Location                      4000.0    0.845250   0.361711   0.000000   \n",
       "Partner                            4000.0    0.486750   0.499887   0.000000   \n",
       "Promo_friends                      4000.0    0.308500   0.461932   0.000000   \n",
       "Phone                              4000.0    0.903500   0.295313   0.000000   \n",
       "Contract_period                    4000.0    4.681250   4.549706   1.000000   \n",
       "Group_visits                       4000.0    0.412250   0.492301   0.000000   \n",
       "Age                                4000.0   29.184250   3.258367  18.000000   \n",
       "Avg_additional_charges_total       4000.0  146.943728  96.355602   0.148205   \n",
       "Month_to_end_contract              4000.0    4.322750   4.191297   1.000000   \n",
       "Lifetime                           4000.0    3.724750   3.749267   0.000000   \n",
       "Avg_class_frequency_total          4000.0    1.879020   0.972245   0.000000   \n",
       "Avg_class_frequency_current_month  4000.0    1.767052   1.052906   0.000000   \n",
       "Churn                              4000.0    0.265250   0.441521   0.000000   \n",
       "\n",
       "                                         25%         50%         75%  \\\n",
       "gender                              0.000000    1.000000    1.000000   \n",
       "Near_Location                       1.000000    1.000000    1.000000   \n",
       "Partner                             0.000000    0.000000    1.000000   \n",
       "Promo_friends                       0.000000    0.000000    1.000000   \n",
       "Phone                               1.000000    1.000000    1.000000   \n",
       "Contract_period                     1.000000    1.000000    6.000000   \n",
       "Group_visits                        0.000000    0.000000    1.000000   \n",
       "Age                                27.000000   29.000000   31.000000   \n",
       "Avg_additional_charges_total       68.868830  136.220159  210.949625   \n",
       "Month_to_end_contract               1.000000    1.000000    6.000000   \n",
       "Lifetime                            1.000000    3.000000    5.000000   \n",
       "Avg_class_frequency_total           1.180875    1.832768    2.536078   \n",
       "Avg_class_frequency_current_month   0.963003    1.719574    2.510336   \n",
       "Churn                               0.000000    0.000000    1.000000   \n",
       "\n",
       "                                          max  \n",
       "gender                               1.000000  \n",
       "Near_Location                        1.000000  \n",
       "Partner                              1.000000  \n",
       "Promo_friends                        1.000000  \n",
       "Phone                                1.000000  \n",
       "Contract_period                     12.000000  \n",
       "Group_visits                         1.000000  \n",
       "Age                                 41.000000  \n",
       "Avg_additional_charges_total       552.590740  \n",
       "Month_to_end_contract               12.000000  \n",
       "Lifetime                            31.000000  \n",
       "Avg_class_frequency_total            6.023668  \n",
       "Avg_class_frequency_current_month    6.146783  \n",
       "Churn                                1.000000  "
      ]
     },
     "execution_count": 3,
     "metadata": {},
     "output_type": "execute_result"
    }
   ],
   "source": [
    "# посмотрим краткую информацию о типах данных, столбцах и их содеражнии:\n",
    "data.info()\n",
    "data.describe().transpose()"
   ]
  },
  {
   "cell_type": "markdown",
   "metadata": {},
   "source": [
    "**Выводы:**\n",
    "* Почти поровну мужчин и женщин;\n",
    "* 84% клиентов живут/работают рядом с фитнес-центром;\n",
    "* 49% клиентов являются сотрудником компании-партнёра клуба;\n",
    "* 31% клиентов были приведены по акции \"Приведи друга\";\n",
    "* 90% клиентов указали телефон;\n",
    "* Средняя длительность текущего абонемента 4,68 месяцев. Медианное значение - 1 месяц;\n",
    "* 41% клиентов посещалм групповые занятия;\n",
    "* Средний возраст - 29 лет;\n",
    "* В среднем фитнес-центр зарабатывает 146.9 с клиента;\n",
    "* Среднее время до конца абонемента 4,32 месяца. Медианное значение - 1 месяц;\n",
    "* В среднем клиенты с нами около 4 месяцев, медианное значение - 3 месяца;\n",
    "* Средняя частота посещений в неделю за все время почти такая же как и за прошлый месяц, 1.77;\n",
    "* Средняя частота посещений в неделю за прошлый месяц составляет 1.88;\n",
    "* Переменные Age и Avg_additional_charges_total необходимо стандартизировать;\n",
    "* **Среднее значение оттока - 27%**"
   ]
  },
  {
   "cell_type": "markdown",
   "metadata": {},
   "source": [
    "**Проверим на наличие дублей и пропущенных значений**"
   ]
  },
  {
   "cell_type": "code",
   "execution_count": 4,
   "metadata": {},
   "outputs": [
    {
     "data": {
      "text/plain": [
       "0"
      ]
     },
     "execution_count": 4,
     "metadata": {},
     "output_type": "execute_result"
    }
   ],
   "source": [
    "# Проверим на наличие дубликатов:\n",
    "data.duplicated().sum()"
   ]
  },
  {
   "cell_type": "code",
   "execution_count": 5,
   "metadata": {},
   "outputs": [
    {
     "data": {
      "text/plain": [
       "gender                               0\n",
       "Near_Location                        0\n",
       "Partner                              0\n",
       "Promo_friends                        0\n",
       "Phone                                0\n",
       "Contract_period                      0\n",
       "Group_visits                         0\n",
       "Age                                  0\n",
       "Avg_additional_charges_total         0\n",
       "Month_to_end_contract                0\n",
       "Lifetime                             0\n",
       "Avg_class_frequency_total            0\n",
       "Avg_class_frequency_current_month    0\n",
       "Churn                                0\n",
       "dtype: int64"
      ]
     },
     "execution_count": 5,
     "metadata": {},
     "output_type": "execute_result"
    }
   ],
   "source": [
    "# Проверим на наличие пропущенных значений:\n",
    "data.isnull().sum()"
   ]
  },
  {
   "cell_type": "code",
   "execution_count": 6,
   "metadata": {},
   "outputs": [
    {
     "data": {
      "text/plain": [
       "['gender',\n",
       " 'near_location',\n",
       " 'partner',\n",
       " 'promo_friends',\n",
       " 'phone',\n",
       " 'contract_period',\n",
       " 'group_visits',\n",
       " 'age',\n",
       " 'avg_additional_charges_total',\n",
       " 'month_to_end_contract',\n",
       " 'lifetime',\n",
       " 'avg_class_frequency_total',\n",
       " 'avg_class_frequency_current_month',\n",
       " 'churn']"
      ]
     },
     "execution_count": 6,
     "metadata": {},
     "output_type": "execute_result"
    }
   ],
   "source": [
    "# Приведем название столбцев к нижнему регистру:\n",
    "data.columns = [i.lower() for i in data]\n",
    "data.columns.tolist()"
   ]
  },
  {
   "cell_type": "markdown",
   "metadata": {},
   "source": [
    "**Вывод:** \n",
    "* дублей и пропущенных значений - нет;\n",
    "* привели все столбцы к нижнему регистру."
   ]
  },
  {
   "cell_type": "markdown",
   "metadata": {},
   "source": [
    "**Посмотрим на средние значения признаков в двух группах — тех, кто ушел в отток и тех, кто остался**"
   ]
  },
  {
   "cell_type": "code",
   "execution_count": 7,
   "metadata": {},
   "outputs": [
    {
     "data": {
      "text/html": [
       "<div>\n",
       "<style scoped>\n",
       "    .dataframe tbody tr th:only-of-type {\n",
       "        vertical-align: middle;\n",
       "    }\n",
       "\n",
       "    .dataframe tbody tr th {\n",
       "        vertical-align: top;\n",
       "    }\n",
       "\n",
       "    .dataframe thead th {\n",
       "        text-align: right;\n",
       "    }\n",
       "</style>\n",
       "<table border=\"1\" class=\"dataframe\">\n",
       "  <thead>\n",
       "    <tr style=\"text-align: right;\">\n",
       "      <th>churn</th>\n",
       "      <th>0</th>\n",
       "      <th>1</th>\n",
       "    </tr>\n",
       "  </thead>\n",
       "  <tbody>\n",
       "    <tr>\n",
       "      <td>gender</td>\n",
       "      <td>0.510037</td>\n",
       "      <td>0.510839</td>\n",
       "    </tr>\n",
       "    <tr>\n",
       "      <td>near_location</td>\n",
       "      <td>0.873086</td>\n",
       "      <td>0.768143</td>\n",
       "    </tr>\n",
       "    <tr>\n",
       "      <td>partner</td>\n",
       "      <td>0.534195</td>\n",
       "      <td>0.355325</td>\n",
       "    </tr>\n",
       "    <tr>\n",
       "      <td>promo_friends</td>\n",
       "      <td>0.353522</td>\n",
       "      <td>0.183789</td>\n",
       "    </tr>\n",
       "    <tr>\n",
       "      <td>phone</td>\n",
       "      <td>0.903709</td>\n",
       "      <td>0.902922</td>\n",
       "    </tr>\n",
       "    <tr>\n",
       "      <td>contract_period</td>\n",
       "      <td>5.747193</td>\n",
       "      <td>1.728558</td>\n",
       "    </tr>\n",
       "    <tr>\n",
       "      <td>group_visits</td>\n",
       "      <td>0.464103</td>\n",
       "      <td>0.268615</td>\n",
       "    </tr>\n",
       "    <tr>\n",
       "      <td>age</td>\n",
       "      <td>29.976523</td>\n",
       "      <td>26.989632</td>\n",
       "    </tr>\n",
       "    <tr>\n",
       "      <td>avg_additional_charges_total</td>\n",
       "      <td>158.445715</td>\n",
       "      <td>115.082899</td>\n",
       "    </tr>\n",
       "    <tr>\n",
       "      <td>month_to_end_contract</td>\n",
       "      <td>5.283089</td>\n",
       "      <td>1.662582</td>\n",
       "    </tr>\n",
       "    <tr>\n",
       "      <td>lifetime</td>\n",
       "      <td>4.711807</td>\n",
       "      <td>0.990575</td>\n",
       "    </tr>\n",
       "    <tr>\n",
       "      <td>avg_class_frequency_total</td>\n",
       "      <td>2.024876</td>\n",
       "      <td>1.474995</td>\n",
       "    </tr>\n",
       "    <tr>\n",
       "      <td>avg_class_frequency_current_month</td>\n",
       "      <td>2.027882</td>\n",
       "      <td>1.044546</td>\n",
       "    </tr>\n",
       "  </tbody>\n",
       "</table>\n",
       "</div>"
      ],
      "text/plain": [
       "churn                                       0           1\n",
       "gender                               0.510037    0.510839\n",
       "near_location                        0.873086    0.768143\n",
       "partner                              0.534195    0.355325\n",
       "promo_friends                        0.353522    0.183789\n",
       "phone                                0.903709    0.902922\n",
       "contract_period                      5.747193    1.728558\n",
       "group_visits                         0.464103    0.268615\n",
       "age                                 29.976523   26.989632\n",
       "avg_additional_charges_total       158.445715  115.082899\n",
       "month_to_end_contract                5.283089    1.662582\n",
       "lifetime                             4.711807    0.990575\n",
       "avg_class_frequency_total            2.024876    1.474995\n",
       "avg_class_frequency_current_month    2.027882    1.044546"
      ]
     },
     "execution_count": 7,
     "metadata": {},
     "output_type": "execute_result"
    }
   ],
   "source": [
    "# Посмотрим на средние значения признаков в двух группах — тех, кто ушел в отток (1) и тех, кто остался (0):\n",
    "data.groupby('churn').agg('mean').transpose()"
   ]
  },
  {
   "cell_type": "markdown",
   "metadata": {},
   "source": [
    "**Выводы:**\n",
    "* Уходят поровну и мужчины и женщины;\n",
    "* никак не влияет  наличие телефона, указанный возраст;\n",
    "* средняя частота посещений в неделю за предыдущий месяц для людей в оттоке в 2 раза меньше;\n",
    "* Уходят чаще те, кто:\n",
    "\n",
    "   1) живет/работает дальше от фитнес-центра;\n",
    "   \n",
    "   2) не является сотрудником компании-партнёра клуба;\n",
    "   \n",
    "   3) имеет абонемент сроком 1-2 месяца;\n",
    "   \n",
    "   4) не посещают груповые занятия;\n",
    "   \n",
    "   5) пришли не по промо-акции.\n",
    "   \n"
   ]
  },
  {
   "cell_type": "code",
   "execution_count": 8,
   "metadata": {},
   "outputs": [],
   "source": [
    "# Разделим столбцы данных на бинарные и количественные признаки в списки:\n",
    "bin_columns= ['gender', 'near_location', 'partner', 'promo_friends', 'phone', 'group_visits']\n",
    "quant_columns = ['contract_period', 'age', 'avg_additional_charges_total', 'month_to_end_contract', 'lifetime', 'avg_class_frequency_total', 'avg_class_frequency_current_month']"
   ]
  },
  {
   "cell_type": "markdown",
   "metadata": {},
   "source": [
    "**Построим столбчатые гистограммы и распределения признаков для тех, кто ушёл (отток) и тех, кто остался (не попали в отток)**"
   ]
  },
  {
   "cell_type": "code",
   "execution_count": 9,
   "metadata": {
    "scrolled": false
   },
   "outputs": [
    {
     "data": {
      "image/png": "[encoded data removed]",
      "text/plain": [
       "<Figure size 1152x1080 with 6 Axes>"
      ]
     },
     "metadata": {
      "needs_background": "light"
     },
     "output_type": "display_data"
    }
   ],
   "source": [
    "# Пострим гистограммы для каждого из бинарных признаков, сравним ушедших и оставшихся:\n",
    "\n",
    "fig,ax = plt.subplots(nrows=3,ncols=2,figsize=(16,15))\n",
    "for idx, i in enumerate(bin_columns):\n",
    "    sns.countplot(x = i, hue='churn', data=data, ax=ax[idx//2,idx%2])\n",
    "    ax[idx// 2,idx % 2].set_title('Рассматриваемый признак - {}'.format(i))\n",
    "    ax[idx// 2,idx % 2].set_xlabel(i)\n",
    "    fig.suptitle('Распределение бинарных признаков', y=1.05)\n",
    "    plt.tight_layout()\n",
    "    "
   ]
  },
  {
   "cell_type": "code",
   "execution_count": 10,
   "metadata": {
    "scrolled": false
   },
   "outputs": [
    {
     "data": {
      "image/png": "[encoded data removed]",
      "text/plain": [
       "<Figure size 1152x1440 with 8 Axes>"
      ]
     },
     "metadata": {
      "needs_background": "light"
     },
     "output_type": "display_data"
    }
   ],
   "source": [
    "# Пострим \"ящик с усами\" для каждого из количественных признаков, сравним ушедших и оставшихся:\n",
    "fig,ax = plt.subplots(nrows=4,ncols=2,figsize=(16,20))\n",
    "for idx, i in enumerate(quant_columns):\n",
    "    sns.boxplot(x = 'churn', y = i, data = data, ax=ax[idx//2,idx%2])\n",
    "    ax[idx// 2,idx % 2].set_title('Рассматриваемый признак - {}'.format(i))\n",
    "    ax[idx// 2,idx % 2].set_xlabel(i)\n",
    "    fig.suptitle('Распределение количественных признаков', y=1.05)\n",
    "    plt.tight_layout()\n",
    "    "
   ]
  },
  {
   "cell_type": "code",
   "execution_count": 11,
   "metadata": {},
   "outputs": [
    {
     "data": {
      "text/html": [
       "<div>\n",
       "<style scoped>\n",
       "    .dataframe tbody tr th:only-of-type {\n",
       "        vertical-align: middle;\n",
       "    }\n",
       "\n",
       "    .dataframe tbody tr th {\n",
       "        vertical-align: top;\n",
       "    }\n",
       "\n",
       "    .dataframe thead th {\n",
       "        text-align: right;\n",
       "    }\n",
       "</style>\n",
       "<table border=\"1\" class=\"dataframe\">\n",
       "  <thead>\n",
       "    <tr style=\"text-align: right;\">\n",
       "      <th></th>\n",
       "      <th>gender</th>\n",
       "      <th>near_location</th>\n",
       "      <th>partner</th>\n",
       "      <th>promo_friends</th>\n",
       "      <th>phone</th>\n",
       "      <th>contract_period</th>\n",
       "      <th>group_visits</th>\n",
       "      <th>age</th>\n",
       "      <th>avg_additional_charges_total</th>\n",
       "      <th>month_to_end_contract</th>\n",
       "      <th>lifetime</th>\n",
       "      <th>avg_class_frequency_total</th>\n",
       "      <th>avg_class_frequency_current_month</th>\n",
       "      <th>churn</th>\n",
       "    </tr>\n",
       "  </thead>\n",
       "  <tbody>\n",
       "    <tr>\n",
       "      <td>gender</td>\n",
       "      <td>1.000000</td>\n",
       "      <td>0.006699</td>\n",
       "      <td>-0.010463</td>\n",
       "      <td>-0.005033</td>\n",
       "      <td>-0.008542</td>\n",
       "      <td>0.000502</td>\n",
       "      <td>0.017879</td>\n",
       "      <td>0.013807</td>\n",
       "      <td>-0.009334</td>\n",
       "      <td>-0.001281</td>\n",
       "      <td>0.013579</td>\n",
       "      <td>0.014620</td>\n",
       "      <td>0.009156</td>\n",
       "      <td>0.000708</td>\n",
       "    </tr>\n",
       "    <tr>\n",
       "      <td>near_location</td>\n",
       "      <td>0.006699</td>\n",
       "      <td>1.000000</td>\n",
       "      <td>-0.005119</td>\n",
       "      <td>0.210964</td>\n",
       "      <td>-0.015763</td>\n",
       "      <td>0.150233</td>\n",
       "      <td>0.154728</td>\n",
       "      <td>0.058358</td>\n",
       "      <td>0.040761</td>\n",
       "      <td>0.143961</td>\n",
       "      <td>0.070921</td>\n",
       "      <td>0.043127</td>\n",
       "      <td>0.062664</td>\n",
       "      <td>-0.128098</td>\n",
       "    </tr>\n",
       "    <tr>\n",
       "      <td>partner</td>\n",
       "      <td>-0.010463</td>\n",
       "      <td>-0.005119</td>\n",
       "      <td>1.000000</td>\n",
       "      <td>0.451960</td>\n",
       "      <td>0.009970</td>\n",
       "      <td>0.306166</td>\n",
       "      <td>0.022710</td>\n",
       "      <td>0.047480</td>\n",
       "      <td>0.022941</td>\n",
       "      <td>0.294632</td>\n",
       "      <td>0.061229</td>\n",
       "      <td>0.024938</td>\n",
       "      <td>0.045561</td>\n",
       "      <td>-0.157986</td>\n",
       "    </tr>\n",
       "    <tr>\n",
       "      <td>promo_friends</td>\n",
       "      <td>-0.005033</td>\n",
       "      <td>0.210964</td>\n",
       "      <td>0.451960</td>\n",
       "      <td>1.000000</td>\n",
       "      <td>0.001982</td>\n",
       "      <td>0.244552</td>\n",
       "      <td>0.120170</td>\n",
       "      <td>0.050113</td>\n",
       "      <td>0.036898</td>\n",
       "      <td>0.239553</td>\n",
       "      <td>0.072721</td>\n",
       "      <td>0.028063</td>\n",
       "      <td>0.053768</td>\n",
       "      <td>-0.162233</td>\n",
       "    </tr>\n",
       "    <tr>\n",
       "      <td>phone</td>\n",
       "      <td>-0.008542</td>\n",
       "      <td>-0.015763</td>\n",
       "      <td>0.009970</td>\n",
       "      <td>0.001982</td>\n",
       "      <td>1.000000</td>\n",
       "      <td>-0.006893</td>\n",
       "      <td>-0.010099</td>\n",
       "      <td>-0.011403</td>\n",
       "      <td>0.009279</td>\n",
       "      <td>-0.011196</td>\n",
       "      <td>-0.018801</td>\n",
       "      <td>0.008340</td>\n",
       "      <td>0.013375</td>\n",
       "      <td>-0.001177</td>\n",
       "    </tr>\n",
       "    <tr>\n",
       "      <td>contract_period</td>\n",
       "      <td>0.000502</td>\n",
       "      <td>0.150233</td>\n",
       "      <td>0.306166</td>\n",
       "      <td>0.244552</td>\n",
       "      <td>-0.006893</td>\n",
       "      <td>1.000000</td>\n",
       "      <td>0.169991</td>\n",
       "      <td>0.138249</td>\n",
       "      <td>0.111445</td>\n",
       "      <td>0.973064</td>\n",
       "      <td>0.170725</td>\n",
       "      <td>0.096211</td>\n",
       "      <td>0.159407</td>\n",
       "      <td>-0.389984</td>\n",
       "    </tr>\n",
       "    <tr>\n",
       "      <td>group_visits</td>\n",
       "      <td>0.017879</td>\n",
       "      <td>0.154728</td>\n",
       "      <td>0.022710</td>\n",
       "      <td>0.120170</td>\n",
       "      <td>-0.010099</td>\n",
       "      <td>0.169991</td>\n",
       "      <td>1.000000</td>\n",
       "      <td>0.080934</td>\n",
       "      <td>0.032079</td>\n",
       "      <td>0.163703</td>\n",
       "      <td>0.075853</td>\n",
       "      <td>0.056695</td>\n",
       "      <td>0.075923</td>\n",
       "      <td>-0.175325</td>\n",
       "    </tr>\n",
       "    <tr>\n",
       "      <td>age</td>\n",
       "      <td>0.013807</td>\n",
       "      <td>0.058358</td>\n",
       "      <td>0.047480</td>\n",
       "      <td>0.050113</td>\n",
       "      <td>-0.011403</td>\n",
       "      <td>0.138249</td>\n",
       "      <td>0.080934</td>\n",
       "      <td>1.000000</td>\n",
       "      <td>0.080240</td>\n",
       "      <td>0.134511</td>\n",
       "      <td>0.164693</td>\n",
       "      <td>0.119953</td>\n",
       "      <td>0.183095</td>\n",
       "      <td>-0.404735</td>\n",
       "    </tr>\n",
       "    <tr>\n",
       "      <td>avg_additional_charges_total</td>\n",
       "      <td>-0.009334</td>\n",
       "      <td>0.040761</td>\n",
       "      <td>0.022941</td>\n",
       "      <td>0.036898</td>\n",
       "      <td>0.009279</td>\n",
       "      <td>0.111445</td>\n",
       "      <td>0.032079</td>\n",
       "      <td>0.080240</td>\n",
       "      <td>1.000000</td>\n",
       "      <td>0.113958</td>\n",
       "      <td>0.079028</td>\n",
       "      <td>0.044426</td>\n",
       "      <td>0.079570</td>\n",
       "      <td>-0.198697</td>\n",
       "    </tr>\n",
       "    <tr>\n",
       "      <td>month_to_end_contract</td>\n",
       "      <td>-0.001281</td>\n",
       "      <td>0.143961</td>\n",
       "      <td>0.294632</td>\n",
       "      <td>0.239553</td>\n",
       "      <td>-0.011196</td>\n",
       "      <td>0.973064</td>\n",
       "      <td>0.163703</td>\n",
       "      <td>0.134511</td>\n",
       "      <td>0.113958</td>\n",
       "      <td>1.000000</td>\n",
       "      <td>0.161078</td>\n",
       "      <td>0.085387</td>\n",
       "      <td>0.147605</td>\n",
       "      <td>-0.381393</td>\n",
       "    </tr>\n",
       "    <tr>\n",
       "      <td>lifetime</td>\n",
       "      <td>0.013579</td>\n",
       "      <td>0.070921</td>\n",
       "      <td>0.061229</td>\n",
       "      <td>0.072721</td>\n",
       "      <td>-0.018801</td>\n",
       "      <td>0.170725</td>\n",
       "      <td>0.075853</td>\n",
       "      <td>0.164693</td>\n",
       "      <td>0.079028</td>\n",
       "      <td>0.161078</td>\n",
       "      <td>1.000000</td>\n",
       "      <td>0.112338</td>\n",
       "      <td>0.181975</td>\n",
       "      <td>-0.438220</td>\n",
       "    </tr>\n",
       "    <tr>\n",
       "      <td>avg_class_frequency_total</td>\n",
       "      <td>0.014620</td>\n",
       "      <td>0.043127</td>\n",
       "      <td>0.024938</td>\n",
       "      <td>0.028063</td>\n",
       "      <td>0.008340</td>\n",
       "      <td>0.096211</td>\n",
       "      <td>0.056695</td>\n",
       "      <td>0.119953</td>\n",
       "      <td>0.044426</td>\n",
       "      <td>0.085387</td>\n",
       "      <td>0.112338</td>\n",
       "      <td>1.000000</td>\n",
       "      <td>0.952739</td>\n",
       "      <td>-0.249715</td>\n",
       "    </tr>\n",
       "    <tr>\n",
       "      <td>avg_class_frequency_current_month</td>\n",
       "      <td>0.009156</td>\n",
       "      <td>0.062664</td>\n",
       "      <td>0.045561</td>\n",
       "      <td>0.053768</td>\n",
       "      <td>0.013375</td>\n",
       "      <td>0.159407</td>\n",
       "      <td>0.075923</td>\n",
       "      <td>0.183095</td>\n",
       "      <td>0.079570</td>\n",
       "      <td>0.147605</td>\n",
       "      <td>0.181975</td>\n",
       "      <td>0.952739</td>\n",
       "      <td>1.000000</td>\n",
       "      <td>-0.412348</td>\n",
       "    </tr>\n",
       "    <tr>\n",
       "      <td>churn</td>\n",
       "      <td>0.000708</td>\n",
       "      <td>-0.128098</td>\n",
       "      <td>-0.157986</td>\n",
       "      <td>-0.162233</td>\n",
       "      <td>-0.001177</td>\n",
       "      <td>-0.389984</td>\n",
       "      <td>-0.175325</td>\n",
       "      <td>-0.404735</td>\n",
       "      <td>-0.198697</td>\n",
       "      <td>-0.381393</td>\n",
       "      <td>-0.438220</td>\n",
       "      <td>-0.249715</td>\n",
       "      <td>-0.412348</td>\n",
       "      <td>1.000000</td>\n",
       "    </tr>\n",
       "  </tbody>\n",
       "</table>\n",
       "</div>"
      ],
      "text/plain": [
       "                                     gender  near_location   partner  \\\n",
       "gender                             1.000000       0.006699 -0.010463   \n",
       "near_location                      0.006699       1.000000 -0.005119   \n",
       "partner                           -0.010463      -0.005119  1.000000   \n",
       "promo_friends                     -0.005033       0.210964  0.451960   \n",
       "phone                             -0.008542      -0.015763  0.009970   \n",
       "contract_period                    0.000502       0.150233  0.306166   \n",
       "group_visits                       0.017879       0.154728  0.022710   \n",
       "age                                0.013807       0.058358  0.047480   \n",
       "avg_additional_charges_total      -0.009334       0.040761  0.022941   \n",
       "month_to_end_contract             -0.001281       0.143961  0.294632   \n",
       "lifetime                           0.013579       0.070921  0.061229   \n",
       "avg_class_frequency_total          0.014620       0.043127  0.024938   \n",
       "avg_class_frequency_current_month  0.009156       0.062664  0.045561   \n",
       "churn                              0.000708      -0.128098 -0.157986   \n",
       "\n",
       "                                   promo_friends     phone  contract_period  \\\n",
       "gender                                 -0.005033 -0.008542         0.000502   \n",
       "near_location                           0.210964 -0.015763         0.150233   \n",
       "partner                                 0.451960  0.009970         0.306166   \n",
       "promo_friends                           1.000000  0.001982         0.244552   \n",
       "phone                                   0.001982  1.000000        -0.006893   \n",
       "contract_period                         0.244552 -0.006893         1.000000   \n",
       "group_visits                            0.120170 -0.010099         0.169991   \n",
       "age                                     0.050113 -0.011403         0.138249   \n",
       "avg_additional_charges_total            0.036898  0.009279         0.111445   \n",
       "month_to_end_contract                   0.239553 -0.011196         0.973064   \n",
       "lifetime                                0.072721 -0.018801         0.170725   \n",
       "avg_class_frequency_total               0.028063  0.008340         0.096211   \n",
       "avg_class_frequency_current_month       0.053768  0.013375         0.159407   \n",
       "churn                                  -0.162233 -0.001177        -0.389984   \n",
       "\n",
       "                                   group_visits       age  \\\n",
       "gender                                 0.017879  0.013807   \n",
       "near_location                          0.154728  0.058358   \n",
       "partner                                0.022710  0.047480   \n",
       "promo_friends                          0.120170  0.050113   \n",
       "phone                                 -0.010099 -0.011403   \n",
       "contract_period                        0.169991  0.138249   \n",
       "group_visits                           1.000000  0.080934   \n",
       "age                                    0.080934  1.000000   \n",
       "avg_additional_charges_total           0.032079  0.080240   \n",
       "month_to_end_contract                  0.163703  0.134511   \n",
       "lifetime                               0.075853  0.164693   \n",
       "avg_class_frequency_total              0.056695  0.119953   \n",
       "avg_class_frequency_current_month      0.075923  0.183095   \n",
       "churn                                 -0.175325 -0.404735   \n",
       "\n",
       "                                   avg_additional_charges_total  \\\n",
       "gender                                                -0.009334   \n",
       "near_location                                          0.040761   \n",
       "partner                                                0.022941   \n",
       "promo_friends                                          0.036898   \n",
       "phone                                                  0.009279   \n",
       "contract_period                                        0.111445   \n",
       "group_visits                                           0.032079   \n",
       "age                                                    0.080240   \n",
       "avg_additional_charges_total                           1.000000   \n",
       "month_to_end_contract                                  0.113958   \n",
       "lifetime                                               0.079028   \n",
       "avg_class_frequency_total                              0.044426   \n",
       "avg_class_frequency_current_month                      0.079570   \n",
       "churn                                                 -0.198697   \n",
       "\n",
       "                                   month_to_end_contract  lifetime  \\\n",
       "gender                                         -0.001281  0.013579   \n",
       "near_location                                   0.143961  0.070921   \n",
       "partner                                         0.294632  0.061229   \n",
       "promo_friends                                   0.239553  0.072721   \n",
       "phone                                          -0.011196 -0.018801   \n",
       "contract_period                                 0.973064  0.170725   \n",
       "group_visits                                    0.163703  0.075853   \n",
       "age                                             0.134511  0.164693   \n",
       "avg_additional_charges_total                    0.113958  0.079028   \n",
       "month_to_end_contract                           1.000000  0.161078   \n",
       "lifetime                                        0.161078  1.000000   \n",
       "avg_class_frequency_total                       0.085387  0.112338   \n",
       "avg_class_frequency_current_month               0.147605  0.181975   \n",
       "churn                                          -0.381393 -0.438220   \n",
       "\n",
       "                                   avg_class_frequency_total  \\\n",
       "gender                                              0.014620   \n",
       "near_location                                       0.043127   \n",
       "partner                                             0.024938   \n",
       "promo_friends                                       0.028063   \n",
       "phone                                               0.008340   \n",
       "contract_period                                     0.096211   \n",
       "group_visits                                        0.056695   \n",
       "age                                                 0.119953   \n",
       "avg_additional_charges_total                        0.044426   \n",
       "month_to_end_contract                               0.085387   \n",
       "lifetime                                            0.112338   \n",
       "avg_class_frequency_total                           1.000000   \n",
       "avg_class_frequency_current_month                   0.952739   \n",
       "churn                                              -0.249715   \n",
       "\n",
       "                                   avg_class_frequency_current_month     churn  \n",
       "gender                                                      0.009156  0.000708  \n",
       "near_location                                               0.062664 -0.128098  \n",
       "partner                                                     0.045561 -0.157986  \n",
       "promo_friends                                               0.053768 -0.162233  \n",
       "phone                                                       0.013375 -0.001177  \n",
       "contract_period                                             0.159407 -0.389984  \n",
       "group_visits                                                0.075923 -0.175325  \n",
       "age                                                         0.183095 -0.404735  \n",
       "avg_additional_charges_total                                0.079570 -0.198697  \n",
       "month_to_end_contract                                       0.147605 -0.381393  \n",
       "lifetime                                                    0.181975 -0.438220  \n",
       "avg_class_frequency_total                                   0.952739 -0.249715  \n",
       "avg_class_frequency_current_month                           1.000000 -0.412348  \n",
       "churn                                                      -0.412348  1.000000  "
      ]
     },
     "metadata": {},
     "output_type": "display_data"
    }
   ],
   "source": [
    "# Построим таблицу корреляции признаков:\n",
    "display(data.corr())"
   ]
  },
  {
   "cell_type": "code",
   "execution_count": 12,
   "metadata": {},
   "outputs": [
    {
     "data": {
      "image/png": "[encoded data removed]",
      "text/plain": [
       "<Figure size 1008x720 with 2 Axes>"
      ]
     },
     "metadata": {
      "needs_background": "light"
     },
     "output_type": "display_data"
    }
   ],
   "source": [
    "# Построим матрицу корреляции признаков с помощью heatmap:\n",
    "plt.figure(figsize=(14, 10))\n",
    "sns.heatmap( data.corr(), annot = True, fmt = '0.2f', linewidths=.5)\n",
    "plt.show()"
   ]
  },
  {
   "cell_type": "markdown",
   "metadata": {},
   "source": [
    "* Явной зависимости факта оттока от каких-либо признаков нет;\n",
    "* Сильно коррелируют:\n",
    "\n",
    "1) 'contract_period' и 'month_to_end_contract';\n",
    "\n",
    "2) 'avg_class_frequency_current_month' и 'avg_class_frequency_total'.\n",
    "\n",
    "Чтобы избавиться от мультиколлинеарности, удалим из датафрейма один из каждой пары."
   ]
  },
  {
   "cell_type": "code",
   "execution_count": 13,
   "metadata": {},
   "outputs": [],
   "source": [
    "data.drop('month_to_end_contract', axis = 1, inplace = True)\n",
    "data.drop('avg_class_frequency_total', axis = 1, inplace = True)"
   ]
  },
  {
   "cell_type": "markdown",
   "metadata": {},
   "source": [
    "# Шаг 3. Построим модель прогнозирования оттока клиентов<a id=\"3\"></a>"
   ]
  },
  {
   "cell_type": "markdown",
   "metadata": {},
   "source": [
    "\n",
    "**Построим модель бинарной классификации пользователей, где целевой признак - факт оттока пользователя в следующем месяце.**\n",
    "\n",
    "**Этапы:**\n",
    "1) Разобъем данные на обучающую и валидационную выборки функцией train_test_split();\n",
    "\n",
    "2) Обучим модель на train-выборке логистической регрессией и случайным лесом;\n",
    "\n",
    "3) Оценим метрики accuracy, precision и recall для обеих моделей на валидационной выборке. Сравним по ним модели и сделаем выводы."
   ]
  },
  {
   "cell_type": "code",
   "execution_count": 14,
   "metadata": {},
   "outputs": [],
   "source": [
    "from sklearn.model_selection import train_test_split\n",
    "from sklearn.linear_model import LogisticRegression\n",
    "from sklearn.preprocessing import StandardScaler\n",
    "from sklearn.metrics import accuracy_score, precision_score, recall_score\n",
    "from sklearn.ensemble import RandomForestClassifier"
   ]
  },
  {
   "cell_type": "code",
   "execution_count": 15,
   "metadata": {},
   "outputs": [
    {
     "name": "stdout",
     "output_type": "stream",
     "text": [
      "Соотношение классов:\n",
      " 0    2939\n",
      "1    1061\n",
      "Name: churn, dtype: int64\n"
     ]
    }
   ],
   "source": [
    "# посмотрим, как соотносятся классы набора данных:\n",
    "print('Соотношение классов:\\n', data['churn'].value_counts())"
   ]
  },
  {
   "cell_type": "code",
   "execution_count": 16,
   "metadata": {},
   "outputs": [],
   "source": [
    "# разделим наши данные на признаки (матрица X) и целевую переменную (y):\n",
    "X = data.drop('churn', axis = 1)\n",
    "y = data['churn']"
   ]
  },
  {
   "cell_type": "code",
   "execution_count": 17,
   "metadata": {},
   "outputs": [],
   "source": [
    "# разделяем модель на обучающую и валидационную выборку:\n",
    "X_train, X_test, y_train, y_test = train_test_split(X, y, test_size=0.2, random_state=0, stratify = y)"
   ]
  },
  {
   "cell_type": "code",
   "execution_count": 18,
   "metadata": {},
   "outputs": [
    {
     "data": {
      "text/plain": [
       "StandardScaler(copy=True, with_mean=True, with_std=True)"
      ]
     },
     "execution_count": 18,
     "metadata": {},
     "output_type": "execute_result"
    }
   ],
   "source": [
    "# обучим StandartScaler на обучающей выборке:\n",
    "scaler = StandardScaler()\n",
    "scaler.fit(X_train)"
   ]
  },
  {
   "cell_type": "code",
   "execution_count": 19,
   "metadata": {},
   "outputs": [],
   "source": [
    "# Преобразуем обучающий и валидационные наборы данных:\n",
    "X_train_st = scaler.transform(X_train)\n",
    "X_test_st = scaler.transform(X_test)"
   ]
  },
  {
   "cell_type": "code",
   "execution_count": 20,
   "metadata": {},
   "outputs": [],
   "source": [
    "#Задаем алгоритм для модели:\n",
    "lr_model = LogisticRegression(solver='liblinear',random_state=0)"
   ]
  },
  {
   "cell_type": "code",
   "execution_count": 21,
   "metadata": {},
   "outputs": [
    {
     "data": {
      "text/plain": [
       "LogisticRegression(C=1.0, class_weight=None, dual=False, fit_intercept=True,\n",
       "                   intercept_scaling=1, l1_ratio=None, max_iter=100,\n",
       "                   multi_class='warn', n_jobs=None, penalty='l2',\n",
       "                   random_state=0, solver='liblinear', tol=0.0001, verbose=0,\n",
       "                   warm_start=False)"
      ]
     },
     "execution_count": 21,
     "metadata": {},
     "output_type": "execute_result"
    }
   ],
   "source": [
    "# Обучим модель:\n",
    "lr_model.fit(X_train_st, y_train)"
   ]
  },
  {
   "cell_type": "code",
   "execution_count": 22,
   "metadata": {},
   "outputs": [],
   "source": [
    "# Воспользуемся уже обученной моделью, чтобы сделать прогнозы:\n",
    "lr_predictions = lr_model.predict(X_test_st)"
   ]
  },
  {
   "cell_type": "code",
   "execution_count": 23,
   "metadata": {},
   "outputs": [
    {
     "name": "stdout",
     "output_type": "stream",
     "text": [
      "[[ 0.02435228 -0.06325383 -0.05799998 -0.15007384 -0.07493617 -1.37710805\n",
      "  -0.37541984 -1.15510683 -0.56168546 -3.5486095  -1.27180585]]\n",
      "[-3.6900244]\n"
     ]
    }
   ],
   "source": [
    "# Выведем веса и нулевой коэффициент:\n",
    "print(lr_model.coef_) \n",
    "print(lr_model.intercept_) "
   ]
  },
  {
   "cell_type": "code",
   "execution_count": 24,
   "metadata": {},
   "outputs": [],
   "source": [
    "# зададим алгоритм для новой модели на основе алгоритма случайного леса:\n",
    "rf_model = RandomForestClassifier(n_estimators = 100,random_state = 0)"
   ]
  },
  {
   "cell_type": "code",
   "execution_count": 25,
   "metadata": {},
   "outputs": [
    {
     "data": {
      "text/plain": [
       "RandomForestClassifier(bootstrap=True, class_weight=None, criterion='gini',\n",
       "                       max_depth=None, max_features='auto', max_leaf_nodes=None,\n",
       "                       min_impurity_decrease=0.0, min_impurity_split=None,\n",
       "                       min_samples_leaf=1, min_samples_split=2,\n",
       "                       min_weight_fraction_leaf=0.0, n_estimators=100,\n",
       "                       n_jobs=None, oob_score=False, random_state=0, verbose=0,\n",
       "                       warm_start=False)"
      ]
     },
     "execution_count": 25,
     "metadata": {},
     "output_type": "execute_result"
    }
   ],
   "source": [
    "# обучим модель случайного леса\n",
    "rf_model.fit(X_train_st,y_train)"
   ]
  },
  {
   "cell_type": "code",
   "execution_count": 26,
   "metadata": {},
   "outputs": [],
   "source": [
    "# воспользуемся уже обученной моделью, чтобы сделать прогнозы\n",
    "rf_predictions =  rf_model.predict(X_test_st)"
   ]
  },
  {
   "cell_type": "code",
   "execution_count": 27,
   "metadata": {},
   "outputs": [],
   "source": [
    "#  Создадим функцию для вывода результатов:\n",
    "def print_all_metrics(y_true, y_pred, title='Метрики классификации'):\n",
    "    print(title)\n",
    "    print('\\tAccuracy: {:.3f}'.format(accuracy_score(y_true, y_pred)))\n",
    "    print('\\tPrecision: {:.3f}'.format(precision_score(y_true, y_pred)))\n",
    "    print('\\tRecall: {:.3f}'.format(recall_score(y_true, y_pred)))"
   ]
  },
  {
   "cell_type": "code",
   "execution_count": 28,
   "metadata": {},
   "outputs": [
    {
     "name": "stdout",
     "output_type": "stream",
     "text": [
      "Метрики для модели логистической регрессии:\n",
      "\tAccuracy: 0.917\n",
      "\tPrecision: 0.848\n",
      "\tRecall: 0.840\n"
     ]
    }
   ],
   "source": [
    "# выведем все метрики для логистическрй регрессии:\n",
    "print_all_metrics(\n",
    "    y_test,\n",
    "    lr_predictions,\n",
    "    title='Метрики для модели логистической регрессии:'\n",
    ")"
   ]
  },
  {
   "cell_type": "code",
   "execution_count": 29,
   "metadata": {},
   "outputs": [
    {
     "name": "stdout",
     "output_type": "stream",
     "text": [
      "Метрики для модели случайного леса:\n",
      "\tAccuracy: 0.905\n",
      "\tPrecision: 0.854\n",
      "\tRecall: 0.774\n"
     ]
    }
   ],
   "source": [
    "# выведем все метрики для случайного леса:\n",
    "print_all_metrics(\n",
    "    y_test,\n",
    "    rf_predictions,\n",
    "    title = 'Метрики для модели случайного леса:'\n",
    ")"
   ]
  },
  {
   "cell_type": "markdown",
   "metadata": {},
   "source": [
    "**Вывод:**\n",
    "* доля верно угаданных ответов из всех прогнозов (Accuracy) у модели логистическая регресия (0.92) оказалась лучше чем у случайного леса (0.91);\n",
    "* доля правильных ответов только среди целевого класса (precision) у модели логистическая регресия (0.85) оказалась одинаковым со случайным леса (0.85); \n",
    "* сколько реальных объектов смогли обнаружить с помощью модели (recall) у модели логистическая регресия (0.84) оказалась лучше чем у случайного леса (0.77);\n",
    "* Выбираем в итоге модель - Логистическая регрессия, т.к. большенство метрик оказались лучше."
   ]
  },
  {
   "cell_type": "markdown",
   "metadata": {},
   "source": [
    "# Шаг 4. Сделаем кластеризацию клиентов<a id=\"4\"></a>"
   ]
  },
  {
   "cell_type": "markdown",
   "metadata": {},
   "source": [
    "**Проведем кластеризацию пользователей (обучение без учителя)**\n",
    "\n",
    "**Этапы:**\n",
    "1) Стандартизируем данные;\n",
    "\n",
    "2) Построим матрицу расстояний функцией linkage() на стандартизированной матрице признаков и нарисуем дендограмму.\n",
    "\n",
    "3) Обучим модель кластеризации на основе алгоритма K-Means и спрогнозируем кластеры клиентов. (берём n=5 кластеров)\n"
   ]
  },
  {
   "cell_type": "code",
   "execution_count": 30,
   "metadata": {},
   "outputs": [],
   "source": [
    "from scipy.cluster.hierarchy import dendrogram, linkage \n",
    "from sklearn.cluster import KMeans\n",
    "from sklearn.metrics import silhouette_score"
   ]
  },
  {
   "cell_type": "code",
   "execution_count": 31,
   "metadata": {},
   "outputs": [],
   "source": [
    "# обязательная стандартизация данных перед работой с алгоритмами\n",
    "sc = StandardScaler()\n",
    "X_sc = sc.fit_transform(X)\n",
    "\n",
    "linked = linkage(X_sc, method = 'ward') "
   ]
  },
  {
   "cell_type": "code",
   "execution_count": 32,
   "metadata": {},
   "outputs": [
    {
     "data": {
      "image/png": "[encoded data removed]",
      "text/plain": [
       "<Figure size 1080x720 with 1 Axes>"
      ]
     },
     "metadata": {
      "needs_background": "light"
     },
     "output_type": "display_data"
    }
   ],
   "source": [
    "# Построим дендрограмму:\n",
    "plt.figure(figsize=(15, 10))  \n",
    "dendrogram(linked, orientation='top')\n",
    "plt.title('Иерархическая кластеризация')\n",
    "plt.show() "
   ]
  },
  {
   "cell_type": "markdown",
   "metadata": {},
   "source": [
    "**Выводы:**\n",
    "* явно выделяются 4 кластера, но возьмем 5;"
   ]
  },
  {
   "cell_type": "code",
   "execution_count": 33,
   "metadata": {},
   "outputs": [],
   "source": [
    "# задаём модель k_means с числом кластеров 5:\n",
    "km = KMeans(n_clusters = 5,random_state = 0)"
   ]
  },
  {
   "cell_type": "code",
   "execution_count": 34,
   "metadata": {},
   "outputs": [],
   "source": [
    "# прогнозируем кластеры для наблюдений (алгоритм присваивает им номера от 0 до 4):\n",
    "labels = km.fit_predict(X_sc)"
   ]
  },
  {
   "cell_type": "code",
   "execution_count": 35,
   "metadata": {},
   "outputs": [],
   "source": [
    "# сохраняем метки кластера в поле нашего датасетаЖ=:\n",
    "data['cluster_km'] = labels"
   ]
  },
  {
   "cell_type": "code",
   "execution_count": 36,
   "metadata": {},
   "outputs": [
    {
     "data": {
      "text/plain": [
       "2    1064\n",
       "3    1007\n",
       "0     985\n",
       "1     558\n",
       "4     386\n",
       "Name: cluster_km, dtype: int64"
      ]
     },
     "execution_count": 36,
     "metadata": {},
     "output_type": "execute_result"
    }
   ],
   "source": [
    "# Выведеем объем каждого кластера:\n",
    "data['cluster_km'].value_counts()"
   ]
  },
  {
   "cell_type": "code",
   "execution_count": 37,
   "metadata": {},
   "outputs": [
    {
     "data": {
      "text/html": [
       "<div>\n",
       "<style scoped>\n",
       "    .dataframe tbody tr th:only-of-type {\n",
       "        vertical-align: middle;\n",
       "    }\n",
       "\n",
       "    .dataframe tbody tr th {\n",
       "        vertical-align: top;\n",
       "    }\n",
       "\n",
       "    .dataframe thead th {\n",
       "        text-align: right;\n",
       "    }\n",
       "</style>\n",
       "<table border=\"1\" class=\"dataframe\">\n",
       "  <thead>\n",
       "    <tr style=\"text-align: right;\">\n",
       "      <th>cluster_km</th>\n",
       "      <th>0</th>\n",
       "      <th>1</th>\n",
       "      <th>2</th>\n",
       "      <th>3</th>\n",
       "      <th>4</th>\n",
       "    </tr>\n",
       "  </thead>\n",
       "  <tbody>\n",
       "    <tr>\n",
       "      <td>gender</td>\n",
       "      <td>0.496447</td>\n",
       "      <td>0.500000</td>\n",
       "      <td>0.500940</td>\n",
       "      <td>0.534260</td>\n",
       "      <td>0.523316</td>\n",
       "    </tr>\n",
       "    <tr>\n",
       "      <td>near_location</td>\n",
       "      <td>0.995939</td>\n",
       "      <td>0.000000</td>\n",
       "      <td>1.000000</td>\n",
       "      <td>0.996028</td>\n",
       "      <td>0.862694</td>\n",
       "    </tr>\n",
       "    <tr>\n",
       "      <td>partner</td>\n",
       "      <td>0.892386</td>\n",
       "      <td>0.489247</td>\n",
       "      <td>0.217105</td>\n",
       "      <td>0.379345</td>\n",
       "      <td>0.471503</td>\n",
       "    </tr>\n",
       "    <tr>\n",
       "      <td>promo_friends</td>\n",
       "      <td>1.000000</td>\n",
       "      <td>0.078853</td>\n",
       "      <td>0.072368</td>\n",
       "      <td>0.009930</td>\n",
       "      <td>0.305699</td>\n",
       "    </tr>\n",
       "    <tr>\n",
       "      <td>phone</td>\n",
       "      <td>1.000000</td>\n",
       "      <td>1.000000</td>\n",
       "      <td>1.000000</td>\n",
       "      <td>1.000000</td>\n",
       "      <td>0.000000</td>\n",
       "    </tr>\n",
       "    <tr>\n",
       "      <td>contract_period</td>\n",
       "      <td>6.922843</td>\n",
       "      <td>2.994624</td>\n",
       "      <td>2.010338</td>\n",
       "      <td>6.208540</td>\n",
       "      <td>4.777202</td>\n",
       "    </tr>\n",
       "    <tr>\n",
       "      <td>group_visits</td>\n",
       "      <td>0.524873</td>\n",
       "      <td>0.232975</td>\n",
       "      <td>0.277256</td>\n",
       "      <td>0.538232</td>\n",
       "      <td>0.427461</td>\n",
       "    </tr>\n",
       "    <tr>\n",
       "      <td>age</td>\n",
       "      <td>29.606091</td>\n",
       "      <td>28.679211</td>\n",
       "      <td>27.583647</td>\n",
       "      <td>30.699106</td>\n",
       "      <td>29.297927</td>\n",
       "    </tr>\n",
       "    <tr>\n",
       "      <td>avg_additional_charges_total</td>\n",
       "      <td>153.424651</td>\n",
       "      <td>137.125763</td>\n",
       "      <td>119.339956</td>\n",
       "      <td>176.259567</td>\n",
       "      <td>144.208179</td>\n",
       "    </tr>\n",
       "    <tr>\n",
       "      <td>lifetime</td>\n",
       "      <td>4.283249</td>\n",
       "      <td>2.974910</td>\n",
       "      <td>1.922932</td>\n",
       "      <td>5.415094</td>\n",
       "      <td>3.940415</td>\n",
       "    </tr>\n",
       "    <tr>\n",
       "      <td>avg_class_frequency_current_month</td>\n",
       "      <td>1.919520</td>\n",
       "      <td>1.597146</td>\n",
       "      <td>1.203319</td>\n",
       "      <td>2.324220</td>\n",
       "      <td>1.723967</td>\n",
       "    </tr>\n",
       "    <tr>\n",
       "      <td>churn</td>\n",
       "      <td>0.119797</td>\n",
       "      <td>0.403226</td>\n",
       "      <td>0.563910</td>\n",
       "      <td>0.014896</td>\n",
       "      <td>0.266839</td>\n",
       "    </tr>\n",
       "  </tbody>\n",
       "</table>\n",
       "</div>"
      ],
      "text/plain": [
       "cluster_km                                  0           1           2  \\\n",
       "gender                               0.496447    0.500000    0.500940   \n",
       "near_location                        0.995939    0.000000    1.000000   \n",
       "partner                              0.892386    0.489247    0.217105   \n",
       "promo_friends                        1.000000    0.078853    0.072368   \n",
       "phone                                1.000000    1.000000    1.000000   \n",
       "contract_period                      6.922843    2.994624    2.010338   \n",
       "group_visits                         0.524873    0.232975    0.277256   \n",
       "age                                 29.606091   28.679211   27.583647   \n",
       "avg_additional_charges_total       153.424651  137.125763  119.339956   \n",
       "lifetime                             4.283249    2.974910    1.922932   \n",
       "avg_class_frequency_current_month    1.919520    1.597146    1.203319   \n",
       "churn                                0.119797    0.403226    0.563910   \n",
       "\n",
       "cluster_km                                  3           4  \n",
       "gender                               0.534260    0.523316  \n",
       "near_location                        0.996028    0.862694  \n",
       "partner                              0.379345    0.471503  \n",
       "promo_friends                        0.009930    0.305699  \n",
       "phone                                1.000000    0.000000  \n",
       "contract_period                      6.208540    4.777202  \n",
       "group_visits                         0.538232    0.427461  \n",
       "age                                 30.699106   29.297927  \n",
       "avg_additional_charges_total       176.259567  144.208179  \n",
       "lifetime                             5.415094    3.940415  \n",
       "avg_class_frequency_current_month    2.324220    1.723967  \n",
       "churn                                0.014896    0.266839  "
      ]
     },
     "execution_count": 37,
     "metadata": {},
     "output_type": "execute_result"
    }
   ],
   "source": [
    "# Сгрупируем по кластерам и найдем среднее значения каждого признака:\n",
    "data.groupby('cluster_km').agg('mean').transpose()"
   ]
  },
  {
   "cell_type": "markdown",
   "metadata": {},
   "source": [
    "**Выводы:**\n",
    "\n",
    "**Кластер 0**\n",
    "* Отток - 11%;\n",
    "* Живут или работают недалеко от фитнес-центра;\n",
    "* 89% являются сотрудниками компании-партнёра клуба;\n",
    "* По промо-акции пришли все 100%;\n",
    "* Заключают договора на длительный срок - более 6 месяцев;\n",
    "* 52% посещают групповые занятия.\n",
    "\n",
    "**Кластер 1** \n",
    "* Отток - 40%;\n",
    "* живут или работают в другом районе;\n",
    "* 48% являются сотрудниками компании-партнёра клуба;\n",
    "* По промо-акции пришли лишь 7%;\n",
    "* 23% посещают групповые занятия.\n",
    "\n",
    "**Кластер 2**\n",
    "* Отток - 56% - самый высокий;\n",
    "* Все живут или работают недалеко от фитнес-центра;\n",
    "* В основном имеют короткие абонементы  на 1-2 месяца;\n",
    "* Наименьшее средняя частота посещений в неделю за предыдущий месяц;\n",
    "* Лишь 21% являются сотрудниками компании-партнёра клуба;\n",
    "* По промо-акции пришли лишь 7%;\n",
    "* 27% ходят на групповые занятия.\n",
    "\n",
    "**Кластер 3**\n",
    "* Отток - 1% - самый низкий;\n",
    "* Живут или работают недалеко от фитнес-центра;\n",
    "* 38% являются сотрудниками компании-партнёра клуба;\n",
    "* Заключают договора на длительный срок - более 6 месяцев;\n",
    "* 53% посещают групповые занятия;\n",
    "* Реже всех пришли по промо акции ;\n",
    "* в среднем потратили больше всех денежных средств 176;\n",
    "* средняя частота посещений в неделю за предыдущий месяц выше всех;\n",
    "* время с момента первого обращения в фитнес-центр (в месяцах) больше всех - 5.4 мес.\n",
    "\n",
    "**Кластер 4** \n",
    "* Отток - 26%;\n",
    "* 86% Живут или работают недалеко от фитнес-центра;\n",
    "* Нет мобильного номера;\n",
    "* 47% являются сотрудниками компании-партнёра клуба;\n",
    "* По промо-акции пришли 30%;\n",
    "* абонементы  на 3-6 месяца;\n",
    "* 42% посещают групповые занятия."
   ]
  },
  {
   "cell_type": "code",
   "execution_count": 38,
   "metadata": {
    "scrolled": true
   },
   "outputs": [
    {
     "data": {
      "image/png": "[encoded data removed]",
      "text/plain": [
       "<Figure size 1152x1440 with 6 Axes>"
      ]
     },
     "metadata": {
      "needs_background": "light"
     },
     "output_type": "display_data"
    }
   ],
   "source": [
    "# Пострим гистограммы по каждому класетеру для каждого из бинарных признаков:\n",
    "fig,ax = plt.subplots(nrows=3,ncols=2,figsize=(16,20))\n",
    "for idx, i in enumerate(bin_columns):\n",
    "    sns.countplot(x = i, hue='cluster_km', data=data, ax=ax[idx//2,idx%2])\n",
    "    ax[idx// 2,idx % 2].set_title('Рассматриваемый признак - {}'.format(i))\n",
    "    ax[idx// 2,idx % 2].set_xlabel(i)\n",
    "    fig.suptitle('Распределение бинарных признаков по каждому кластеру', y=1.05)\n",
    "    plt.tight_layout()"
   ]
  },
  {
   "cell_type": "code",
   "execution_count": 39,
   "metadata": {},
   "outputs": [],
   "source": [
    "# Обновим значение удалив мультиколлинеарные признаки:\n",
    "quant_columns = ['contract_period', 'age', 'avg_additional_charges_total',  'lifetime',  'avg_class_frequency_current_month']"
   ]
  },
  {
   "cell_type": "code",
   "execution_count": 40,
   "metadata": {
    "scrolled": true
   },
   "outputs": [
    {
     "data": {
      "image/png": "[encoded data removed]",
      "text/plain": [
       "<Figure size 1152x1440 with 6 Axes>"
      ]
     },
     "metadata": {
      "needs_background": "light"
     },
     "output_type": "display_data"
    }
   ],
   "source": [
    "# Пострим \"ящик с усами\" по каждому кластеру для каждого из количественных признаков:\n",
    "fig,ax = plt.subplots(nrows=3,ncols=2,figsize=(16,20))\n",
    "for idx, i in enumerate (quant_columns):\n",
    "    sns.boxplot(x = 'cluster_km', y = i, data = data, ax=ax[idx//2,idx%2])\n",
    "    ax[idx// 2,idx % 2].set_title('Рассматриваемый признак - {}'.format(i))\n",
    "    ax[idx// 2,idx % 2].set_xlabel(i)\n",
    "    fig.suptitle('Распределение количественных признаков по каждому кластеру', y=1.05)\n",
    "    plt.tight_layout()"
   ]
  },
  {
   "cell_type": "markdown",
   "metadata": {},
   "source": [
    "# Шаг 5. Сформулируем выводы и сделаем базовые рекомендации по работе с клиентами<a id=\"5\"></a>"
   ]
  },
  {
   "cell_type": "markdown",
   "metadata": {},
   "source": [
    "**1.** Цель проекта: проанализировать отток клиентов фитнес-центров «Культурист-датасаентист».\n",
    "\n",
    "\n",
    "**2.** Исходные данные: «Культурист-датасаентист» предоставил сведения в csv-файлах, которые содержат данные на месяц до оттока и факт оттока на определённый месяц. Набор данных включает следующие поля:\n",
    "   * **'Churn'** — факт оттока в текущем месяц\n",
    "   * **'gender'** — пол;\n",
    "   * **'Near_Location'** — проживание или работа в районе, где находится фитнес-центр;\n",
    "   * **'Partner'** — сотрудник компании-партнёра клуба (сотрудничество с компаниями, чьи сотрудники могут получать скидки на абонемент — в таком случае фитнес-центр хранит информацию о работодателе клиента);\n",
    "   * **'Promo_friends'** — факт первоначальной записи в рамках акции «приведи друга» (использовал промо-код от знакомого при оплате первого абонемента);\n",
    "   * **'Phone'** — наличие контактного телефона;\n",
    "   * **'Age'** — возраст;\n",
    "   * **'Lifetime'** — время с момента первого обращения в фитнес-центр (в месяцах);\n",
    "   * **'Contract_period'** — длительность текущего действующего абонемента (месяц, 3 месяца, 6 месяцев, год);\n",
    "   * **'Month_to_end_contract'** — срок до окончания текущего действующего абонемента (в месяцах);\n",
    "   * **'Group_visits'** — факт посещения групповых занятий;\n",
    "   * **'Avg_class_frequency_total'** — средняя частота посещений в неделю за все время с начала действия абонемента; \n",
    "   * **'Avg_class_frequency_current_month'** — средняя частота посещений в неделю за предыдущий месяц;\n",
    "   * **'Avg_additional_charges_total'** — суммарная выручка от других услуг фитнес-центра: кафе, спорт-товары, косметический и массажный салон.\n",
    "   \n",
    "   \n",
    "**3.** Исходные данные были достаточно чистыми, дополнительной обработки артефактов не понадобилось. Проверки проводились с целью выявить дубликаты и пропущенные значения. Привели только значения к нижнему регистру для  удобства дальнейшей обработки.\n",
    "\n",
    "\n",
    "**4.** Выводы по имеющимся данным:\n",
    "   * Почти поровну мужчин и женщин;\n",
    "   * 84% клиентов живут/работают рядом с фитнес-центром;\n",
    "   * 49% клиентов являются сотрудником компании-партнёра клуба;\n",
    "   * 31% клиентов были приведены по акции \"Приведи друга\";\n",
    "   * 90% клиентов указали телефон;\n",
    "   * Средняя длительность текущего абонемента 4,68 месяцев. Медианное значение - 1 месяц;\n",
    "   * 41% клиентов посещалм групповые занятия;\n",
    "   * Средний возраст - 29 лет;\n",
    "   * В среднем фитнес-центр зарабатывает 146.9 с клиента;\n",
    "   * Среднее время до конца абонемента 4,32 месяца. Медианное значение - 1 месяц;\n",
    "   * В среднем клиенты с нами около 4 месяцев, медианное значение - 3 месяца;\n",
    "   * Средняя частота посещений в неделю за все время почти такая же как и за прошлый месяц, 1.77.\n",
    "   * Средняя частота посещений в неделю за прошлый месяц составляет 1.88\n",
    "   * **Среднее значение оттока - 27%**\n",
    "   \n",
    "**5.**  Выводы на основе отличий признаков у клиентов, попавших в отток и оставшихся:\n",
    "   * Уходят поровну и мужчины и женщины;\n",
    "   * никак не влияет наличие телефона, указанный возраст;\n",
    "   * средняя частота посещений в неделю за предыдущий месяц для людей в оттоке в 2 раза меньше;\n",
    "   * чаще в отток кто, живет/работает дальше от фитнес-центра;\n",
    "   * чаще в отток кто, не является сотрудником компании-партнёра клуба;\n",
    "   * чаще в отток кто, имеет абонемент сроком 1-2 месяца;\n",
    "   * чаще в отток кто,не посещают груповые занятия;\n",
    "   * чаще в отток кто, пришли не по промо-акции.\n",
    "   \n",
    "**6.** Построили модели обучение с учителем (Логистическая регресия) и обучение без учителя (Случайный лес):\n",
    "* доля верно угаданных ответов из всех прогнозов (Accuracy) у модели логистическая регресия (0.92) оказалась **лучше** чем у случайного леса (0.91);\n",
    "* доля правильных ответов только среди целевого класса (precision) у модели логистическая регресия (0.85) оказалась одинаковым со случайным леса (0.85); \n",
    "* сколько реальных объектов смогли обнаружить с помощью модели (recall) у модели логистическая регресия (0.84) оказалась **лучше** чем у случайного леса (0.77);\n",
    "* Выбираем в итоге модель - Логистическая регрессия, т.к. большенство метрик оказались лучше.\n",
    "\n",
    "**7.** Разбили клиентов на 5 кластеров:\n",
    "\n",
    "\n",
    "**Кластер 0**\n",
    "* Отток - 11%;\n",
    "* Живут или работают недалеко от фитнес-центра;\n",
    "* 89% являются сотрудниками компании-партнёра клуба;\n",
    "* **По промо-акции пришли все 100%;**\n",
    "* Заключают договора на длительный срок - более 6 месяцев;\n",
    "* 52% посещают групповые занятия.\n",
    "\n",
    "**Кластер 1** \n",
    "* Отток - 40%;\n",
    "* живут или работают в другом районе;\n",
    "* 48% являются сотрудниками компании-партнёра клуба;\n",
    "* По промо-акции пришли лишь 7%;\n",
    "* 23% посещают групповые занятия.\n",
    "\n",
    "**Кластер 2**\n",
    "* **Отток - 56% - самый высокий;**\n",
    "* Все живут или работают недалеко от фитнес-центра;\n",
    "* В основном имеют короткие абонементы  на 1-2 месяца;\n",
    "* Наименьшее средняя частота посещений в неделю за предыдущий месяц;\n",
    "* Лишь 21% являются сотрудниками компании-партнёра клуба;\n",
    "* По промо-акции пришли лишь 7%;\n",
    "* 27% ходят на групповые занятия.\n",
    "\n",
    "**Кластер 3**\n",
    "* **Отток - 1% - самый низкий;**\n",
    "* Живут или работают недалеко от фитнес-центра;\n",
    "* 38% являются сотрудниками компании-партнёра клуба;\n",
    "* Заключают договора на длительный срок - более 6 месяцев;\n",
    "* 53% посещают групповые занятия;\n",
    "* Реже всех пришли по промо акции ;\n",
    "* в среднем потратили больше всех денежных средств 176;\n",
    "* **средняя частота посещений в неделю за предыдущий месяц выше всех;**\n",
    "* время с момента первого обращения в фитнес-центр (в месяцах) больше всех - 5.4 мес.\n",
    "\n",
    "**Кластер 4** \n",
    "* Отток - 26%;\n",
    "* 86% Живут или работают недалеко от фитнес-центра;\n",
    "* **Нет мобильного номера;**\n",
    "* 47% являются сотрудниками компании-партнёра клуба;\n",
    "* По промо-акции пришли 30%;\n",
    "* абонементы  на 3-6 месяца;\n",
    "* 42% посещают групповые занятия.\n",
    "\n",
    "**Рекомендации:**\n",
    "* Стимулировать на покупку более длительных абонементов и на активное участие в групповых занятиях;\n",
    "* Расширять сеть партнеров, для привлечения лояльных сотрудников партнеров;\n",
    "* Промо-акцию приведи друга считать успешной и далее продвигать активнее - люди любят ходить не в одиночку;\n",
    "* Не тратить рекламный бюджет для клиентов живущих или работающих в других районах."
   ]
  }
 ],
 "metadata": {
  "ExecuteTimeLog": [
   {
    "duration": 678,
    "start_time": "2021-06-14T10:19:14.997Z"
   },
   {
    "duration": 28,
    "start_time": "2021-06-14T10:19:24.537Z"
   },
   {
    "duration": 12,
    "start_time": "2021-06-14T10:19:40.952Z"
   },
   {
    "duration": 68,
    "start_time": "2021-06-14T10:19:53.421Z"
   },
   {
    "duration": 7,
    "start_time": "2021-06-14T10:22:35.839Z"
   },
   {
    "duration": 725,
    "start_time": "2021-06-14T11:19:06.495Z"
   },
   {
    "duration": 20,
    "start_time": "2021-06-14T11:20:27.050Z"
   },
   {
    "duration": 20,
    "start_time": "2021-06-14T11:20:42.195Z"
   },
   {
    "duration": 73,
    "start_time": "2021-06-14T11:22:17.854Z"
   },
   {
    "duration": 13,
    "start_time": "2021-06-14T11:26:14.828Z"
   },
   {
    "duration": 9,
    "start_time": "2021-06-14T11:26:30.208Z"
   },
   {
    "duration": 461,
    "start_time": "2021-06-14T11:28:24.587Z"
   },
   {
    "duration": 277,
    "start_time": "2021-06-14T11:28:42.962Z"
   },
   {
    "duration": 249,
    "start_time": "2021-06-14T11:29:03.252Z"
   },
   {
    "duration": 5,
    "start_time": "2021-06-14T11:30:54.166Z"
   },
   {
    "duration": 338,
    "start_time": "2021-06-14T11:32:16.242Z"
   },
   {
    "duration": 9,
    "start_time": "2021-06-14T11:32:27.725Z"
   },
   {
    "duration": 23,
    "start_time": "2021-06-14T11:34:09.883Z"
   },
   {
    "duration": 36922,
    "start_time": "2021-06-14T11:42:11.113Z"
   },
   {
    "duration": 274,
    "start_time": "2021-06-14T11:43:46.015Z"
   },
   {
    "duration": 19702,
    "start_time": "2021-06-14T11:44:07.154Z"
   },
   {
    "duration": 233,
    "start_time": "2021-06-14T11:47:14.826Z"
   },
   {
    "duration": 212,
    "start_time": "2021-06-14T11:47:28.331Z"
   },
   {
    "duration": 1749,
    "start_time": "2021-06-14T11:49:56.827Z"
   },
   {
    "duration": 1688,
    "start_time": "2021-06-14T11:50:17.657Z"
   },
   {
    "duration": 721,
    "start_time": "2021-06-14T11:53:17.549Z"
   },
   {
    "duration": 76,
    "start_time": "2021-06-14T11:54:45.450Z"
   },
   {
    "duration": 716632,
    "start_time": "2021-06-14T11:54:52.801Z"
   },
   {
    "duration": 4,
    "start_time": "2021-06-14T12:13:09.850Z"
   },
   {
    "duration": 3302,
    "start_time": "2021-06-14T12:13:22.235Z"
   },
   {
    "duration": 831,
    "start_time": "2021-06-14T12:14:56.209Z"
   },
   {
    "duration": 264,
    "start_time": "2021-06-14T12:17:43.702Z"
   },
   {
    "duration": 266,
    "start_time": "2021-06-14T12:18:13.589Z"
   },
   {
    "duration": 4577,
    "start_time": "2021-06-14T12:18:54.062Z"
   },
   {
    "duration": 4472,
    "start_time": "2021-06-14T12:19:48.900Z"
   },
   {
    "duration": 7004,
    "start_time": "2021-06-14T12:20:11.056Z"
   },
   {
    "duration": 3518,
    "start_time": "2021-06-14T12:20:29.378Z"
   },
   {
    "duration": 4696,
    "start_time": "2021-06-14T12:21:15.318Z"
   },
   {
    "duration": 3949,
    "start_time": "2021-06-14T12:21:36.295Z"
   },
   {
    "duration": 4274,
    "start_time": "2021-06-14T12:21:46.282Z"
   },
   {
    "duration": 9054,
    "start_time": "2021-06-14T12:21:57.128Z"
   },
   {
    "duration": 3345,
    "start_time": "2021-06-14T12:22:20.872Z"
   },
   {
    "duration": 4,
    "start_time": "2021-06-14T12:26:43.090Z"
   },
   {
    "duration": 4,
    "start_time": "2021-06-14T12:27:34.622Z"
   },
   {
    "duration": 3381,
    "start_time": "2021-06-14T12:27:46.217Z"
   },
   {
    "duration": 252,
    "start_time": "2021-06-14T12:29:36.949Z"
   },
   {
    "duration": 1505,
    "start_time": "2021-06-14T12:30:01.765Z"
   },
   {
    "duration": 1450,
    "start_time": "2021-06-14T12:32:34.964Z"
   },
   {
    "duration": 1529,
    "start_time": "2021-06-14T12:33:09.201Z"
   },
   {
    "duration": 2530,
    "start_time": "2021-06-14T12:34:11.185Z"
   },
   {
    "duration": 1759,
    "start_time": "2021-06-14T12:34:22.848Z"
   },
   {
    "duration": 1650,
    "start_time": "2021-06-14T12:34:31.461Z"
   },
   {
    "duration": 1853,
    "start_time": "2021-06-14T12:35:39.664Z"
   },
   {
    "duration": 69,
    "start_time": "2021-06-14T13:41:57.560Z"
   },
   {
    "duration": 15,
    "start_time": "2021-06-14T13:42:06.962Z"
   },
   {
    "duration": 32480,
    "start_time": "2021-06-14T13:55:13.312Z"
   },
   {
    "duration": 8586,
    "start_time": "2021-06-14T13:56:53.713Z"
   },
   {
    "duration": 3948,
    "start_time": "2021-06-14T13:58:39.920Z"
   },
   {
    "duration": 329,
    "start_time": "2021-06-14T14:06:52.227Z"
   },
   {
    "duration": 283,
    "start_time": "2021-06-14T14:07:50.854Z"
   },
   {
    "duration": 1954,
    "start_time": "2021-06-14T14:08:02.993Z"
   },
   {
    "duration": 289,
    "start_time": "2021-06-14T14:15:24.787Z"
   },
   {
    "duration": 5,
    "start_time": "2021-06-14T14:15:38.437Z"
   },
   {
    "duration": 251,
    "start_time": "2021-06-14T14:15:40.041Z"
   },
   {
    "duration": 55,
    "start_time": "2021-06-14T14:16:47.881Z"
   },
   {
    "duration": 5,
    "start_time": "2021-06-14T14:16:49.919Z"
   },
   {
    "duration": 7,
    "start_time": "2021-06-14T14:16:51.022Z"
   },
   {
    "duration": 4,
    "start_time": "2021-06-14T14:17:02.312Z"
   },
   {
    "duration": 4,
    "start_time": "2021-06-14T14:18:20.506Z"
   },
   {
    "duration": 54,
    "start_time": "2021-06-14T14:18:21.036Z"
   },
   {
    "duration": 8,
    "start_time": "2021-06-14T14:19:15.931Z"
   },
   {
    "duration": 4,
    "start_time": "2021-06-14T14:20:34.775Z"
   },
   {
    "duration": 10,
    "start_time": "2021-06-14T14:21:19.418Z"
   },
   {
    "duration": 31,
    "start_time": "2021-06-14T14:21:37.199Z"
   },
   {
    "duration": 24,
    "start_time": "2021-06-14T14:21:51.334Z"
   },
   {
    "duration": 9,
    "start_time": "2021-06-14T14:22:24.287Z"
   },
   {
    "duration": 8,
    "start_time": "2021-06-14T14:22:25.377Z"
   },
   {
    "duration": 306,
    "start_time": "2021-06-14T14:24:16.998Z"
   },
   {
    "duration": 4,
    "start_time": "2021-06-14T14:25:01.766Z"
   },
   {
    "duration": 5,
    "start_time": "2021-06-14T14:25:04.269Z"
   },
   {
    "duration": 7,
    "start_time": "2021-06-14T14:25:04.777Z"
   },
   {
    "duration": 10,
    "start_time": "2021-06-14T14:25:05.316Z"
   },
   {
    "duration": 4,
    "start_time": "2021-06-14T14:25:05.819Z"
   },
   {
    "duration": 25,
    "start_time": "2021-06-14T14:25:06.650Z"
   },
   {
    "duration": 5,
    "start_time": "2021-06-14T14:25:07.676Z"
   },
   {
    "duration": 14,
    "start_time": "2021-06-14T14:25:08.828Z"
   },
   {
    "duration": 8,
    "start_time": "2021-06-14T14:28:27.431Z"
   },
   {
    "duration": 8,
    "start_time": "2021-06-14T14:29:27.809Z"
   },
   {
    "duration": 44,
    "start_time": "2021-06-14T14:30:52.332Z"
   },
   {
    "duration": 14,
    "start_time": "2021-06-14T14:31:00.001Z"
   },
   {
    "duration": 12,
    "start_time": "2021-06-14T14:31:01.080Z"
   },
   {
    "duration": 7,
    "start_time": "2021-06-14T14:35:48.875Z"
   },
   {
    "duration": 4,
    "start_time": "2021-06-14T14:36:20.803Z"
   },
   {
    "duration": 26,
    "start_time": "2021-06-14T14:36:21.434Z"
   },
   {
    "duration": 67,
    "start_time": "2021-06-14T14:36:35.291Z"
   },
   {
    "duration": 4,
    "start_time": "2021-06-14T14:37:04.363Z"
   },
   {
    "duration": 513,
    "start_time": "2021-06-14T14:37:27.455Z"
   },
   {
    "duration": 4,
    "start_time": "2021-06-14T14:38:11.926Z"
   },
   {
    "duration": 6,
    "start_time": "2021-06-14T14:38:17.982Z"
   },
   {
    "duration": 15,
    "start_time": "2021-06-14T14:38:19.014Z"
   },
   {
    "duration": 304,
    "start_time": "2021-06-14T14:39:30.010Z"
   },
   {
    "duration": 30,
    "start_time": "2021-06-14T14:39:49.863Z"
   },
   {
    "duration": 3,
    "start_time": "2021-06-14T14:39:57.918Z"
   },
   {
    "duration": 452,
    "start_time": "2021-06-14T14:40:15.006Z"
   },
   {
    "duration": 53,
    "start_time": "2021-06-14T14:40:32.831Z"
   },
   {
    "duration": 15,
    "start_time": "2021-06-14T14:40:46.153Z"
   },
   {
    "duration": 3,
    "start_time": "2021-06-14T14:41:20.847Z"
   },
   {
    "duration": 3239,
    "start_time": "2021-06-14T14:41:21.846Z"
   },
   {
    "duration": 285,
    "start_time": "2021-06-14T14:41:25.088Z"
   },
   {
    "duration": 16,
    "start_time": "2021-06-14T14:41:26.772Z"
   },
   {
    "duration": 1399,
    "start_time": "2021-06-14T14:41:47.262Z"
   },
   {
    "duration": 26,
    "start_time": "2021-06-14T14:41:48.664Z"
   },
   {
    "duration": 89,
    "start_time": "2021-06-14T14:41:48.694Z"
   },
   {
    "duration": 13,
    "start_time": "2021-06-14T14:41:48.786Z"
   },
   {
    "duration": 9,
    "start_time": "2021-06-14T14:41:48.802Z"
   },
   {
    "duration": 45,
    "start_time": "2021-06-14T14:41:48.813Z"
   },
   {
    "duration": 16,
    "start_time": "2021-06-14T14:41:48.860Z"
   },
   {
    "duration": 4,
    "start_time": "2021-06-14T14:41:48.879Z"
   },
   {
    "duration": 2455,
    "start_time": "2021-06-14T14:41:48.887Z"
   },
   {
    "duration": 2979,
    "start_time": "2021-06-14T14:41:51.346Z"
   },
   {
    "duration": 2564,
    "start_time": "2021-06-14T14:41:54.328Z"
   },
   {
    "duration": 165,
    "start_time": "2021-06-14T14:41:56.895Z"
   },
   {
    "duration": 7,
    "start_time": "2021-06-14T14:41:57.062Z"
   },
   {
    "duration": 10,
    "start_time": "2021-06-14T14:41:57.072Z"
   },
   {
    "duration": 10,
    "start_time": "2021-06-14T14:41:57.085Z"
   },
   {
    "duration": 11,
    "start_time": "2021-06-14T14:41:57.098Z"
   },
   {
    "duration": 45,
    "start_time": "2021-06-14T14:41:57.112Z"
   },
   {
    "duration": 4,
    "start_time": "2021-06-14T14:41:57.160Z"
   },
   {
    "duration": 43,
    "start_time": "2021-06-14T14:41:57.167Z"
   },
   {
    "duration": 54,
    "start_time": "2021-06-14T14:41:57.213Z"
   },
   {
    "duration": 97,
    "start_time": "2021-06-14T14:41:57.361Z"
   },
   {
    "duration": 22,
    "start_time": "2021-06-14T14:41:57.461Z"
   },
   {
    "duration": 4,
    "start_time": "2021-06-14T14:41:57.489Z"
   },
   {
    "duration": 2154,
    "start_time": "2021-06-14T14:41:57.496Z"
   },
   {
    "duration": 260,
    "start_time": "2021-06-14T14:41:59.655Z"
   },
   {
    "duration": 15,
    "start_time": "2021-06-14T14:41:59.917Z"
   },
   {
    "duration": 5,
    "start_time": "2021-06-14T14:43:35.250Z"
   },
   {
    "duration": 17,
    "start_time": "2021-06-14T14:43:37.156Z"
   },
   {
    "duration": 16,
    "start_time": "2021-06-14T14:43:37.643Z"
   },
   {
    "duration": 16,
    "start_time": "2021-06-14T14:44:13.407Z"
   },
   {
    "duration": 15,
    "start_time": "2021-06-14T14:44:14.695Z"
   },
   {
    "duration": 1395,
    "start_time": "2021-06-14T14:44:33.892Z"
   },
   {
    "duration": 24,
    "start_time": "2021-06-14T14:44:35.290Z"
   },
   {
    "duration": 75,
    "start_time": "2021-06-14T14:44:35.317Z"
   },
   {
    "duration": 11,
    "start_time": "2021-06-14T14:44:35.395Z"
   },
   {
    "duration": 7,
    "start_time": "2021-06-14T14:44:35.409Z"
   },
   {
    "duration": 7,
    "start_time": "2021-06-14T14:44:35.419Z"
   },
   {
    "duration": 16,
    "start_time": "2021-06-14T14:44:35.456Z"
   },
   {
    "duration": 4,
    "start_time": "2021-06-14T14:44:35.476Z"
   },
   {
    "duration": 1618,
    "start_time": "2021-06-14T14:44:35.483Z"
   },
   {
    "duration": 2829,
    "start_time": "2021-06-14T14:44:37.104Z"
   },
   {
    "duration": 2405,
    "start_time": "2021-06-14T14:44:39.936Z"
   },
   {
    "duration": 219,
    "start_time": "2021-06-14T14:44:42.344Z"
   },
   {
    "duration": 9,
    "start_time": "2021-06-14T14:44:42.566Z"
   },
   {
    "duration": 6,
    "start_time": "2021-06-14T14:44:42.578Z"
   },
   {
    "duration": 10,
    "start_time": "2021-06-14T14:44:42.587Z"
   },
   {
    "duration": 11,
    "start_time": "2021-06-14T14:44:42.599Z"
   },
   {
    "duration": 6,
    "start_time": "2021-06-14T14:44:42.613Z"
   },
   {
    "duration": 4,
    "start_time": "2021-06-14T14:44:42.656Z"
   },
   {
    "duration": 32,
    "start_time": "2021-06-14T14:44:42.662Z"
   },
   {
    "duration": 71,
    "start_time": "2021-06-14T14:44:42.696Z"
   },
   {
    "duration": 94,
    "start_time": "2021-06-14T14:44:42.770Z"
   },
   {
    "duration": 2212,
    "start_time": "2021-06-14T14:44:42.868Z"
   },
   {
    "duration": 262,
    "start_time": "2021-06-14T14:44:45.084Z"
   },
   {
    "duration": 5,
    "start_time": "2021-06-14T14:44:45.349Z"
   },
   {
    "duration": 18,
    "start_time": "2021-06-14T14:44:45.356Z"
   },
   {
    "duration": 13,
    "start_time": "2021-06-14T14:44:45.376Z"
   },
   {
    "duration": 3,
    "start_time": "2021-06-14T14:45:56.837Z"
   },
   {
    "duration": 21312,
    "start_time": "2021-06-14T14:45:58.115Z"
   },
   {
    "duration": 2557,
    "start_time": "2021-06-14T14:46:30.729Z"
   },
   {
    "duration": 5,
    "start_time": "2021-06-14T14:46:34.120Z"
   },
   {
    "duration": 15,
    "start_time": "2021-06-14T14:46:37.031Z"
   },
   {
    "duration": 15,
    "start_time": "2021-06-14T14:46:38.616Z"
   },
   {
    "duration": 3,
    "start_time": "2021-06-14T14:46:56.914Z"
   },
   {
    "duration": 453,
    "start_time": "2021-06-14T14:46:58.115Z"
   },
   {
    "duration": 58,
    "start_time": "2021-06-14T14:46:59.173Z"
   },
   {
    "duration": 6,
    "start_time": "2021-06-14T14:46:59.643Z"
   },
   {
    "duration": 52,
    "start_time": "2021-06-14T14:47:00.248Z"
   },
   {
    "duration": 16,
    "start_time": "2021-06-14T14:47:00.841Z"
   },
   {
    "duration": 4,
    "start_time": "2021-06-14T14:52:10.883Z"
   },
   {
    "duration": 747,
    "start_time": "2021-06-14T14:52:46.247Z"
   },
   {
    "duration": 134800,
    "start_time": "2021-06-14T14:52:58.325Z"
   },
   {
    "duration": 21,
    "start_time": "2021-06-14T14:58:31.087Z"
   },
   {
    "duration": 4,
    "start_time": "2021-06-14T14:58:35.705Z"
   },
   {
    "duration": 443,
    "start_time": "2021-06-14T14:59:30.224Z"
   },
   {
    "duration": 1895,
    "start_time": "2021-06-14T14:59:52.969Z"
   },
   {
    "duration": 5,
    "start_time": "2021-06-14T15:00:27.518Z"
   },
   {
    "duration": 9,
    "start_time": "2021-06-14T15:02:34.132Z"
   },
   {
    "duration": 1434,
    "start_time": "2021-06-14T15:07:30.808Z"
   },
   {
    "duration": 23,
    "start_time": "2021-06-14T15:07:32.244Z"
   },
   {
    "duration": 88,
    "start_time": "2021-06-14T15:07:32.270Z"
   },
   {
    "duration": 14,
    "start_time": "2021-06-14T15:07:32.362Z"
   },
   {
    "duration": 7,
    "start_time": "2021-06-14T15:07:32.379Z"
   },
   {
    "duration": 8,
    "start_time": "2021-06-14T15:07:32.389Z"
   },
   {
    "duration": 59,
    "start_time": "2021-06-14T15:07:32.400Z"
   },
   {
    "duration": 5,
    "start_time": "2021-06-14T15:07:32.462Z"
   },
   {
    "duration": 1620,
    "start_time": "2021-06-14T15:07:32.470Z"
   },
   {
    "duration": 2451,
    "start_time": "2021-06-14T15:07:34.093Z"
   },
   {
    "duration": 1791,
    "start_time": "2021-06-14T15:07:36.548Z"
   },
   {
    "duration": 176,
    "start_time": "2021-06-14T15:07:38.342Z"
   },
   {
    "duration": 6,
    "start_time": "2021-06-14T15:07:38.521Z"
   },
   {
    "duration": 28,
    "start_time": "2021-06-14T15:07:38.530Z"
   },
   {
    "duration": 10,
    "start_time": "2021-06-14T15:07:38.560Z"
   },
   {
    "duration": 10,
    "start_time": "2021-06-14T15:07:38.572Z"
   },
   {
    "duration": 9,
    "start_time": "2021-06-14T15:07:38.585Z"
   },
   {
    "duration": 4,
    "start_time": "2021-06-14T15:07:38.597Z"
   },
   {
    "duration": 68,
    "start_time": "2021-06-14T15:07:38.603Z"
   },
   {
    "duration": 84,
    "start_time": "2021-06-14T15:07:38.673Z"
   },
   {
    "duration": 6,
    "start_time": "2021-06-14T15:07:38.761Z"
   },
   {
    "duration": 460,
    "start_time": "2021-06-14T15:07:38.857Z"
   },
   {
    "duration": 66,
    "start_time": "2021-06-14T15:07:39.321Z"
   },
   {
    "duration": 5,
    "start_time": "2021-06-14T15:07:39.390Z"
   },
   {
    "duration": 19,
    "start_time": "2021-06-14T15:07:39.397Z"
   },
   {
    "duration": 44,
    "start_time": "2021-06-14T15:07:39.418Z"
   },
   {
    "duration": 21,
    "start_time": "2021-06-14T15:07:39.464Z"
   },
   {
    "duration": 790,
    "start_time": "2021-06-14T15:07:39.487Z"
   },
   {
    "duration": 3,
    "start_time": "2021-06-14T15:07:40.279Z"
   },
   {
    "duration": 9,
    "start_time": "2021-06-14T15:07:40.284Z"
   },
   {
    "duration": 1971,
    "start_time": "2021-06-14T15:07:40.294Z"
   },
   {
    "duration": 4,
    "start_time": "2021-06-14T15:07:42.267Z"
   },
   {
    "duration": 13,
    "start_time": "2021-06-14T15:07:42.274Z"
   },
   {
    "duration": 21,
    "start_time": "2021-06-14T15:07:42.289Z"
   },
   {
    "duration": 130171,
    "start_time": "2021-06-14T15:08:29.255Z"
   },
   {
    "duration": 1742,
    "start_time": "2021-06-14T15:14:37.699Z"
   },
   {
    "duration": 2656,
    "start_time": "2021-06-14T15:16:04.330Z"
   },
   {
    "duration": 6,
    "start_time": "2021-06-14T15:17:18.398Z"
   },
   {
    "duration": 412,
    "start_time": "2021-06-14T15:19:52.247Z"
   },
   {
    "duration": 449,
    "start_time": "2021-06-14T15:20:13.480Z"
   },
   {
    "duration": 277,
    "start_time": "2021-06-14T15:21:22.067Z"
   },
   {
    "duration": 566,
    "start_time": "2021-06-14T15:21:37.735Z"
   },
   {
    "duration": 534,
    "start_time": "2021-06-14T15:22:32.088Z"
   },
   {
    "duration": 630,
    "start_time": "2021-06-14T15:22:47.957Z"
   },
   {
    "duration": 5865,
    "start_time": "2021-06-14T15:23:35.035Z"
   },
   {
    "duration": 251,
    "start_time": "2021-06-14T15:33:40.464Z"
   },
   {
    "duration": 4,
    "start_time": "2021-06-14T15:34:10.484Z"
   },
   {
    "duration": 633,
    "start_time": "2021-06-14T15:34:47.946Z"
   },
   {
    "duration": 6853,
    "start_time": "2021-06-14T15:38:41.866Z"
   },
   {
    "duration": 247,
    "start_time": "2021-06-14T15:40:50.092Z"
   },
   {
    "duration": 7,
    "start_time": "2021-06-14T15:41:56.416Z"
   },
   {
    "duration": 30,
    "start_time": "2021-06-14T15:42:06.813Z"
   },
   {
    "duration": 35,
    "start_time": "2021-06-14T15:42:51.782Z"
   },
   {
    "duration": 7,
    "start_time": "2021-06-14T15:49:37.803Z"
   },
   {
    "duration": 2019,
    "start_time": "2021-06-14T15:49:45.541Z"
   },
   {
    "duration": 36,
    "start_time": "2021-06-14T15:49:47.564Z"
   },
   {
    "duration": 130,
    "start_time": "2021-06-14T15:49:47.609Z"
   },
   {
    "duration": 24,
    "start_time": "2021-06-14T15:49:47.743Z"
   },
   {
    "duration": 10,
    "start_time": "2021-06-14T15:49:47.770Z"
   },
   {
    "duration": 11,
    "start_time": "2021-06-14T15:49:47.783Z"
   },
   {
    "duration": 57,
    "start_time": "2021-06-14T15:49:47.799Z"
   },
   {
    "duration": 4,
    "start_time": "2021-06-14T15:49:47.860Z"
   },
   {
    "duration": 1715,
    "start_time": "2021-06-14T15:49:47.866Z"
   },
   {
    "duration": 1923,
    "start_time": "2021-06-14T15:49:49.584Z"
   },
   {
    "duration": 27,
    "start_time": "2021-06-14T15:49:51.509Z"
   },
   {
    "duration": 1689,
    "start_time": "2021-06-14T15:49:51.556Z"
   },
   {
    "duration": 8,
    "start_time": "2021-06-14T15:49:53.255Z"
   },
   {
    "duration": 172,
    "start_time": "2021-06-14T15:49:53.265Z"
   },
   {
    "duration": 6,
    "start_time": "2021-06-14T15:49:53.440Z"
   },
   {
    "duration": 5,
    "start_time": "2021-06-14T15:49:53.455Z"
   },
   {
    "duration": 10,
    "start_time": "2021-06-14T15:49:53.462Z"
   },
   {
    "duration": 8,
    "start_time": "2021-06-14T15:49:53.475Z"
   },
   {
    "duration": 6,
    "start_time": "2021-06-14T15:49:53.486Z"
   },
   {
    "duration": 13,
    "start_time": "2021-06-14T15:49:53.495Z"
   },
   {
    "duration": 57,
    "start_time": "2021-06-14T15:49:53.511Z"
   },
   {
    "duration": 5,
    "start_time": "2021-06-14T15:49:53.573Z"
   },
   {
    "duration": 10,
    "start_time": "2021-06-14T15:49:53.581Z"
   },
   {
    "duration": 441,
    "start_time": "2021-06-14T15:49:53.593Z"
   },
   {
    "duration": 64,
    "start_time": "2021-06-14T15:49:54.036Z"
   },
   {
    "duration": 6,
    "start_time": "2021-06-14T15:49:54.102Z"
   },
   {
    "duration": 18,
    "start_time": "2021-06-14T15:49:54.110Z"
   },
   {
    "duration": 33,
    "start_time": "2021-06-14T15:49:54.130Z"
   },
   {
    "duration": 17,
    "start_time": "2021-06-14T15:49:54.165Z"
   },
   {
    "duration": 784,
    "start_time": "2021-06-14T15:49:54.185Z"
   },
   {
    "duration": 135487,
    "start_time": "2021-06-14T15:49:54.971Z"
   },
   {
    "duration": 3,
    "start_time": "2021-06-14T15:52:10.460Z"
   },
   {
    "duration": 1895,
    "start_time": "2021-06-14T15:52:10.465Z"
   },
   {
    "duration": 670,
    "start_time": "2021-06-14T15:52:12.362Z"
   },
   {
    "duration": 4,
    "start_time": "2021-06-14T15:52:13.034Z"
   },
   {
    "duration": 22,
    "start_time": "2021-06-14T15:52:13.041Z"
   },
   {
    "duration": 20,
    "start_time": "2021-06-14T15:52:13.066Z"
   },
   {
    "duration": 2210,
    "start_time": "2021-06-14T15:52:13.089Z"
   },
   {
    "duration": 1577,
    "start_time": "2021-06-14T15:52:15.301Z"
   },
   {
    "duration": -1206,
    "start_time": "2021-06-14T15:52:18.086Z"
   },
   {
    "duration": 5,
    "start_time": "2021-06-14T15:53:01.102Z"
   },
   {
    "duration": 279,
    "start_time": "2021-06-14T15:54:24.201Z"
   },
   {
    "duration": 6,
    "start_time": "2021-06-14T15:54:31.403Z"
   },
   {
    "duration": 4,
    "start_time": "2021-06-14T15:56:51.688Z"
   },
   {
    "duration": 26,
    "start_time": "2021-06-14T15:56:52.993Z"
   },
   {
    "duration": 6,
    "start_time": "2021-06-14T15:56:57.215Z"
   },
   {
    "duration": 6,
    "start_time": "2021-06-14T15:56:58.256Z"
   },
   {
    "duration": 1278,
    "start_time": "2021-06-14T16:04:23.291Z"
   },
   {
    "duration": 3749,
    "start_time": "2021-06-14T16:04:44.631Z"
   },
   {
    "duration": 110021,
    "start_time": "2021-06-14T16:07:51.081Z"
   },
   {
    "duration": 283,
    "start_time": "2021-06-14T16:11:22.061Z"
   },
   {
    "duration": 272,
    "start_time": "2021-06-14T16:12:22.643Z"
   },
   {
    "duration": 263,
    "start_time": "2021-06-14T16:12:29.595Z"
   },
   {
    "duration": 6,
    "start_time": "2021-06-14T16:12:51.007Z"
   },
   {
    "duration": 240,
    "start_time": "2021-06-14T16:15:09.808Z"
   },
   {
    "duration": 6,
    "start_time": "2021-06-14T16:16:38.861Z"
   },
   {
    "duration": 8137,
    "start_time": "2021-06-14T16:17:12.413Z"
   },
   {
    "duration": 5,
    "start_time": "2021-06-14T16:53:29.463Z"
   },
   {
    "duration": 238,
    "start_time": "2021-06-14T16:54:21.330Z"
   },
   {
    "duration": 1927,
    "start_time": "2021-06-14T16:55:23.439Z"
   },
   {
    "duration": 12558,
    "start_time": "2021-06-14T19:03:44.792Z"
   },
   {
    "duration": 2980,
    "start_time": "2021-06-14T19:04:14.549Z"
   },
   {
    "duration": 6642,
    "start_time": "2021-06-14T19:04:25.805Z"
   },
   {
    "duration": 10185,
    "start_time": "2021-06-14T19:05:08.676Z"
   },
   {
    "duration": 2425,
    "start_time": "2021-06-14T19:05:26.880Z"
   },
   {
    "duration": 7886,
    "start_time": "2021-06-14T19:07:13.790Z"
   },
   {
    "duration": 8223,
    "start_time": "2021-06-14T19:09:09.973Z"
   },
   {
    "duration": 8163,
    "start_time": "2021-06-14T19:11:41.539Z"
   },
   {
    "duration": 1426,
    "start_time": "2021-06-14T19:12:45.994Z"
   },
   {
    "duration": 221,
    "start_time": "2021-06-15T16:24:09.424Z"
   },
   {
    "duration": 1103,
    "start_time": "2021-06-15T16:24:20.627Z"
   },
   {
    "duration": 16,
    "start_time": "2021-06-15T16:24:21.732Z"
   },
   {
    "duration": 52,
    "start_time": "2021-06-15T16:24:21.750Z"
   },
   {
    "duration": 8,
    "start_time": "2021-06-15T16:24:21.804Z"
   },
   {
    "duration": 5,
    "start_time": "2021-06-15T16:24:21.814Z"
   },
   {
    "duration": 7,
    "start_time": "2021-06-15T16:24:21.821Z"
   },
   {
    "duration": 12,
    "start_time": "2021-06-15T16:24:21.830Z"
   },
   {
    "duration": 3,
    "start_time": "2021-06-15T16:24:21.844Z"
   },
   {
    "duration": 1220,
    "start_time": "2021-06-15T16:24:21.849Z"
   },
   {
    "duration": 1378,
    "start_time": "2021-06-15T16:24:23.071Z"
   },
   {
    "duration": 19,
    "start_time": "2021-06-15T16:24:24.450Z"
   },
   {
    "duration": 1283,
    "start_time": "2021-06-15T16:24:24.471Z"
   },
   {
    "duration": 5,
    "start_time": "2021-06-15T16:24:25.756Z"
   },
   {
    "duration": 150,
    "start_time": "2021-06-15T16:24:25.762Z"
   },
   {
    "duration": 5,
    "start_time": "2021-06-15T16:24:25.914Z"
   },
   {
    "duration": 15,
    "start_time": "2021-06-15T16:24:25.921Z"
   },
   {
    "duration": 21,
    "start_time": "2021-06-15T16:24:25.938Z"
   },
   {
    "duration": 11,
    "start_time": "2021-06-15T16:24:25.961Z"
   },
   {
    "duration": 27,
    "start_time": "2021-06-15T16:24:25.974Z"
   },
   {
    "duration": 24,
    "start_time": "2021-06-15T16:24:26.003Z"
   },
   {
    "duration": 27,
    "start_time": "2021-06-15T16:24:26.028Z"
   },
   {
    "duration": 11,
    "start_time": "2021-06-15T16:24:26.057Z"
   },
   {
    "duration": 14,
    "start_time": "2021-06-15T16:24:26.071Z"
   },
   {
    "duration": 14,
    "start_time": "2021-06-15T16:24:26.087Z"
   },
   {
    "duration": 319,
    "start_time": "2021-06-15T16:24:26.103Z"
   },
   {
    "duration": 39,
    "start_time": "2021-06-15T16:24:26.424Z"
   },
   {
    "duration": 4,
    "start_time": "2021-06-15T16:24:26.465Z"
   },
   {
    "duration": 25,
    "start_time": "2021-06-15T16:24:26.471Z"
   },
   {
    "duration": 10,
    "start_time": "2021-06-15T16:24:26.498Z"
   },
   {
    "duration": 15,
    "start_time": "2021-06-15T16:24:26.510Z"
   },
   {
    "duration": 573,
    "start_time": "2021-06-15T16:24:26.526Z"
   },
   {
    "duration": 90545,
    "start_time": "2021-06-15T16:24:27.101Z"
   },
   {
    "duration": 3,
    "start_time": "2021-06-15T16:25:57.648Z"
   },
   {
    "duration": 1040,
    "start_time": "2021-06-15T16:25:57.653Z"
   },
   {
    "duration": 526,
    "start_time": "2021-06-15T16:25:58.695Z"
   },
   {
    "duration": 3,
    "start_time": "2021-06-15T16:25:59.223Z"
   },
   {
    "duration": 8,
    "start_time": "2021-06-15T16:25:59.227Z"
   },
   {
    "duration": 18,
    "start_time": "2021-06-15T16:25:59.237Z"
   },
   {
    "duration": 1242,
    "start_time": "2021-06-15T16:25:59.257Z"
   },
   {
    "duration": 3,
    "start_time": "2021-06-15T16:26:00.500Z"
   },
   {
    "duration": 1433,
    "start_time": "2021-06-15T16:26:00.504Z"
   },
   {
    "duration": 889,
    "start_time": "2021-06-15T16:27:12.456Z"
   },
   {
    "duration": 1120,
    "start_time": "2021-06-15T16:27:32.845Z"
   },
   {
    "duration": 1072,
    "start_time": "2021-06-15T17:48:55.384Z"
   },
   {
    "duration": 17,
    "start_time": "2021-06-15T17:48:56.458Z"
   },
   {
    "duration": 48,
    "start_time": "2021-06-15T17:48:56.478Z"
   },
   {
    "duration": 7,
    "start_time": "2021-06-15T17:48:56.528Z"
   },
   {
    "duration": 4,
    "start_time": "2021-06-15T17:48:56.537Z"
   },
   {
    "duration": 5,
    "start_time": "2021-06-15T17:48:56.543Z"
   },
   {
    "duration": 38,
    "start_time": "2021-06-15T17:48:56.549Z"
   },
   {
    "duration": 9,
    "start_time": "2021-06-15T17:48:56.589Z"
   },
   {
    "duration": 1081,
    "start_time": "2021-06-15T17:48:56.600Z"
   },
   {
    "duration": 1288,
    "start_time": "2021-06-15T17:48:57.683Z"
   },
   {
    "duration": 29,
    "start_time": "2021-06-15T17:48:58.973Z"
   },
   {
    "duration": 1200,
    "start_time": "2021-06-15T17:48:59.004Z"
   },
   {
    "duration": 5,
    "start_time": "2021-06-15T17:49:00.206Z"
   },
   {
    "duration": 150,
    "start_time": "2021-06-15T17:49:00.212Z"
   },
   {
    "duration": 5,
    "start_time": "2021-06-15T17:49:00.364Z"
   },
   {
    "duration": 16,
    "start_time": "2021-06-15T17:49:00.371Z"
   },
   {
    "duration": 13,
    "start_time": "2021-06-15T17:49:00.389Z"
   },
   {
    "duration": 26,
    "start_time": "2021-06-15T17:49:00.404Z"
   },
   {
    "duration": 13,
    "start_time": "2021-06-15T17:49:00.432Z"
   },
   {
    "duration": 11,
    "start_time": "2021-06-15T17:49:00.446Z"
   },
   {
    "duration": 22,
    "start_time": "2021-06-15T17:49:00.459Z"
   },
   {
    "duration": 6,
    "start_time": "2021-06-15T17:49:00.482Z"
   },
   {
    "duration": 12,
    "start_time": "2021-06-15T17:49:00.493Z"
   },
   {
    "duration": 27,
    "start_time": "2021-06-15T17:49:00.507Z"
   },
   {
    "duration": 337,
    "start_time": "2021-06-15T17:49:00.536Z"
   },
   {
    "duration": 43,
    "start_time": "2021-06-15T17:49:00.874Z"
   },
   {
    "duration": 3,
    "start_time": "2021-06-15T17:49:00.919Z"
   },
   {
    "duration": 33,
    "start_time": "2021-06-15T17:49:00.924Z"
   },
   {
    "duration": 22,
    "start_time": "2021-06-15T17:49:00.959Z"
   },
   {
    "duration": 31,
    "start_time": "2021-06-15T17:49:00.983Z"
   },
   {
    "duration": 540,
    "start_time": "2021-06-15T17:49:01.015Z"
   },
   {
    "duration": 1122,
    "start_time": "2021-06-15T17:50:06.956Z"
   },
   {
    "duration": 20,
    "start_time": "2021-06-15T17:50:08.080Z"
   },
   {
    "duration": 45,
    "start_time": "2021-06-15T17:50:08.102Z"
   },
   {
    "duration": 7,
    "start_time": "2021-06-15T17:50:08.149Z"
   },
   {
    "duration": 30,
    "start_time": "2021-06-15T17:50:08.158Z"
   },
   {
    "duration": 8,
    "start_time": "2021-06-15T17:50:08.190Z"
   },
   {
    "duration": 10,
    "start_time": "2021-06-15T17:50:08.200Z"
   },
   {
    "duration": 3,
    "start_time": "2021-06-15T17:50:08.212Z"
   },
   {
    "duration": 1142,
    "start_time": "2021-06-15T17:50:08.217Z"
   },
   {
    "duration": 1367,
    "start_time": "2021-06-15T17:50:09.361Z"
   },
   {
    "duration": 20,
    "start_time": "2021-06-15T17:50:10.730Z"
   },
   {
    "duration": 1250,
    "start_time": "2021-06-15T17:50:10.752Z"
   },
   {
    "duration": 6,
    "start_time": "2021-06-15T17:50:12.003Z"
   },
   {
    "duration": 158,
    "start_time": "2021-06-15T17:50:12.010Z"
   },
   {
    "duration": 5,
    "start_time": "2021-06-15T17:50:12.169Z"
   },
   {
    "duration": 8,
    "start_time": "2021-06-15T17:50:12.176Z"
   },
   {
    "duration": 6,
    "start_time": "2021-06-15T17:50:12.194Z"
   },
   {
    "duration": 7,
    "start_time": "2021-06-15T17:50:12.202Z"
   },
   {
    "duration": 6,
    "start_time": "2021-06-15T17:50:12.210Z"
   },
   {
    "duration": 4,
    "start_time": "2021-06-15T17:50:12.218Z"
   },
   {
    "duration": 15,
    "start_time": "2021-06-15T17:50:12.223Z"
   },
   {
    "duration": 4,
    "start_time": "2021-06-15T17:50:12.239Z"
   },
   {
    "duration": 4,
    "start_time": "2021-06-15T17:50:12.246Z"
   },
   {
    "duration": 4,
    "start_time": "2021-06-15T17:50:12.252Z"
   },
   {
    "duration": 335,
    "start_time": "2021-06-15T17:50:12.258Z"
   },
   {
    "duration": 38,
    "start_time": "2021-06-15T17:50:12.595Z"
   },
   {
    "duration": 4,
    "start_time": "2021-06-15T17:50:12.634Z"
   },
   {
    "duration": 13,
    "start_time": "2021-06-15T17:50:12.639Z"
   },
   {
    "duration": 11,
    "start_time": "2021-06-15T17:50:12.653Z"
   },
   {
    "duration": 40,
    "start_time": "2021-06-15T17:50:12.665Z"
   },
   {
    "duration": 540,
    "start_time": "2021-06-15T17:50:12.706Z"
   },
   {
    "duration": 87881,
    "start_time": "2021-06-15T17:50:13.247Z"
   },
   {
    "duration": 2,
    "start_time": "2021-06-15T17:51:41.130Z"
   },
   {
    "duration": 1152,
    "start_time": "2021-06-15T17:51:41.133Z"
   },
   {
    "duration": 462,
    "start_time": "2021-06-15T17:51:42.287Z"
   },
   {
    "duration": 3,
    "start_time": "2021-06-15T17:51:42.751Z"
   },
   {
    "duration": 9,
    "start_time": "2021-06-15T17:51:42.755Z"
   },
   {
    "duration": 30,
    "start_time": "2021-06-15T17:51:42.765Z"
   },
   {
    "duration": 1219,
    "start_time": "2021-06-15T17:51:42.801Z"
   },
   {
    "duration": 2,
    "start_time": "2021-06-15T17:51:44.022Z"
   },
   {
    "duration": 1433,
    "start_time": "2021-06-15T17:51:44.026Z"
   },
   {
    "duration": 1469,
    "start_time": "2021-06-18T16:17:16.598Z"
   },
   {
    "duration": 28,
    "start_time": "2021-06-18T16:17:18.070Z"
   },
   {
    "duration": 96,
    "start_time": "2021-06-18T16:17:18.102Z"
   },
   {
    "duration": 10,
    "start_time": "2021-06-18T16:17:18.201Z"
   },
   {
    "duration": 7,
    "start_time": "2021-06-18T16:17:18.213Z"
   },
   {
    "duration": 35,
    "start_time": "2021-06-18T16:17:18.222Z"
   },
   {
    "duration": 22,
    "start_time": "2021-06-18T16:17:18.260Z"
   },
   {
    "duration": 5,
    "start_time": "2021-06-18T16:17:18.285Z"
   },
   {
    "duration": 1800,
    "start_time": "2021-06-18T16:17:18.294Z"
   },
   {
    "duration": 2118,
    "start_time": "2021-06-18T16:17:20.097Z"
   },
   {
    "duration": 54,
    "start_time": "2021-06-18T16:17:22.218Z"
   },
   {
    "duration": 1900,
    "start_time": "2021-06-18T16:17:22.274Z"
   },
   {
    "duration": 8,
    "start_time": "2021-06-18T16:17:24.176Z"
   },
   {
    "duration": 185,
    "start_time": "2021-06-18T16:17:24.187Z"
   },
   {
    "duration": 8,
    "start_time": "2021-06-18T16:17:24.375Z"
   },
   {
    "duration": 9,
    "start_time": "2021-06-18T16:17:24.385Z"
   },
   {
    "duration": 22,
    "start_time": "2021-06-18T16:17:24.396Z"
   },
   {
    "duration": 11,
    "start_time": "2021-06-18T16:17:24.421Z"
   },
   {
    "duration": 9,
    "start_time": "2021-06-18T16:17:24.456Z"
   },
   {
    "duration": 5,
    "start_time": "2021-06-18T16:17:24.469Z"
   },
   {
    "duration": 26,
    "start_time": "2021-06-18T16:17:24.477Z"
   },
   {
    "duration": 4,
    "start_time": "2021-06-18T16:17:24.506Z"
   },
   {
    "duration": 41,
    "start_time": "2021-06-18T16:17:24.516Z"
   },
   {
    "duration": 4,
    "start_time": "2021-06-18T16:17:24.561Z"
   },
   {
    "duration": 481,
    "start_time": "2021-06-18T16:17:24.568Z"
   },
   {
    "duration": 61,
    "start_time": "2021-06-18T16:17:25.056Z"
   },
   {
    "duration": 5,
    "start_time": "2021-06-18T16:17:25.119Z"
   },
   {
    "duration": 45,
    "start_time": "2021-06-18T16:17:25.126Z"
   },
   {
    "duration": 14,
    "start_time": "2021-06-18T16:17:25.174Z"
   },
   {
    "duration": 23,
    "start_time": "2021-06-18T16:17:25.190Z"
   },
   {
    "duration": 828,
    "start_time": "2021-06-18T16:17:25.215Z"
   },
   {
    "duration": 141998,
    "start_time": "2021-06-18T16:17:26.045Z"
   },
   {
    "duration": 10,
    "start_time": "2021-06-18T16:19:48.045Z"
   },
   {
    "duration": 1408,
    "start_time": "2021-06-18T16:19:48.059Z"
   },
   {
    "duration": 688,
    "start_time": "2021-06-18T16:19:49.470Z"
   },
   {
    "duration": 6,
    "start_time": "2021-06-18T16:19:50.160Z"
   },
   {
    "duration": 12,
    "start_time": "2021-06-18T16:19:50.169Z"
   },
   {
    "duration": 22,
    "start_time": "2021-06-18T16:19:50.183Z"
   },
   {
    "duration": 1996,
    "start_time": "2021-06-18T16:19:50.207Z"
   },
   {
    "duration": 4,
    "start_time": "2021-06-18T16:19:52.206Z"
   },
   {
    "duration": 2206,
    "start_time": "2021-06-18T16:19:52.213Z"
   },
   {
    "duration": 3492,
    "start_time": "2021-06-18T16:21:28.036Z"
   },
   {
    "duration": 2374,
    "start_time": "2021-06-18T16:22:32.260Z"
   },
   {
    "duration": 2239,
    "start_time": "2021-06-18T16:23:52.291Z"
   },
   {
    "duration": 3707,
    "start_time": "2021-06-18T16:25:06.410Z"
   },
   {
    "duration": 2059,
    "start_time": "2021-06-18T16:26:36.179Z"
   },
   {
    "duration": 1892,
    "start_time": "2021-06-18T16:27:00.100Z"
   },
   {
    "duration": 2044,
    "start_time": "2021-06-18T16:27:12.419Z"
   },
   {
    "duration": 1643,
    "start_time": "2021-06-18T16:27:25.823Z"
   },
   {
    "duration": 1736,
    "start_time": "2021-06-18T16:27:34.031Z"
   },
   {
    "duration": 1736,
    "start_time": "2021-06-18T16:27:52.129Z"
   },
   {
    "duration": 1850,
    "start_time": "2021-06-18T16:28:28.672Z"
   },
   {
    "duration": 3143,
    "start_time": "2021-06-18T16:28:40.794Z"
   },
   {
    "duration": 1607,
    "start_time": "2021-06-18T16:28:51.348Z"
   },
   {
    "duration": 1755,
    "start_time": "2021-06-18T16:29:42.738Z"
   },
   {
    "duration": 1663,
    "start_time": "2021-06-18T16:30:24.271Z"
   },
   {
    "duration": 1381,
    "start_time": "2021-06-18T16:31:20.388Z"
   },
   {
    "duration": 1653,
    "start_time": "2021-06-18T16:31:40.821Z"
   },
   {
    "duration": 1468,
    "start_time": "2021-06-18T16:32:01.215Z"
   },
   {
    "duration": 1611,
    "start_time": "2021-06-18T16:34:24.334Z"
   },
   {
    "duration": 1364,
    "start_time": "2021-06-18T16:34:53.438Z"
   },
   {
    "duration": 1590,
    "start_time": "2021-06-18T16:35:05.853Z"
   },
   {
    "duration": 96,
    "start_time": "2021-06-18T16:35:51.414Z"
   },
   {
    "duration": 1691,
    "start_time": "2021-06-18T16:36:03.006Z"
   },
   {
    "duration": 3092,
    "start_time": "2021-06-18T16:36:26.216Z"
   },
   {
    "duration": 3059,
    "start_time": "2021-06-18T16:37:29.808Z"
   },
   {
    "duration": 3011,
    "start_time": "2021-06-18T16:39:49.597Z"
   },
   {
    "duration": 3689,
    "start_time": "2021-06-18T16:41:23.267Z"
   },
   {
    "duration": 1457,
    "start_time": "2021-06-18T16:41:49.401Z"
   },
   {
    "duration": 30,
    "start_time": "2021-06-18T16:41:50.863Z"
   },
   {
    "duration": 100,
    "start_time": "2021-06-18T16:41:50.897Z"
   },
   {
    "duration": 11,
    "start_time": "2021-06-18T16:41:51.000Z"
   },
   {
    "duration": 13,
    "start_time": "2021-06-18T16:41:51.013Z"
   },
   {
    "duration": 29,
    "start_time": "2021-06-18T16:41:51.029Z"
   },
   {
    "duration": 23,
    "start_time": "2021-06-18T16:41:51.061Z"
   },
   {
    "duration": 4,
    "start_time": "2021-06-18T16:41:51.088Z"
   },
   {
    "duration": 3014,
    "start_time": "2021-06-18T16:41:51.095Z"
   },
   {
    "duration": 4359,
    "start_time": "2021-06-18T16:41:54.111Z"
   },
   {
    "duration": 31,
    "start_time": "2021-06-18T16:41:58.473Z"
   },
   {
    "duration": 2030,
    "start_time": "2021-06-18T16:41:58.507Z"
   },
   {
    "duration": 17,
    "start_time": "2021-06-18T16:42:00.539Z"
   },
   {
    "duration": 106,
    "start_time": "2021-06-18T16:42:00.560Z"
   },
   {
    "duration": 8,
    "start_time": "2021-06-18T16:42:00.673Z"
   },
   {
    "duration": 24,
    "start_time": "2021-06-18T16:42:00.684Z"
   },
   {
    "duration": 16,
    "start_time": "2021-06-18T16:42:00.711Z"
   },
   {
    "duration": 22,
    "start_time": "2021-06-18T16:42:00.730Z"
   },
   {
    "duration": 16,
    "start_time": "2021-06-18T16:42:00.756Z"
   },
   {
    "duration": 22,
    "start_time": "2021-06-18T16:42:00.775Z"
   },
   {
    "duration": 30,
    "start_time": "2021-06-18T16:42:00.800Z"
   },
   {
    "duration": 4,
    "start_time": "2021-06-18T16:42:00.833Z"
   },
   {
    "duration": 24,
    "start_time": "2021-06-18T16:42:00.842Z"
   },
   {
    "duration": 22,
    "start_time": "2021-06-18T16:42:00.870Z"
   },
   {
    "duration": 492,
    "start_time": "2021-06-18T16:42:00.895Z"
   },
   {
    "duration": 86,
    "start_time": "2021-06-18T16:42:01.389Z"
   },
   {
    "duration": 6,
    "start_time": "2021-06-18T16:42:01.478Z"
   },
   {
    "duration": 42,
    "start_time": "2021-06-18T16:42:01.486Z"
   },
   {
    "duration": 15,
    "start_time": "2021-06-18T16:42:01.531Z"
   },
   {
    "duration": 54,
    "start_time": "2021-06-18T16:42:01.549Z"
   },
   {
    "duration": 944,
    "start_time": "2021-06-18T16:42:01.605Z"
   },
   {
    "duration": 144511,
    "start_time": "2021-06-18T16:42:02.551Z"
   },
   {
    "duration": 4,
    "start_time": "2021-06-18T16:44:27.065Z"
   },
   {
    "duration": 1593,
    "start_time": "2021-06-18T16:44:27.072Z"
   },
   {
    "duration": 788,
    "start_time": "2021-06-18T16:44:28.669Z"
   },
   {
    "duration": 7,
    "start_time": "2021-06-18T16:44:29.460Z"
   },
   {
    "duration": 9,
    "start_time": "2021-06-18T16:44:29.471Z"
   },
   {
    "duration": 21,
    "start_time": "2021-06-18T16:44:29.482Z"
   },
   {
    "duration": 2100,
    "start_time": "2021-06-18T16:44:29.505Z"
   },
   {
    "duration": 3,
    "start_time": "2021-06-18T16:44:31.608Z"
   },
   {
    "duration": 1983,
    "start_time": "2021-06-18T16:44:31.613Z"
   },
   {
    "duration": 3685,
    "start_time": "2021-06-18T16:44:33.600Z"
   },
   {
    "duration": 79,
    "start_time": "2021-06-18T17:01:39.175Z"
   },
   {
    "duration": 2656,
    "start_time": "2021-06-18T17:01:47.374Z"
   },
   {
    "duration": 2142,
    "start_time": "2021-06-18T17:02:25.380Z"
   },
   {
    "duration": 3570,
    "start_time": "2021-06-18T17:02:47.651Z"
   },
   {
    "duration": 2242,
    "start_time": "2021-06-18T17:05:06.078Z"
   },
   {
    "duration": 2382,
    "start_time": "2021-06-18T17:05:43.599Z"
   },
   {
    "duration": 3718,
    "start_time": "2021-06-18T17:05:52.069Z"
   },
   {
    "duration": 1517,
    "start_time": "2021-06-18T17:06:14.441Z"
   },
   {
    "duration": 29,
    "start_time": "2021-06-18T17:06:15.961Z"
   },
   {
    "duration": 101,
    "start_time": "2021-06-18T17:06:15.992Z"
   },
   {
    "duration": 11,
    "start_time": "2021-06-18T17:06:16.095Z"
   },
   {
    "duration": 7,
    "start_time": "2021-06-18T17:06:16.108Z"
   },
   {
    "duration": 6,
    "start_time": "2021-06-18T17:06:16.117Z"
   },
   {
    "duration": 21,
    "start_time": "2021-06-18T17:06:16.157Z"
   },
   {
    "duration": 4,
    "start_time": "2021-06-18T17:06:16.182Z"
   },
   {
    "duration": 3106,
    "start_time": "2021-06-18T17:06:16.189Z"
   },
   {
    "duration": 4417,
    "start_time": "2021-06-18T17:06:19.297Z"
   },
   {
    "duration": 43,
    "start_time": "2021-06-18T17:06:23.717Z"
   },
   {
    "duration": 1858,
    "start_time": "2021-06-18T17:06:23.763Z"
   },
   {
    "duration": 7,
    "start_time": "2021-06-18T17:06:25.623Z"
   },
   {
    "duration": 102,
    "start_time": "2021-06-18T17:06:25.632Z"
   },
   {
    "duration": 8,
    "start_time": "2021-06-18T17:06:25.736Z"
   },
   {
    "duration": 13,
    "start_time": "2021-06-18T17:06:25.746Z"
   },
   {
    "duration": 15,
    "start_time": "2021-06-18T17:06:25.762Z"
   },
   {
    "duration": 24,
    "start_time": "2021-06-18T17:06:25.779Z"
   },
   {
    "duration": 16,
    "start_time": "2021-06-18T17:06:25.806Z"
   },
   {
    "duration": 9,
    "start_time": "2021-06-18T17:06:25.825Z"
   },
   {
    "duration": 36,
    "start_time": "2021-06-18T17:06:25.836Z"
   },
   {
    "duration": 4,
    "start_time": "2021-06-18T17:06:25.875Z"
   },
   {
    "duration": 7,
    "start_time": "2021-06-18T17:06:25.884Z"
   },
   {
    "duration": 7,
    "start_time": "2021-06-18T17:06:25.894Z"
   },
   {
    "duration": 488,
    "start_time": "2021-06-18T17:06:25.903Z"
   },
   {
    "duration": 66,
    "start_time": "2021-06-18T17:06:26.393Z"
   },
   {
    "duration": 6,
    "start_time": "2021-06-18T17:06:26.462Z"
   },
   {
    "duration": 34,
    "start_time": "2021-06-18T17:06:26.471Z"
   },
   {
    "duration": 24,
    "start_time": "2021-06-18T17:06:26.508Z"
   },
   {
    "duration": 36,
    "start_time": "2021-06-18T17:06:26.535Z"
   },
   {
    "duration": 949,
    "start_time": "2021-06-18T17:06:26.576Z"
   },
   {
    "duration": 140845,
    "start_time": "2021-06-18T17:06:27.527Z"
   },
   {
    "duration": 3,
    "start_time": "2021-06-18T17:08:48.374Z"
   },
   {
    "duration": 1891,
    "start_time": "2021-06-18T17:08:48.379Z"
   },
   {
    "duration": 686,
    "start_time": "2021-06-18T17:08:50.272Z"
   },
   {
    "duration": 5,
    "start_time": "2021-06-18T17:08:50.960Z"
   },
   {
    "duration": 13,
    "start_time": "2021-06-18T17:08:50.967Z"
   },
   {
    "duration": 25,
    "start_time": "2021-06-18T17:08:50.982Z"
   },
   {
    "duration": 3320,
    "start_time": "2021-06-18T17:08:51.009Z"
   },
   {
    "duration": 3,
    "start_time": "2021-06-18T17:08:54.332Z"
   },
   {
    "duration": 3574,
    "start_time": "2021-06-18T17:08:54.337Z"
   },
   {
    "duration": 5,
    "start_time": "2021-06-18T17:29:19.989Z"
   },
   {
    "duration": 14,
    "start_time": "2021-06-18T17:29:20.959Z"
   },
   {
    "duration": 15,
    "start_time": "2021-06-18T17:29:22.701Z"
   },
   {
    "duration": 1493,
    "start_time": "2021-06-18T18:03:26.238Z"
   },
   {
    "duration": 24,
    "start_time": "2021-06-18T18:03:27.733Z"
   },
   {
    "duration": 70,
    "start_time": "2021-06-18T18:03:27.760Z"
   },
   {
    "duration": 27,
    "start_time": "2021-06-18T18:03:27.833Z"
   },
   {
    "duration": 8,
    "start_time": "2021-06-18T18:03:27.862Z"
   },
   {
    "duration": 14,
    "start_time": "2021-06-18T18:03:27.872Z"
   },
   {
    "duration": 18,
    "start_time": "2021-06-18T18:03:27.888Z"
   },
   {
    "duration": 4,
    "start_time": "2021-06-18T18:03:27.910Z"
   },
   {
    "duration": 2824,
    "start_time": "2021-06-18T18:03:27.956Z"
   },
   {
    "duration": 4290,
    "start_time": "2021-06-18T18:03:30.782Z"
   },
   {
    "duration": 47,
    "start_time": "2021-06-18T18:03:35.076Z"
   },
   {
    "duration": 1785,
    "start_time": "2021-06-18T18:03:35.137Z"
   },
   {
    "duration": 8,
    "start_time": "2021-06-18T18:03:36.924Z"
   },
   {
    "duration": 94,
    "start_time": "2021-06-18T18:03:36.934Z"
   },
   {
    "duration": 7,
    "start_time": "2021-06-18T18:03:37.031Z"
   },
   {
    "duration": 35,
    "start_time": "2021-06-18T18:03:37.040Z"
   },
   {
    "duration": 13,
    "start_time": "2021-06-18T18:03:37.078Z"
   },
   {
    "duration": 10,
    "start_time": "2021-06-18T18:03:37.094Z"
   },
   {
    "duration": 6,
    "start_time": "2021-06-18T18:03:37.107Z"
   },
   {
    "duration": 6,
    "start_time": "2021-06-18T18:03:37.115Z"
   },
   {
    "duration": 47,
    "start_time": "2021-06-18T18:03:37.123Z"
   },
   {
    "duration": 4,
    "start_time": "2021-06-18T18:03:37.173Z"
   },
   {
    "duration": 7,
    "start_time": "2021-06-18T18:03:37.182Z"
   },
   {
    "duration": 5,
    "start_time": "2021-06-18T18:03:37.192Z"
   },
   {
    "duration": 452,
    "start_time": "2021-06-18T18:03:37.199Z"
   },
   {
    "duration": 58,
    "start_time": "2021-06-18T18:03:37.653Z"
   },
   {
    "duration": 5,
    "start_time": "2021-06-18T18:03:37.713Z"
   },
   {
    "duration": 392,
    "start_time": "2021-06-18T18:03:37.720Z"
   },
   {
    "duration": -1280,
    "start_time": "2021-06-18T18:03:39.395Z"
   },
   {
    "duration": -1290,
    "start_time": "2021-06-18T18:03:39.406Z"
   },
   {
    "duration": -1295,
    "start_time": "2021-06-18T18:03:39.413Z"
   },
   {
    "duration": -1301,
    "start_time": "2021-06-18T18:03:39.421Z"
   },
   {
    "duration": -1306,
    "start_time": "2021-06-18T18:03:39.428Z"
   },
   {
    "duration": -1312,
    "start_time": "2021-06-18T18:03:39.435Z"
   },
   {
    "duration": -1319,
    "start_time": "2021-06-18T18:03:39.444Z"
   },
   {
    "duration": -1324,
    "start_time": "2021-06-18T18:03:39.450Z"
   },
   {
    "duration": -1330,
    "start_time": "2021-06-18T18:03:39.457Z"
   },
   {
    "duration": -1336,
    "start_time": "2021-06-18T18:03:39.465Z"
   },
   {
    "duration": -1344,
    "start_time": "2021-06-18T18:03:39.474Z"
   },
   {
    "duration": -1347,
    "start_time": "2021-06-18T18:03:39.479Z"
   },
   {
    "duration": 1437,
    "start_time": "2021-06-18T18:06:38.226Z"
   },
   {
    "duration": 24,
    "start_time": "2021-06-18T18:06:39.666Z"
   },
   {
    "duration": 83,
    "start_time": "2021-06-18T18:06:39.693Z"
   },
   {
    "duration": 10,
    "start_time": "2021-06-18T18:06:39.779Z"
   },
   {
    "duration": 10,
    "start_time": "2021-06-18T18:06:39.792Z"
   },
   {
    "duration": 9,
    "start_time": "2021-06-18T18:06:39.805Z"
   },
   {
    "duration": 60,
    "start_time": "2021-06-18T18:06:39.816Z"
   },
   {
    "duration": 4,
    "start_time": "2021-06-18T18:06:39.880Z"
   },
   {
    "duration": 2816,
    "start_time": "2021-06-18T18:06:39.887Z"
   },
   {
    "duration": 4169,
    "start_time": "2021-06-18T18:06:42.705Z"
   },
   {
    "duration": 30,
    "start_time": "2021-06-18T18:06:46.877Z"
   },
   {
    "duration": 1837,
    "start_time": "2021-06-18T18:06:46.909Z"
   },
   {
    "duration": 7,
    "start_time": "2021-06-18T18:06:48.755Z"
   },
   {
    "duration": 92,
    "start_time": "2021-06-18T18:06:48.764Z"
   },
   {
    "duration": 7,
    "start_time": "2021-06-18T18:06:48.858Z"
   },
   {
    "duration": 8,
    "start_time": "2021-06-18T18:06:48.867Z"
   },
   {
    "duration": 12,
    "start_time": "2021-06-18T18:06:48.877Z"
   },
   {
    "duration": 9,
    "start_time": "2021-06-18T18:06:48.891Z"
   },
   {
    "duration": 7,
    "start_time": "2021-06-18T18:06:48.902Z"
   },
   {
    "duration": 3,
    "start_time": "2021-06-18T18:06:48.911Z"
   },
   {
    "duration": 20,
    "start_time": "2021-06-18T18:06:48.957Z"
   },
   {
    "duration": 4,
    "start_time": "2021-06-18T18:06:48.979Z"
   },
   {
    "duration": 6,
    "start_time": "2021-06-18T18:06:48.988Z"
   },
   {
    "duration": 3,
    "start_time": "2021-06-18T18:06:48.997Z"
   },
   {
    "duration": 459,
    "start_time": "2021-06-18T18:06:49.003Z"
   },
   {
    "duration": 58,
    "start_time": "2021-06-18T18:06:49.464Z"
   },
   {
    "duration": 5,
    "start_time": "2021-06-18T18:06:49.524Z"
   },
   {
    "duration": 411,
    "start_time": "2021-06-18T18:06:49.532Z"
   },
   {
    "duration": -1259,
    "start_time": "2021-06-18T18:06:51.204Z"
   },
   {
    "duration": -1264,
    "start_time": "2021-06-18T18:06:51.211Z"
   },
   {
    "duration": -1277,
    "start_time": "2021-06-18T18:06:51.225Z"
   },
   {
    "duration": -1284,
    "start_time": "2021-06-18T18:06:51.233Z"
   },
   {
    "duration": -1288,
    "start_time": "2021-06-18T18:06:51.239Z"
   },
   {
    "duration": -1295,
    "start_time": "2021-06-18T18:06:51.247Z"
   },
   {
    "duration": -1300,
    "start_time": "2021-06-18T18:06:51.253Z"
   },
   {
    "duration": -1305,
    "start_time": "2021-06-18T18:06:51.260Z"
   },
   {
    "duration": -1309,
    "start_time": "2021-06-18T18:06:51.265Z"
   },
   {
    "duration": -1315,
    "start_time": "2021-06-18T18:06:51.272Z"
   },
   {
    "duration": -1320,
    "start_time": "2021-06-18T18:06:51.279Z"
   },
   {
    "duration": -1344,
    "start_time": "2021-06-18T18:06:51.304Z"
   },
   {
    "duration": 1524,
    "start_time": "2021-06-18T18:08:50.653Z"
   },
   {
    "duration": 36,
    "start_time": "2021-06-18T18:08:52.180Z"
   },
   {
    "duration": 104,
    "start_time": "2021-06-18T18:08:52.220Z"
   },
   {
    "duration": 10,
    "start_time": "2021-06-18T18:08:52.326Z"
   },
   {
    "duration": 23,
    "start_time": "2021-06-18T18:08:52.339Z"
   },
   {
    "duration": 16,
    "start_time": "2021-06-18T18:08:52.364Z"
   },
   {
    "duration": 21,
    "start_time": "2021-06-18T18:08:52.383Z"
   },
   {
    "duration": 4,
    "start_time": "2021-06-18T18:08:52.409Z"
   },
   {
    "duration": 2781,
    "start_time": "2021-06-18T18:08:52.417Z"
   },
   {
    "duration": 4569,
    "start_time": "2021-06-18T18:08:55.201Z"
   },
   {
    "duration": 31,
    "start_time": "2021-06-18T18:08:59.773Z"
   },
   {
    "duration": 1860,
    "start_time": "2021-06-18T18:08:59.807Z"
   },
   {
    "duration": 7,
    "start_time": "2021-06-18T18:09:01.670Z"
   },
   {
    "duration": 102,
    "start_time": "2021-06-18T18:09:01.679Z"
   },
   {
    "duration": 7,
    "start_time": "2021-06-18T18:09:01.783Z"
   },
   {
    "duration": 20,
    "start_time": "2021-06-18T18:09:01.793Z"
   },
   {
    "duration": 21,
    "start_time": "2021-06-18T18:09:01.816Z"
   },
   {
    "duration": 20,
    "start_time": "2021-06-18T18:09:01.840Z"
   },
   {
    "duration": 19,
    "start_time": "2021-06-18T18:09:01.862Z"
   },
   {
    "duration": 26,
    "start_time": "2021-06-18T18:09:01.884Z"
   },
   {
    "duration": 29,
    "start_time": "2021-06-18T18:09:01.912Z"
   },
   {
    "duration": 9,
    "start_time": "2021-06-18T18:09:01.944Z"
   },
   {
    "duration": 14,
    "start_time": "2021-06-18T18:09:01.958Z"
   },
   {
    "duration": 18,
    "start_time": "2021-06-18T18:09:01.975Z"
   },
   {
    "duration": 437,
    "start_time": "2021-06-18T18:09:01.996Z"
   },
   {
    "duration": 38,
    "start_time": "2021-06-18T18:09:02.435Z"
   },
   {
    "duration": 5,
    "start_time": "2021-06-18T18:09:02.476Z"
   },
   {
    "duration": 17,
    "start_time": "2021-06-18T18:09:02.483Z"
   },
   {
    "duration": 16,
    "start_time": "2021-06-18T18:09:02.502Z"
   },
   {
    "duration": 35,
    "start_time": "2021-06-18T18:09:02.520Z"
   },
   {
    "duration": 790,
    "start_time": "2021-06-18T18:09:02.558Z"
   },
   {
    "duration": 137647,
    "start_time": "2021-06-18T18:09:03.351Z"
   },
   {
    "duration": 3,
    "start_time": "2021-06-18T18:11:21.001Z"
   },
   {
    "duration": 1957,
    "start_time": "2021-06-18T18:11:21.006Z"
   },
   {
    "duration": 4,
    "start_time": "2021-06-18T18:11:22.966Z"
   },
   {
    "duration": 13,
    "start_time": "2021-06-18T18:11:22.972Z"
   },
   {
    "duration": 26,
    "start_time": "2021-06-18T18:11:22.988Z"
   },
   {
    "duration": 3270,
    "start_time": "2021-06-18T18:11:23.016Z"
   },
   {
    "duration": 4,
    "start_time": "2021-06-18T18:11:26.288Z"
   },
   {
    "duration": 3573,
    "start_time": "2021-06-18T18:11:26.294Z"
   },
   {
    "duration": 5,
    "start_time": "2021-06-18T18:12:05.379Z"
   },
   {
    "duration": 12,
    "start_time": "2021-06-18T18:12:06.748Z"
   },
   {
    "duration": 10,
    "start_time": "2021-06-18T18:12:07.883Z"
   },
   {
    "duration": 1423,
    "start_time": "2021-06-18T18:13:47.547Z"
   },
   {
    "duration": 27,
    "start_time": "2021-06-18T18:13:48.973Z"
   },
   {
    "duration": 87,
    "start_time": "2021-06-18T18:13:49.003Z"
   },
   {
    "duration": 11,
    "start_time": "2021-06-18T18:13:49.093Z"
   },
   {
    "duration": 7,
    "start_time": "2021-06-18T18:13:49.107Z"
   },
   {
    "duration": 41,
    "start_time": "2021-06-18T18:13:49.116Z"
   },
   {
    "duration": 15,
    "start_time": "2021-06-18T18:13:49.160Z"
   },
   {
    "duration": 4,
    "start_time": "2021-06-18T18:13:49.179Z"
   },
   {
    "duration": 3029,
    "start_time": "2021-06-18T18:13:49.186Z"
   },
   {
    "duration": 4114,
    "start_time": "2021-06-18T18:13:52.218Z"
   },
   {
    "duration": 47,
    "start_time": "2021-06-18T18:13:56.335Z"
   },
   {
    "duration": 1776,
    "start_time": "2021-06-18T18:13:56.386Z"
   },
   {
    "duration": 10,
    "start_time": "2021-06-18T18:13:58.165Z"
   },
   {
    "duration": 123,
    "start_time": "2021-06-18T18:13:58.178Z"
   },
   {
    "duration": 7,
    "start_time": "2021-06-18T18:13:58.303Z"
   },
   {
    "duration": 18,
    "start_time": "2021-06-18T18:13:58.313Z"
   },
   {
    "duration": 23,
    "start_time": "2021-06-18T18:13:58.334Z"
   },
   {
    "duration": 20,
    "start_time": "2021-06-18T18:13:58.359Z"
   },
   {
    "duration": 25,
    "start_time": "2021-06-18T18:13:58.381Z"
   },
   {
    "duration": 20,
    "start_time": "2021-06-18T18:13:58.408Z"
   },
   {
    "duration": 35,
    "start_time": "2021-06-18T18:13:58.431Z"
   },
   {
    "duration": 3,
    "start_time": "2021-06-18T18:13:58.469Z"
   },
   {
    "duration": 26,
    "start_time": "2021-06-18T18:13:58.477Z"
   },
   {
    "duration": 23,
    "start_time": "2021-06-18T18:13:58.506Z"
   },
   {
    "duration": 431,
    "start_time": "2021-06-18T18:13:58.532Z"
   },
   {
    "duration": 30,
    "start_time": "2021-06-18T18:13:58.965Z"
   },
   {
    "duration": 4,
    "start_time": "2021-06-18T18:13:58.998Z"
   },
   {
    "duration": 23,
    "start_time": "2021-06-18T18:13:59.005Z"
   },
   {
    "duration": 29,
    "start_time": "2021-06-18T18:13:59.030Z"
   },
   {
    "duration": 18,
    "start_time": "2021-06-18T18:13:59.061Z"
   },
   {
    "duration": 793,
    "start_time": "2021-06-18T18:13:59.081Z"
   },
   {
    "duration": 136550,
    "start_time": "2021-06-18T18:13:59.877Z"
   },
   {
    "duration": 4,
    "start_time": "2021-06-18T18:16:16.430Z"
   },
   {
    "duration": 1719,
    "start_time": "2021-06-18T18:16:16.438Z"
   },
   {
    "duration": 4,
    "start_time": "2021-06-18T18:16:18.159Z"
   },
   {
    "duration": 10,
    "start_time": "2021-06-18T18:16:18.165Z"
   },
   {
    "duration": 18,
    "start_time": "2021-06-18T18:16:18.178Z"
   },
   {
    "duration": 3314,
    "start_time": "2021-06-18T18:16:18.198Z"
   },
   {
    "duration": 4,
    "start_time": "2021-06-18T18:16:21.515Z"
   },
   {
    "duration": 3441,
    "start_time": "2021-06-18T18:16:21.521Z"
   },
   {
    "duration": 4,
    "start_time": "2021-06-18T18:23:20.211Z"
   },
   {
    "duration": 1991,
    "start_time": "2021-06-18T18:23:21.467Z"
   },
   {
    "duration": 4,
    "start_time": "2021-06-18T18:23:23.460Z"
   },
   {
    "duration": 8,
    "start_time": "2021-06-18T18:23:25.020Z"
   },
   {
    "duration": 19,
    "start_time": "2021-06-18T18:23:26.958Z"
   },
   {
    "duration": 21,
    "start_time": "2021-06-18T18:23:31.013Z"
   },
   {
    "duration": 3,
    "start_time": "2021-06-18T18:23:35.625Z"
   },
   {
    "duration": 1885,
    "start_time": "2021-06-18T18:23:36.278Z"
   },
   {
    "duration": 5,
    "start_time": "2021-06-18T18:23:38.166Z"
   },
   {
    "duration": 19,
    "start_time": "2021-06-18T18:23:38.175Z"
   },
   {
    "duration": 18,
    "start_time": "2021-06-18T18:23:39.449Z"
   },
   {
    "duration": 3569,
    "start_time": "2021-06-18T18:44:25.319Z"
   },
   {
    "duration": 4117,
    "start_time": "2021-06-18T18:44:33.313Z"
   },
   {
    "duration": 4,
    "start_time": "2021-06-18T18:44:59.962Z"
   },
   {
    "duration": 1646,
    "start_time": "2021-06-18T18:45:01.518Z"
   },
   {
    "duration": 5,
    "start_time": "2021-06-18T18:45:03.167Z"
   },
   {
    "duration": 101,
    "start_time": "2021-06-18T18:45:03.176Z"
   },
   {
    "duration": 20,
    "start_time": "2021-06-18T18:45:05.716Z"
   },
   {
    "duration": 1546,
    "start_time": "2021-06-18T18:45:34.501Z"
   },
   {
    "duration": 36,
    "start_time": "2021-06-18T18:45:36.050Z"
   },
   {
    "duration": 93,
    "start_time": "2021-06-18T18:45:36.090Z"
   },
   {
    "duration": 11,
    "start_time": "2021-06-18T18:45:36.186Z"
   },
   {
    "duration": 14,
    "start_time": "2021-06-18T18:45:36.199Z"
   },
   {
    "duration": 13,
    "start_time": "2021-06-18T18:45:36.216Z"
   },
   {
    "duration": 38,
    "start_time": "2021-06-18T18:45:36.231Z"
   },
   {
    "duration": 5,
    "start_time": "2021-06-18T18:45:36.276Z"
   },
   {
    "duration": 3163,
    "start_time": "2021-06-18T18:45:36.284Z"
   },
   {
    "duration": 4933,
    "start_time": "2021-06-18T18:45:39.450Z"
   },
   {
    "duration": 48,
    "start_time": "2021-06-18T18:45:44.386Z"
   },
   {
    "duration": 2000,
    "start_time": "2021-06-18T18:45:44.437Z"
   },
   {
    "duration": 17,
    "start_time": "2021-06-18T18:45:46.440Z"
   },
   {
    "duration": 96,
    "start_time": "2021-06-18T18:45:46.460Z"
   },
   {
    "duration": 11,
    "start_time": "2021-06-18T18:45:46.559Z"
   },
   {
    "duration": 8,
    "start_time": "2021-06-18T18:45:46.574Z"
   },
   {
    "duration": 11,
    "start_time": "2021-06-18T18:45:46.585Z"
   },
   {
    "duration": 12,
    "start_time": "2021-06-18T18:45:46.598Z"
   },
   {
    "duration": 43,
    "start_time": "2021-06-18T18:45:46.613Z"
   },
   {
    "duration": 5,
    "start_time": "2021-06-18T18:45:46.659Z"
   },
   {
    "duration": 29,
    "start_time": "2021-06-18T18:45:46.667Z"
   },
   {
    "duration": 4,
    "start_time": "2021-06-18T18:45:46.699Z"
   },
   {
    "duration": 12,
    "start_time": "2021-06-18T18:45:46.711Z"
   },
   {
    "duration": 4,
    "start_time": "2021-06-18T18:45:46.758Z"
   },
   {
    "duration": 586,
    "start_time": "2021-06-18T18:45:46.775Z"
   },
   {
    "duration": 39,
    "start_time": "2021-06-18T18:45:47.367Z"
   },
   {
    "duration": 5,
    "start_time": "2021-06-18T18:45:47.408Z"
   },
   {
    "duration": 11,
    "start_time": "2021-06-18T18:45:47.416Z"
   },
   {
    "duration": 14,
    "start_time": "2021-06-18T18:45:47.457Z"
   },
   {
    "duration": 24,
    "start_time": "2021-06-18T18:45:47.475Z"
   },
   {
    "duration": 858,
    "start_time": "2021-06-18T18:45:47.502Z"
   },
   {
    "duration": 155129,
    "start_time": "2021-06-18T18:45:48.364Z"
   },
   {
    "duration": 3,
    "start_time": "2021-06-18T18:48:23.496Z"
   },
   {
    "duration": 1960,
    "start_time": "2021-06-18T18:48:23.501Z"
   },
   {
    "duration": 6,
    "start_time": "2021-06-18T18:48:25.465Z"
   },
   {
    "duration": 19,
    "start_time": "2021-06-18T18:48:25.474Z"
   },
   {
    "duration": 20,
    "start_time": "2021-06-18T18:48:25.496Z"
   },
   {
    "duration": 3591,
    "start_time": "2021-06-18T18:48:25.519Z"
   },
   {
    "duration": 4,
    "start_time": "2021-06-18T18:48:29.113Z"
   },
   {
    "duration": 3688,
    "start_time": "2021-06-18T18:48:29.120Z"
   },
   {
    "duration": 1785,
    "start_time": "2021-06-18T19:11:50.493Z"
   },
   {
    "duration": 37,
    "start_time": "2021-06-18T19:11:52.281Z"
   },
   {
    "duration": 116,
    "start_time": "2021-06-18T19:11:52.322Z"
   },
   {
    "duration": 26,
    "start_time": "2021-06-18T19:11:52.442Z"
   },
   {
    "duration": 9,
    "start_time": "2021-06-18T19:11:52.471Z"
   },
   {
    "duration": 8,
    "start_time": "2021-06-18T19:11:52.483Z"
   },
   {
    "duration": 21,
    "start_time": "2021-06-18T19:11:52.494Z"
   },
   {
    "duration": 4,
    "start_time": "2021-06-18T19:11:52.560Z"
   },
   {
    "duration": 2959,
    "start_time": "2021-06-18T19:11:52.567Z"
   },
   {
    "duration": 4211,
    "start_time": "2021-06-18T19:11:55.529Z"
   },
   {
    "duration": 40,
    "start_time": "2021-06-18T19:11:59.742Z"
   },
   {
    "duration": 1738,
    "start_time": "2021-06-18T19:11:59.785Z"
   },
   {
    "duration": 9,
    "start_time": "2021-06-18T19:12:01.526Z"
   },
   {
    "duration": 99,
    "start_time": "2021-06-18T19:12:01.538Z"
   },
   {
    "duration": 16,
    "start_time": "2021-06-18T19:12:01.640Z"
   },
   {
    "duration": 11,
    "start_time": "2021-06-18T19:12:01.658Z"
   },
   {
    "duration": 12,
    "start_time": "2021-06-18T19:12:01.672Z"
   },
   {
    "duration": 19,
    "start_time": "2021-06-18T19:12:01.686Z"
   },
   {
    "duration": 14,
    "start_time": "2021-06-18T19:12:01.708Z"
   },
   {
    "duration": 25,
    "start_time": "2021-06-18T19:12:01.725Z"
   },
   {
    "duration": 28,
    "start_time": "2021-06-18T19:12:01.752Z"
   },
   {
    "duration": 4,
    "start_time": "2021-06-18T19:12:01.782Z"
   },
   {
    "duration": 17,
    "start_time": "2021-06-18T19:12:01.791Z"
   },
   {
    "duration": 16,
    "start_time": "2021-06-18T19:12:01.811Z"
   },
   {
    "duration": 656,
    "start_time": "2021-06-18T19:12:01.830Z"
   },
   {
    "duration": 42,
    "start_time": "2021-06-18T19:12:02.489Z"
   },
   {
    "duration": 22,
    "start_time": "2021-06-18T19:12:02.534Z"
   },
   {
    "duration": 14,
    "start_time": "2021-06-18T19:12:02.558Z"
   },
   {
    "duration": 12,
    "start_time": "2021-06-18T19:12:02.575Z"
   },
   {
    "duration": 29,
    "start_time": "2021-06-18T19:12:02.590Z"
   },
   {
    "duration": 1237,
    "start_time": "2021-06-18T19:12:02.622Z"
   },
   {
    "duration": 190571,
    "start_time": "2021-06-18T19:12:03.862Z"
   },
   {
    "duration": 4,
    "start_time": "2021-06-18T19:15:14.436Z"
   },
   {
    "duration": 1721,
    "start_time": "2021-06-18T19:15:14.443Z"
   },
   {
    "duration": 5,
    "start_time": "2021-06-18T19:15:16.258Z"
   },
   {
    "duration": 14,
    "start_time": "2021-06-18T19:15:16.266Z"
   },
   {
    "duration": 27,
    "start_time": "2021-06-18T19:15:16.283Z"
   },
   {
    "duration": 3637,
    "start_time": "2021-06-18T19:15:16.313Z"
   },
   {
    "duration": 4,
    "start_time": "2021-06-18T19:15:19.956Z"
   },
   {
    "duration": 3616,
    "start_time": "2021-06-18T19:15:19.962Z"
   },
   {
    "duration": 7306,
    "start_time": "2021-06-18T20:20:06.955Z"
   },
   {
    "duration": 193,
    "start_time": "2021-06-18T20:20:14.264Z"
   },
   {
    "duration": 497,
    "start_time": "2021-06-18T20:20:14.460Z"
   },
   {
    "duration": 99,
    "start_time": "2021-06-18T20:20:14.960Z"
   },
   {
    "duration": 99,
    "start_time": "2021-06-18T20:20:15.061Z"
   },
   {
    "duration": 91,
    "start_time": "2021-06-18T20:20:15.163Z"
   },
   {
    "duration": 112,
    "start_time": "2021-06-18T20:20:15.257Z"
   },
   {
    "duration": 85,
    "start_time": "2021-06-18T20:20:15.372Z"
   },
   {
    "duration": 17194,
    "start_time": "2021-06-18T20:20:15.463Z"
   },
   {
    "duration": 27099,
    "start_time": "2021-06-18T20:20:32.661Z"
   },
   {
    "duration": 201,
    "start_time": "2021-06-18T20:20:59.763Z"
   },
   {
    "duration": 9798,
    "start_time": "2021-06-18T20:20:59.968Z"
   },
   {
    "duration": 8,
    "start_time": "2021-06-18T20:21:09.861Z"
   },
   {
    "duration": 2498,
    "start_time": "2021-06-18T20:21:09.872Z"
   },
   {
    "duration": 8,
    "start_time": "2021-06-18T20:21:12.372Z"
   },
   {
    "duration": 77,
    "start_time": "2021-06-18T20:21:12.382Z"
   },
   {
    "duration": 17,
    "start_time": "2021-06-18T20:21:12.462Z"
   },
   {
    "duration": 102,
    "start_time": "2021-06-18T20:21:12.554Z"
   },
   {
    "duration": 12,
    "start_time": "2021-06-18T20:21:12.660Z"
   },
   {
    "duration": 112,
    "start_time": "2021-06-18T20:21:12.756Z"
   },
   {
    "duration": 99,
    "start_time": "2021-06-18T20:21:12.870Z"
   },
   {
    "duration": 83,
    "start_time": "2021-06-18T20:21:12.972Z"
   },
   {
    "duration": 99,
    "start_time": "2021-06-18T20:21:13.058Z"
   },
   {
    "duration": 98,
    "start_time": "2021-06-18T20:21:13.159Z"
   },
   {
    "duration": 3395,
    "start_time": "2021-06-18T20:21:13.260Z"
   },
   {
    "duration": 296,
    "start_time": "2021-06-18T20:21:16.659Z"
   },
   {
    "duration": 6,
    "start_time": "2021-06-18T20:21:16.962Z"
   },
   {
    "duration": 96,
    "start_time": "2021-06-18T20:21:16.972Z"
   },
   {
    "duration": 94,
    "start_time": "2021-06-18T20:21:17.070Z"
   },
   {
    "duration": 197,
    "start_time": "2021-06-18T20:21:17.167Z"
   },
   {
    "duration": 4698,
    "start_time": "2021-06-18T20:21:17.367Z"
   },
   {
    "duration": 646725,
    "start_time": "2021-06-18T20:21:22.068Z"
   },
   {
    "duration": 3,
    "start_time": "2021-06-18T20:32:08.796Z"
   },
   {
    "duration": 1660,
    "start_time": "2021-06-18T20:32:08.802Z"
   },
   {
    "duration": 5,
    "start_time": "2021-06-18T20:32:10.555Z"
   },
   {
    "duration": 10,
    "start_time": "2021-06-18T20:32:10.562Z"
   },
   {
    "duration": 21,
    "start_time": "2021-06-18T20:32:10.575Z"
   },
   {
    "duration": 3350,
    "start_time": "2021-06-18T20:32:10.599Z"
   },
   {
    "duration": 3,
    "start_time": "2021-06-18T20:32:13.955Z"
   },
   {
    "duration": 3462,
    "start_time": "2021-06-18T20:32:13.960Z"
   },
   {
    "duration": 1540,
    "start_time": "2021-06-20T13:43:25.932Z"
   },
   {
    "duration": 33,
    "start_time": "2021-06-20T13:43:27.475Z"
   },
   {
    "duration": 84,
    "start_time": "2021-06-20T13:43:27.512Z"
   },
   {
    "duration": 28,
    "start_time": "2021-06-20T13:43:27.600Z"
   },
   {
    "duration": 8,
    "start_time": "2021-06-20T13:43:27.630Z"
   },
   {
    "duration": 15,
    "start_time": "2021-06-20T13:43:27.640Z"
   },
   {
    "duration": 17,
    "start_time": "2021-06-20T13:43:27.657Z"
   },
   {
    "duration": 4,
    "start_time": "2021-06-20T13:43:27.678Z"
   },
   {
    "duration": 3009,
    "start_time": "2021-06-20T13:43:27.685Z"
   },
   {
    "duration": 4373,
    "start_time": "2021-06-20T13:43:30.697Z"
   },
   {
    "duration": 30,
    "start_time": "2021-06-20T13:43:35.072Z"
   },
   {
    "duration": 1837,
    "start_time": "2021-06-20T13:43:35.104Z"
   },
   {
    "duration": 8,
    "start_time": "2021-06-20T13:43:36.944Z"
   },
   {
    "duration": 106,
    "start_time": "2021-06-20T13:43:36.955Z"
   },
   {
    "duration": 8,
    "start_time": "2021-06-20T13:43:37.063Z"
   },
   {
    "duration": 7,
    "start_time": "2021-06-20T13:43:37.073Z"
   },
   {
    "duration": 26,
    "start_time": "2021-06-20T13:43:37.083Z"
   },
   {
    "duration": 23,
    "start_time": "2021-06-20T13:43:37.111Z"
   },
   {
    "duration": 7,
    "start_time": "2021-06-20T13:43:37.136Z"
   },
   {
    "duration": 21,
    "start_time": "2021-06-20T13:43:37.145Z"
   },
   {
    "duration": 29,
    "start_time": "2021-06-20T13:43:37.169Z"
   },
   {
    "duration": 4,
    "start_time": "2021-06-20T13:43:37.201Z"
   },
   {
    "duration": 18,
    "start_time": "2021-06-20T13:43:37.210Z"
   },
   {
    "duration": 15,
    "start_time": "2021-06-20T13:43:37.231Z"
   },
   {
    "duration": 464,
    "start_time": "2021-06-20T13:43:37.249Z"
   },
   {
    "duration": 41,
    "start_time": "2021-06-20T13:43:37.715Z"
   },
   {
    "duration": 6,
    "start_time": "2021-06-20T13:43:37.758Z"
   },
   {
    "duration": 14,
    "start_time": "2021-06-20T13:43:37.766Z"
   },
   {
    "duration": 10,
    "start_time": "2021-06-20T13:43:37.783Z"
   },
   {
    "duration": 20,
    "start_time": "2021-06-20T13:43:37.826Z"
   },
   {
    "duration": 810,
    "start_time": "2021-06-20T13:43:37.848Z"
   },
   {
    "duration": 140325,
    "start_time": "2021-06-20T13:43:38.661Z"
   },
   {
    "duration": 4,
    "start_time": "2021-06-20T13:45:58.988Z"
   },
   {
    "duration": 1832,
    "start_time": "2021-06-20T13:45:58.994Z"
   },
   {
    "duration": 5,
    "start_time": "2021-06-20T13:46:00.828Z"
   },
   {
    "duration": 18,
    "start_time": "2021-06-20T13:46:00.836Z"
   },
   {
    "duration": 26,
    "start_time": "2021-06-20T13:46:00.856Z"
   },
   {
    "duration": 3441,
    "start_time": "2021-06-20T13:46:00.884Z"
   },
   {
    "duration": 3,
    "start_time": "2021-06-20T13:46:04.328Z"
   },
   {
    "duration": 3569,
    "start_time": "2021-06-20T13:46:04.333Z"
   },
   {
    "duration": 1483,
    "start_time": "2021-06-20T14:07:30.263Z"
   },
   {
    "duration": 25,
    "start_time": "2021-06-20T14:07:31.748Z"
   },
   {
    "duration": 82,
    "start_time": "2021-06-20T14:07:31.777Z"
   },
   {
    "duration": 11,
    "start_time": "2021-06-20T14:07:31.861Z"
   },
   {
    "duration": 8,
    "start_time": "2021-06-20T14:07:31.875Z"
   },
   {
    "duration": 7,
    "start_time": "2021-06-20T14:07:31.886Z"
   },
   {
    "duration": 19,
    "start_time": "2021-06-20T14:07:31.927Z"
   },
   {
    "duration": 4,
    "start_time": "2021-06-20T14:07:31.951Z"
   },
   {
    "duration": 3096,
    "start_time": "2021-06-20T14:07:31.959Z"
   },
   {
    "duration": 4308,
    "start_time": "2021-06-20T14:07:35.058Z"
   },
   {
    "duration": 32,
    "start_time": "2021-06-20T14:07:39.369Z"
   },
   {
    "duration": 1768,
    "start_time": "2021-06-20T14:07:39.424Z"
   },
   {
    "duration": 8,
    "start_time": "2021-06-20T14:07:41.195Z"
   },
   {
    "duration": 88,
    "start_time": "2021-06-20T14:07:41.226Z"
   },
   {
    "duration": 13,
    "start_time": "2021-06-20T14:07:41.317Z"
   },
   {
    "duration": 8,
    "start_time": "2021-06-20T14:07:41.333Z"
   },
   {
    "duration": 16,
    "start_time": "2021-06-20T14:07:41.343Z"
   },
   {
    "duration": 9,
    "start_time": "2021-06-20T14:07:41.362Z"
   },
   {
    "duration": 7,
    "start_time": "2021-06-20T14:07:41.373Z"
   },
   {
    "duration": 45,
    "start_time": "2021-06-20T14:07:41.382Z"
   },
   {
    "duration": 25,
    "start_time": "2021-06-20T14:07:41.429Z"
   },
   {
    "duration": 3,
    "start_time": "2021-06-20T14:07:41.457Z"
   },
   {
    "duration": 6,
    "start_time": "2021-06-20T14:07:41.465Z"
   },
   {
    "duration": 7,
    "start_time": "2021-06-20T14:07:41.474Z"
   },
   {
    "duration": 483,
    "start_time": "2021-06-20T14:07:41.483Z"
   },
   {
    "duration": 32,
    "start_time": "2021-06-20T14:07:41.969Z"
   },
   {
    "duration": 6,
    "start_time": "2021-06-20T14:07:42.003Z"
   },
   {
    "duration": 10,
    "start_time": "2021-06-20T14:07:42.026Z"
   },
   {
    "duration": 9,
    "start_time": "2021-06-20T14:07:42.038Z"
   },
   {
    "duration": 18,
    "start_time": "2021-06-20T14:07:42.050Z"
   },
   {
    "duration": 903,
    "start_time": "2021-06-20T14:07:42.070Z"
   },
   {
    "duration": 139617,
    "start_time": "2021-06-20T14:07:42.975Z"
   },
   {
    "duration": 3,
    "start_time": "2021-06-20T14:10:02.595Z"
   },
   {
    "duration": 1735,
    "start_time": "2021-06-20T14:10:02.600Z"
   },
   {
    "duration": 4,
    "start_time": "2021-06-20T14:10:04.426Z"
   },
   {
    "duration": 14,
    "start_time": "2021-06-20T14:10:04.433Z"
   },
   {
    "duration": 22,
    "start_time": "2021-06-20T14:10:04.449Z"
   },
   {
    "duration": 3439,
    "start_time": "2021-06-20T14:10:04.474Z"
   },
   {
    "duration": 3,
    "start_time": "2021-06-20T14:10:07.916Z"
   },
   {
    "duration": 3768,
    "start_time": "2021-06-20T14:10:07.921Z"
   }
  ],
  "kernelspec": {
   "display_name": "Python 3",
   "language": "python",
   "name": "python3"
  },
  "language_info": {
   "codemirror_mode": {
    "name": "ipython",
    "version": 3
   },
   "file_extension": ".py",
   "mimetype": "text/x-python",
   "name": "python",
   "nbconvert_exporter": "python",
   "pygments_lexer": "ipython3",
   "version": "3.7.8"
  },
  "toc": {
   "base_numbering": 1,
   "nav_menu": {},
   "number_sections": true,
   "sideBar": true,
   "skip_h1_title": true,
   "title_cell": "Table of Contents",
   "title_sidebar": "Contents",
   "toc_cell": false,
   "toc_position": {},
   "toc_section_display": true,
   "toc_window_display": false
  }
 },
 "nbformat": 4,
 "nbformat_minor": 2
}
